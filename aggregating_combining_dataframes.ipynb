{
 "cells": [
  {
   "cell_type": "markdown",
   "metadata": {
    "toc": true
   },
   "source": [
    "<h1>Table of Contents<span class=\"tocSkip\"></span></h1>\n",
    "<div class=\"toc\"><ul class=\"toc-item\"><li><span><a href=\"#Aggregating-and-Combining-pandas-DataFrames\" data-toc-modified-id=\"Aggregating-and-Combining-pandas-DataFrames-1\"><span class=\"toc-item-num\">1&nbsp;&nbsp;</span>Aggregating and Combining <code>pandas</code> DataFrames</a></span><ul class=\"toc-item\"><li><span><a href=\"#Learning-Goals\" data-toc-modified-id=\"Learning-Goals-1.1\"><span class=\"toc-item-num\">1.1&nbsp;&nbsp;</span>Learning Goals</a></span><ul class=\"toc-item\"><li><span><a href=\"#Austin-Animal-Center-Data\" data-toc-modified-id=\"Austin-Animal-Center-Data-1.1.1\"><span class=\"toc-item-num\">1.1.1&nbsp;&nbsp;</span>Austin Animal Center Data</a></span></li></ul></li><li><span><a href=\"#Aggregating-over-DataFrames:-.groupby()\" data-toc-modified-id=\"Aggregating-over-DataFrames:-.groupby()-1.2\"><span class=\"toc-item-num\">1.2&nbsp;&nbsp;</span>Aggregating over DataFrames: <code>.groupby()</code></a></span><ul class=\"toc-item\"><li><span><a href=\"#.groups-and-.get_group()\" data-toc-modified-id=\".groups-and-.get_group()-1.2.1\"><span class=\"toc-item-num\">1.2.1&nbsp;&nbsp;</span><code>.groups</code> and <code>.get_group()</code></a></span><ul class=\"toc-item\"><li><span><a href=\"#Multi-Indexing\" data-toc-modified-id=\"Multi-Indexing-1.2.1.1\"><span class=\"toc-item-num\">1.2.1.1&nbsp;&nbsp;</span>Multi-Indexing</a></span></li></ul></li><li><span><a href=\"#Aggregating\" data-toc-modified-id=\"Aggregating-1.2.2\"><span class=\"toc-item-num\">1.2.2&nbsp;&nbsp;</span>Aggregating</a></span></li><li><span><a href=\"#Exercise\" data-toc-modified-id=\"Exercise-1.2.3\"><span class=\"toc-item-num\">1.2.3&nbsp;&nbsp;</span>Exercise</a></span></li></ul></li><li><span><a href=\"#Pivoting-a-DataFrame\" data-toc-modified-id=\"Pivoting-a-DataFrame-1.3\"><span class=\"toc-item-num\">1.3&nbsp;&nbsp;</span>Pivoting a DataFrame</a></span><ul class=\"toc-item\"><li><span><a href=\"#.pivot_table()\" data-toc-modified-id=\".pivot_table()-1.3.1\"><span class=\"toc-item-num\">1.3.1&nbsp;&nbsp;</span><code>.pivot_table()</code></a></span><ul class=\"toc-item\"><li><span><a href=\"#Example\" data-toc-modified-id=\"Example-1.3.1.1\"><span class=\"toc-item-num\">1.3.1.1&nbsp;&nbsp;</span>Example</a></span></li><li><span><a href=\"#Back-to-Austin-animals\" data-toc-modified-id=\"Back-to-Austin-animals-1.3.1.2\"><span class=\"toc-item-num\">1.3.1.2&nbsp;&nbsp;</span>Back to Austin animals</a></span></li></ul></li><li><span><a href=\"#Exercise\" data-toc-modified-id=\"Exercise-1.3.2\"><span class=\"toc-item-num\">1.3.2&nbsp;&nbsp;</span>Exercise</a></span></li></ul></li><li><span><a href=\"#Methods-for-Combining-DataFrames:-.join(),-.merge(),-pd.concat()\" data-toc-modified-id=\"Methods-for-Combining-DataFrames:-.join(),-.merge(),-pd.concat()-1.4\"><span class=\"toc-item-num\">1.4&nbsp;&nbsp;</span>Methods for Combining DataFrames: <code>.join()</code>, <code>.merge()</code>, <code>pd.concat()</code></a></span><ul class=\"toc-item\"><li><span><a href=\"#.join()\" data-toc-modified-id=\".join()-1.4.1\"><span class=\"toc-item-num\">1.4.1&nbsp;&nbsp;</span><code>.join()</code></a></span></li><li><span><a href=\"#.merge()\" data-toc-modified-id=\".merge()-1.4.2\"><span class=\"toc-item-num\">1.4.2&nbsp;&nbsp;</span><code>.merge()</code></a></span></li><li><span><a href=\"#The-how-Parameter\" data-toc-modified-id=\"The-how-Parameter-1.4.3\"><span class=\"toc-item-num\">1.4.3&nbsp;&nbsp;</span>The <code>how</code> Parameter</a></span></li><li><span><a href=\"#pd.concat()\" data-toc-modified-id=\"pd.concat()-1.4.4\"><span class=\"toc-item-num\">1.4.4&nbsp;&nbsp;</span><code>pd.concat()</code></a></span></li><li><span><a href=\"#EXTRA\" data-toc-modified-id=\"EXTRA-1.4.5\"><span class=\"toc-item-num\">1.4.5&nbsp;&nbsp;</span>EXTRA</a></span></li></ul></li><li><span><a href=\"#King-County-Assessments\" data-toc-modified-id=\"King-County-Assessments-1.5\"><span class=\"toc-item-num\">1.5&nbsp;&nbsp;</span>King County Assessments</a></span><ul class=\"toc-item\"><li><span><a href=\"#First,-get-the-data!\" data-toc-modified-id=\"First,-get-the-data!-1.5.1\"><span class=\"toc-item-num\">1.5.1&nbsp;&nbsp;</span>First, get the data!</a></span></li><li><span><a href=\"#Exercise\" data-toc-modified-id=\"Exercise-1.5.2\"><span class=\"toc-item-num\">1.5.2&nbsp;&nbsp;</span>Exercise</a></span></li></ul></li><li><span><a href=\"#Time-Permitting:-Data-Cleaning-with-Pandas\" data-toc-modified-id=\"Time-Permitting:-Data-Cleaning-with-Pandas-1.6\"><span class=\"toc-item-num\">1.6&nbsp;&nbsp;</span>Time Permitting: Data Cleaning with Pandas</a></span><ul class=\"toc-item\"><li><span><a href=\"#1.-Investigate-and-drop-rows-with-invalid-values-in-the-SalePrice-and-SqFtTotLiving-columns.\" data-toc-modified-id=\"1.-Investigate-and-drop-rows-with-invalid-values-in-the-SalePrice-and-SqFtTotLiving-columns.-1.6.1\"><span class=\"toc-item-num\">1.6.1&nbsp;&nbsp;</span>1. Investigate and drop rows with invalid values in the SalePrice and SqFtTotLiving columns.</a></span></li><li><span><a href=\"#2.-Investigate-and-handle-non-numeric-ZipCode-values\" data-toc-modified-id=\"2.-Investigate-and-handle-non-numeric-ZipCode-values-1.6.2\"><span class=\"toc-item-num\">1.6.2&nbsp;&nbsp;</span>2. Investigate and handle non-numeric ZipCode values</a></span></li><li><span><a href=\"#3.-Add-a-column-for-PricePerSqFt\" data-toc-modified-id=\"3.-Add-a-column-for-PricePerSqFt-1.6.3\"><span class=\"toc-item-num\">1.6.3&nbsp;&nbsp;</span>3. Add a column for PricePerSqFt</a></span></li><li><span><a href=\"#4.-Subset-the-data-to-2021-sales-only.\" data-toc-modified-id=\"4.-Subset-the-data-to-2021-sales-only.-1.6.4\"><span class=\"toc-item-num\">1.6.4&nbsp;&nbsp;</span>4. Subset the data to 2021 sales only.</a></span></li><li><span><a href=\"#5.-What-is-the-mean-price-per-square-foot-for-a-house-sold-in-Seattle-in-2021?\" data-toc-modified-id=\"5.-What-is-the-mean-price-per-square-foot-for-a-house-sold-in-Seattle-in-2021?-1.6.5\"><span class=\"toc-item-num\">1.6.5&nbsp;&nbsp;</span>5. What is the mean price per square foot for a house sold in Seattle in 2021?</a></span></li></ul></li><li><span><a href=\"#Level-Up:-pandas.set_option()\" data-toc-modified-id=\"Level-Up:-pandas.set_option()-1.7\"><span class=\"toc-item-num\">1.7&nbsp;&nbsp;</span>Level Up: <code>pandas.set_option()</code></a></span><ul class=\"toc-item\"><li><span><a href=\"#Block-Scientific-Notation\" data-toc-modified-id=\"Block-Scientific-Notation-1.7.1\"><span class=\"toc-item-num\">1.7.1&nbsp;&nbsp;</span>Block Scientific Notation</a></span></li><li><span><a href=\"#See-More-Rows\" data-toc-modified-id=\"See-More-Rows-1.7.2\"><span class=\"toc-item-num\">1.7.2&nbsp;&nbsp;</span>See More Rows</a></span></li></ul></li></ul></li></ul></div>"
   ]
  },
  {
   "cell_type": "markdown",
   "metadata": {
    "heading_collapsed": true
   },
   "source": [
    "# Aggregating and Combining `pandas` DataFrames"
   ]
  },
  {
   "cell_type": "code",
   "execution_count": 1,
   "metadata": {
    "ExecuteTime": {
     "end_time": "2022-08-04T14:14:20.745695Z",
     "start_time": "2022-08-04T14:14:20.741721Z"
    },
    "hidden": true
   },
   "outputs": [],
   "source": [
    "import pandas as pd\n",
    "import numpy as np\n",
    "import requests as rq\n",
    "from sklearn.preprocessing import OneHotEncoder\n",
    "from zipfile import ZipFile"
   ]
  },
  {
   "cell_type": "markdown",
   "metadata": {
    "heading_collapsed": true
   },
   "source": [
    "## Learning Goals"
   ]
  },
  {
   "cell_type": "markdown",
   "metadata": {
    "hidden": true
   },
   "source": [
    "- Use GroupBy objects to organize and aggregate data\n",
    "- Create pivot tables from DataFrames\n",
    "- Combine DataFrames by merging and appending "
   ]
  },
  {
   "cell_type": "markdown",
   "metadata": {
    "hidden": true
   },
   "source": [
    "We'll work with the Austin Animal Center dataset and with data from King County's Department of Assessments (Seattle housing data)."
   ]
  },
  {
   "cell_type": "markdown",
   "metadata": {
    "heading_collapsed": true,
    "hidden": true
   },
   "source": [
    "### Austin Animal Center Data"
   ]
  },
  {
   "cell_type": "code",
   "execution_count": 2,
   "metadata": {
    "ExecuteTime": {
     "end_time": "2022-08-04T14:14:22.423970Z",
     "start_time": "2022-08-04T14:14:21.056065Z"
    },
    "hidden": true
   },
   "outputs": [],
   "source": [
    "data = rq.get('https://data.austintexas.gov/resource/9t4d-g238.json').text"
   ]
  },
  {
   "cell_type": "code",
   "execution_count": 3,
   "metadata": {
    "ExecuteTime": {
     "end_time": "2022-08-04T14:14:22.466284Z",
     "start_time": "2022-08-04T14:14:22.426449Z"
    },
    "hidden": true
   },
   "outputs": [
    {
     "name": "stderr",
     "output_type": "stream",
     "text": [
      "/var/folders/pn/v9tvzf9s5ms7zcp53821ct0m0000gn/T/ipykernel_10668/2013551082.py:1: FutureWarning: Passing literal json to 'read_json' is deprecated and will be removed in a future version. To read from a literal string, wrap it in a 'StringIO' object.\n",
      "  animals = pd.read_json(data)\n"
     ]
    }
   ],
   "source": [
    "animals = pd.read_json(data)"
   ]
  },
  {
   "cell_type": "code",
   "execution_count": 4,
   "metadata": {
    "ExecuteTime": {
     "end_time": "2022-08-04T14:14:22.477103Z",
     "start_time": "2022-08-04T14:14:22.469079Z"
    },
    "hidden": true
   },
   "outputs": [
    {
     "data": {
      "text/html": [
       "<div>\n",
       "<style scoped>\n",
       "    .dataframe tbody tr th:only-of-type {\n",
       "        vertical-align: middle;\n",
       "    }\n",
       "\n",
       "    .dataframe tbody tr th {\n",
       "        vertical-align: top;\n",
       "    }\n",
       "\n",
       "    .dataframe thead th {\n",
       "        text-align: right;\n",
       "    }\n",
       "</style>\n",
       "<table border=\"1\" class=\"dataframe\">\n",
       "  <thead>\n",
       "    <tr style=\"text-align: right;\">\n",
       "      <th></th>\n",
       "      <th>animal_id</th>\n",
       "      <th>name</th>\n",
       "      <th>datetime</th>\n",
       "      <th>monthyear</th>\n",
       "      <th>date_of_birth</th>\n",
       "      <th>outcome_type</th>\n",
       "      <th>animal_type</th>\n",
       "      <th>sex_upon_outcome</th>\n",
       "      <th>age_upon_outcome</th>\n",
       "      <th>breed</th>\n",
       "      <th>color</th>\n",
       "      <th>outcome_subtype</th>\n",
       "    </tr>\n",
       "  </thead>\n",
       "  <tbody>\n",
       "    <tr>\n",
       "      <th>0</th>\n",
       "      <td>A794011</td>\n",
       "      <td>Chunk</td>\n",
       "      <td>2019-05-08 18:20:00</td>\n",
       "      <td>2019-05-08T18:20:00.000</td>\n",
       "      <td>2017-05-02T00:00:00.000</td>\n",
       "      <td>Rto-Adopt</td>\n",
       "      <td>Cat</td>\n",
       "      <td>Neutered Male</td>\n",
       "      <td>2 years</td>\n",
       "      <td>Domestic Shorthair Mix</td>\n",
       "      <td>Brown Tabby/White</td>\n",
       "      <td>NaN</td>\n",
       "    </tr>\n",
       "    <tr>\n",
       "      <th>1</th>\n",
       "      <td>A776359</td>\n",
       "      <td>Gizmo</td>\n",
       "      <td>2018-07-18 16:02:00</td>\n",
       "      <td>2018-07-18T16:02:00.000</td>\n",
       "      <td>2017-07-12T00:00:00.000</td>\n",
       "      <td>Adoption</td>\n",
       "      <td>Dog</td>\n",
       "      <td>Neutered Male</td>\n",
       "      <td>1 year</td>\n",
       "      <td>Chihuahua Shorthair Mix</td>\n",
       "      <td>White/Brown</td>\n",
       "      <td>NaN</td>\n",
       "    </tr>\n",
       "    <tr>\n",
       "      <th>2</th>\n",
       "      <td>A821648</td>\n",
       "      <td>NaN</td>\n",
       "      <td>2020-08-16 11:38:00</td>\n",
       "      <td>2020-08-16T11:38:00.000</td>\n",
       "      <td>2019-08-16T00:00:00.000</td>\n",
       "      <td>Euthanasia</td>\n",
       "      <td>Other</td>\n",
       "      <td>Unknown</td>\n",
       "      <td>1 year</td>\n",
       "      <td>Raccoon</td>\n",
       "      <td>Gray</td>\n",
       "      <td>NaN</td>\n",
       "    </tr>\n",
       "    <tr>\n",
       "      <th>3</th>\n",
       "      <td>A720371</td>\n",
       "      <td>Moose</td>\n",
       "      <td>2016-02-13 17:59:00</td>\n",
       "      <td>2016-02-13T17:59:00.000</td>\n",
       "      <td>2015-10-08T00:00:00.000</td>\n",
       "      <td>Adoption</td>\n",
       "      <td>Dog</td>\n",
       "      <td>Neutered Male</td>\n",
       "      <td>4 months</td>\n",
       "      <td>Anatol Shepherd/Labrador Retriever</td>\n",
       "      <td>Buff</td>\n",
       "      <td>NaN</td>\n",
       "    </tr>\n",
       "    <tr>\n",
       "      <th>4</th>\n",
       "      <td>A674754</td>\n",
       "      <td>NaN</td>\n",
       "      <td>2014-03-18 11:47:00</td>\n",
       "      <td>2014-03-18T11:47:00.000</td>\n",
       "      <td>2014-03-12T00:00:00.000</td>\n",
       "      <td>Transfer</td>\n",
       "      <td>Cat</td>\n",
       "      <td>Intact Male</td>\n",
       "      <td>6 days</td>\n",
       "      <td>Domestic Shorthair Mix</td>\n",
       "      <td>Orange Tabby</td>\n",
       "      <td>Partner</td>\n",
       "    </tr>\n",
       "  </tbody>\n",
       "</table>\n",
       "</div>"
      ],
      "text/plain": [
       "  animal_id   name            datetime                monthyear  \\\n",
       "0   A794011  Chunk 2019-05-08 18:20:00  2019-05-08T18:20:00.000   \n",
       "1   A776359  Gizmo 2018-07-18 16:02:00  2018-07-18T16:02:00.000   \n",
       "2   A821648    NaN 2020-08-16 11:38:00  2020-08-16T11:38:00.000   \n",
       "3   A720371  Moose 2016-02-13 17:59:00  2016-02-13T17:59:00.000   \n",
       "4   A674754    NaN 2014-03-18 11:47:00  2014-03-18T11:47:00.000   \n",
       "\n",
       "             date_of_birth outcome_type animal_type sex_upon_outcome  \\\n",
       "0  2017-05-02T00:00:00.000    Rto-Adopt         Cat    Neutered Male   \n",
       "1  2017-07-12T00:00:00.000     Adoption         Dog    Neutered Male   \n",
       "2  2019-08-16T00:00:00.000   Euthanasia       Other          Unknown   \n",
       "3  2015-10-08T00:00:00.000     Adoption         Dog    Neutered Male   \n",
       "4  2014-03-12T00:00:00.000     Transfer         Cat      Intact Male   \n",
       "\n",
       "  age_upon_outcome                               breed              color  \\\n",
       "0          2 years              Domestic Shorthair Mix  Brown Tabby/White   \n",
       "1           1 year             Chihuahua Shorthair Mix        White/Brown   \n",
       "2           1 year                             Raccoon               Gray   \n",
       "3         4 months  Anatol Shepherd/Labrador Retriever               Buff   \n",
       "4           6 days              Domestic Shorthair Mix       Orange Tabby   \n",
       "\n",
       "  outcome_subtype  \n",
       "0             NaN  \n",
       "1             NaN  \n",
       "2             NaN  \n",
       "3             NaN  \n",
       "4         Partner  "
      ]
     },
     "execution_count": 4,
     "metadata": {},
     "output_type": "execute_result"
    }
   ],
   "source": [
    "animals.head()"
   ]
  },
  {
   "cell_type": "markdown",
   "metadata": {},
   "source": [
    "## Aggregating over DataFrames: `.groupby()`"
   ]
  },
  {
   "cell_type": "markdown",
   "metadata": {},
   "source": [
    "Those of you familiar with SQL have probably used the GROUP BY command. (And if you haven't, you'll see it very soon!) Pandas has this, too.\n",
    "\n",
    "The `.groupby()` method is especially useful for aggregate functions applied to the data grouped in particular ways."
   ]
  },
  {
   "cell_type": "code",
   "execution_count": 5,
   "metadata": {
    "ExecuteTime": {
     "end_time": "2022-08-04T14:14:22.481077Z",
     "start_time": "2022-08-04T14:14:22.478561Z"
    }
   },
   "outputs": [
    {
     "data": {
      "text/plain": [
       "<pandas.core.groupby.generic.DataFrameGroupBy object at 0x1371782d0>"
      ]
     },
     "execution_count": 5,
     "metadata": {},
     "output_type": "execute_result"
    }
   ],
   "source": [
    "animals.groupby('animal_type')"
   ]
  },
  {
   "cell_type": "code",
   "execution_count": 6,
   "metadata": {
    "ExecuteTime": {
     "end_time": "2022-08-04T14:14:22.484289Z",
     "start_time": "2022-08-04T14:14:22.482027Z"
    }
   },
   "outputs": [
    {
     "data": {
      "text/plain": [
       "Index(['animal_id', 'name', 'datetime', 'monthyear', 'date_of_birth',\n",
       "       'outcome_type', 'animal_type', 'sex_upon_outcome', 'age_upon_outcome',\n",
       "       'breed', 'color', 'outcome_subtype'],\n",
       "      dtype='object')"
      ]
     },
     "execution_count": 6,
     "metadata": {},
     "output_type": "execute_result"
    }
   ],
   "source": [
    "animals.columns"
   ]
  },
  {
   "cell_type": "markdown",
   "metadata": {},
   "source": [
    "We can group by multiple columns, and also return a DataFrameGroupBy object\n",
    "\n",
    "Notice the object type [DataFrameGroupBy](https://pandas.pydata.org/pandas-docs/stable/user_guide/groupby.html) object. "
   ]
  },
  {
   "cell_type": "markdown",
   "metadata": {},
   "source": [
    "### `.groups` and `.get_group()`"
   ]
  },
  {
   "cell_type": "code",
   "execution_count": 7,
   "metadata": {
    "ExecuteTime": {
     "end_time": "2022-08-04T14:14:22.487475Z",
     "start_time": "2022-08-04T14:14:22.485141Z"
    }
   },
   "outputs": [
    {
     "data": {
      "text/plain": [
       "<pandas.core.groupby.generic.DataFrameGroupBy object at 0x136e33550>"
      ]
     },
     "execution_count": 7,
     "metadata": {},
     "output_type": "execute_result"
    }
   ],
   "source": [
    "animals.groupby(['animal_type', 'outcome_type'])"
   ]
  },
  {
   "cell_type": "code",
   "execution_count": 8,
   "metadata": {
    "ExecuteTime": {
     "end_time": "2022-08-04T14:14:22.493202Z",
     "start_time": "2022-08-04T14:14:22.488474Z"
    }
   },
   "outputs": [
    {
     "data": {
      "text/plain": [
       "{'Bird': [170, 230, 592], 'Cat': [0, 4, 7, 8, 9, 11, 12, 15, 16, 18, 19, 20, 21, 22, 26, 28, 31, 33, 41, 44, 45, 58, 64, 66, 78, 79, 80, 82, 87, 91, 94, 97, 98, 103, 104, 106, 108, 109, 111, 112, 116, 129, 131, 132, 133, 134, 136, 138, 143, 157, 159, 160, 161, 164, 166, 167, 171, 172, 175, 176, 177, 178, 184, 187, 188, 191, 192, 197, 199, 205, 208, 213, 214, 215, 217, 223, 226, 227, 231, 233, 236, 239, 243, 247, 250, 251, 254, 255, 263, 265, 270, 271, 276, 277, 281, 282, 284, 288, 289, 294, ...], 'Dog': [1, 3, 5, 6, 10, 13, 14, 17, 23, 25, 27, 29, 30, 32, 35, 36, 37, 38, 39, 42, 43, 46, 47, 49, 50, 51, 52, 54, 55, 56, 57, 59, 60, 61, 62, 65, 67, 68, 69, 70, 71, 72, 73, 74, 75, 76, 77, 81, 85, 86, 88, 90, 92, 93, 95, 96, 99, 100, 101, 102, 105, 107, 110, 113, 114, 115, 118, 119, 120, 121, 122, 123, 124, 125, 126, 127, 128, 130, 135, 137, 139, 140, 141, 142, 144, 145, 146, 147, 148, 149, 150, 151, 152, 153, 154, 155, 156, 158, 162, 163, ...], 'Other': [2, 24, 34, 40, 48, 53, 63, 83, 84, 89, 117, 169, 193, 198, 206, 260, 268, 291, 311, 330, 383, 450, 455, 456, 467, 491, 529, 557, 583, 602, 630, 639, 640, 667, 670, 697, 700, 703, 780, 787, 797, 808, 816, 821, 843, 896, 925, 929, 950, 956, 977, 987]}"
      ]
     },
     "execution_count": 8,
     "metadata": {},
     "output_type": "execute_result"
    }
   ],
   "source": [
    "# This retuns each group indexed by the group name: I.E. 'Bird', along with the row indices of each value\n",
    "animals.groupby('animal_type').groups"
   ]
  },
  {
   "cell_type": "markdown",
   "metadata": {},
   "source": [
    "Once we know we are working with a type of object, it opens up a suite of attributes and methods. One attribute we can look at is groups."
   ]
  },
  {
   "cell_type": "code",
   "execution_count": 9,
   "metadata": {
    "ExecuteTime": {
     "end_time": "2022-08-04T14:14:22.507630Z",
     "start_time": "2022-08-04T14:14:22.494169Z"
    }
   },
   "outputs": [
    {
     "data": {
      "text/html": [
       "<div>\n",
       "<style scoped>\n",
       "    .dataframe tbody tr th:only-of-type {\n",
       "        vertical-align: middle;\n",
       "    }\n",
       "\n",
       "    .dataframe tbody tr th {\n",
       "        vertical-align: top;\n",
       "    }\n",
       "\n",
       "    .dataframe thead th {\n",
       "        text-align: right;\n",
       "    }\n",
       "</style>\n",
       "<table border=\"1\" class=\"dataframe\">\n",
       "  <thead>\n",
       "    <tr style=\"text-align: right;\">\n",
       "      <th></th>\n",
       "      <th>animal_id</th>\n",
       "      <th>name</th>\n",
       "      <th>datetime</th>\n",
       "      <th>monthyear</th>\n",
       "      <th>date_of_birth</th>\n",
       "      <th>outcome_type</th>\n",
       "      <th>animal_type</th>\n",
       "      <th>sex_upon_outcome</th>\n",
       "      <th>age_upon_outcome</th>\n",
       "      <th>breed</th>\n",
       "      <th>color</th>\n",
       "      <th>outcome_subtype</th>\n",
       "    </tr>\n",
       "  </thead>\n",
       "  <tbody>\n",
       "    <tr>\n",
       "      <th>1</th>\n",
       "      <td>A776359</td>\n",
       "      <td>Gizmo</td>\n",
       "      <td>2018-07-18 16:02:00</td>\n",
       "      <td>2018-07-18T16:02:00.000</td>\n",
       "      <td>2017-07-12T00:00:00.000</td>\n",
       "      <td>Adoption</td>\n",
       "      <td>Dog</td>\n",
       "      <td>Neutered Male</td>\n",
       "      <td>1 year</td>\n",
       "      <td>Chihuahua Shorthair Mix</td>\n",
       "      <td>White/Brown</td>\n",
       "      <td>NaN</td>\n",
       "    </tr>\n",
       "    <tr>\n",
       "      <th>3</th>\n",
       "      <td>A720371</td>\n",
       "      <td>Moose</td>\n",
       "      <td>2016-02-13 17:59:00</td>\n",
       "      <td>2016-02-13T17:59:00.000</td>\n",
       "      <td>2015-10-08T00:00:00.000</td>\n",
       "      <td>Adoption</td>\n",
       "      <td>Dog</td>\n",
       "      <td>Neutered Male</td>\n",
       "      <td>4 months</td>\n",
       "      <td>Anatol Shepherd/Labrador Retriever</td>\n",
       "      <td>Buff</td>\n",
       "      <td>NaN</td>\n",
       "    </tr>\n",
       "    <tr>\n",
       "      <th>5</th>\n",
       "      <td>A659412</td>\n",
       "      <td>Princess</td>\n",
       "      <td>2020-10-05 14:37:00</td>\n",
       "      <td>2020-10-05T14:37:00.000</td>\n",
       "      <td>2013-03-24T00:00:00.000</td>\n",
       "      <td>Adoption</td>\n",
       "      <td>Dog</td>\n",
       "      <td>Spayed Female</td>\n",
       "      <td>7 years</td>\n",
       "      <td>Chihuahua Shorthair Mix</td>\n",
       "      <td>Brown</td>\n",
       "      <td>NaN</td>\n",
       "    </tr>\n",
       "    <tr>\n",
       "      <th>6</th>\n",
       "      <td>A814515</td>\n",
       "      <td>Quentin</td>\n",
       "      <td>2020-05-06 07:59:00</td>\n",
       "      <td>2020-05-06T07:59:00.000</td>\n",
       "      <td>2018-03-01T00:00:00.000</td>\n",
       "      <td>Adoption</td>\n",
       "      <td>Dog</td>\n",
       "      <td>Neutered Male</td>\n",
       "      <td>2 years</td>\n",
       "      <td>American Foxhound/Labrador Retriever</td>\n",
       "      <td>White/Brown</td>\n",
       "      <td>Foster</td>\n",
       "    </tr>\n",
       "    <tr>\n",
       "      <th>10</th>\n",
       "      <td>A840370</td>\n",
       "      <td>Tulip</td>\n",
       "      <td>2021-08-19 19:36:00</td>\n",
       "      <td>2021-08-19T19:36:00.000</td>\n",
       "      <td>2019-08-06T00:00:00.000</td>\n",
       "      <td>Adoption</td>\n",
       "      <td>Dog</td>\n",
       "      <td>Spayed Female</td>\n",
       "      <td>2 years</td>\n",
       "      <td>Border Collie/Cardigan Welsh Corgi</td>\n",
       "      <td>Black/White</td>\n",
       "      <td>NaN</td>\n",
       "    </tr>\n",
       "    <tr>\n",
       "      <th>...</th>\n",
       "      <td>...</td>\n",
       "      <td>...</td>\n",
       "      <td>...</td>\n",
       "      <td>...</td>\n",
       "      <td>...</td>\n",
       "      <td>...</td>\n",
       "      <td>...</td>\n",
       "      <td>...</td>\n",
       "      <td>...</td>\n",
       "      <td>...</td>\n",
       "      <td>...</td>\n",
       "      <td>...</td>\n",
       "    </tr>\n",
       "    <tr>\n",
       "      <th>993</th>\n",
       "      <td>A689390</td>\n",
       "      <td>Jules</td>\n",
       "      <td>2014-10-08 11:25:00</td>\n",
       "      <td>2014-10-08T11:25:00.000</td>\n",
       "      <td>2013-10-03T00:00:00.000</td>\n",
       "      <td>Transfer</td>\n",
       "      <td>Dog</td>\n",
       "      <td>Intact Female</td>\n",
       "      <td>1 year</td>\n",
       "      <td>Doberman Pinsch Mix</td>\n",
       "      <td>Black/Brown</td>\n",
       "      <td>Partner</td>\n",
       "    </tr>\n",
       "    <tr>\n",
       "      <th>994</th>\n",
       "      <td>A811961</td>\n",
       "      <td>Lucas</td>\n",
       "      <td>2020-01-17 16:54:00</td>\n",
       "      <td>2020-01-17T16:54:00.000</td>\n",
       "      <td>2019-03-13T00:00:00.000</td>\n",
       "      <td>Adoption</td>\n",
       "      <td>Dog</td>\n",
       "      <td>Neutered Male</td>\n",
       "      <td>10 months</td>\n",
       "      <td>American Staffordshire Terrier/Labrador Retriever</td>\n",
       "      <td>Fawn/White</td>\n",
       "      <td>NaN</td>\n",
       "    </tr>\n",
       "    <tr>\n",
       "      <th>997</th>\n",
       "      <td>A705114</td>\n",
       "      <td>NaN</td>\n",
       "      <td>2015-06-13 15:47:00</td>\n",
       "      <td>2015-06-13T15:47:00.000</td>\n",
       "      <td>2015-06-11T00:00:00.000</td>\n",
       "      <td>Transfer</td>\n",
       "      <td>Dog</td>\n",
       "      <td>Intact Male</td>\n",
       "      <td>2 days</td>\n",
       "      <td>German Shepherd Mix</td>\n",
       "      <td>Brown</td>\n",
       "      <td>Partner</td>\n",
       "    </tr>\n",
       "    <tr>\n",
       "      <th>998</th>\n",
       "      <td>A800888</td>\n",
       "      <td>NaN</td>\n",
       "      <td>2019-08-01 15:27:00</td>\n",
       "      <td>2019-08-01T15:27:00.000</td>\n",
       "      <td>2019-07-03T00:00:00.000</td>\n",
       "      <td>Transfer</td>\n",
       "      <td>Dog</td>\n",
       "      <td>Intact Female</td>\n",
       "      <td>4 weeks</td>\n",
       "      <td>Cavalier Span</td>\n",
       "      <td>Black/White</td>\n",
       "      <td>Partner</td>\n",
       "    </tr>\n",
       "    <tr>\n",
       "      <th>999</th>\n",
       "      <td>A796517</td>\n",
       "      <td>Chiquis</td>\n",
       "      <td>2019-06-08 12:21:00</td>\n",
       "      <td>2019-06-08T12:21:00.000</td>\n",
       "      <td>2017-06-02T00:00:00.000</td>\n",
       "      <td>Adoption</td>\n",
       "      <td>Dog</td>\n",
       "      <td>Spayed Female</td>\n",
       "      <td>2 years</td>\n",
       "      <td>Chihuahua Shorthair Mix</td>\n",
       "      <td>Brown/White</td>\n",
       "      <td>NaN</td>\n",
       "    </tr>\n",
       "  </tbody>\n",
       "</table>\n",
       "<p>562 rows × 12 columns</p>\n",
       "</div>"
      ],
      "text/plain": [
       "    animal_id      name            datetime                monthyear  \\\n",
       "1     A776359     Gizmo 2018-07-18 16:02:00  2018-07-18T16:02:00.000   \n",
       "3     A720371     Moose 2016-02-13 17:59:00  2016-02-13T17:59:00.000   \n",
       "5     A659412  Princess 2020-10-05 14:37:00  2020-10-05T14:37:00.000   \n",
       "6     A814515   Quentin 2020-05-06 07:59:00  2020-05-06T07:59:00.000   \n",
       "10    A840370     Tulip 2021-08-19 19:36:00  2021-08-19T19:36:00.000   \n",
       "..        ...       ...                 ...                      ...   \n",
       "993   A689390     Jules 2014-10-08 11:25:00  2014-10-08T11:25:00.000   \n",
       "994   A811961     Lucas 2020-01-17 16:54:00  2020-01-17T16:54:00.000   \n",
       "997   A705114       NaN 2015-06-13 15:47:00  2015-06-13T15:47:00.000   \n",
       "998   A800888       NaN 2019-08-01 15:27:00  2019-08-01T15:27:00.000   \n",
       "999   A796517   Chiquis 2019-06-08 12:21:00  2019-06-08T12:21:00.000   \n",
       "\n",
       "               date_of_birth outcome_type animal_type sex_upon_outcome  \\\n",
       "1    2017-07-12T00:00:00.000     Adoption         Dog    Neutered Male   \n",
       "3    2015-10-08T00:00:00.000     Adoption         Dog    Neutered Male   \n",
       "5    2013-03-24T00:00:00.000     Adoption         Dog    Spayed Female   \n",
       "6    2018-03-01T00:00:00.000     Adoption         Dog    Neutered Male   \n",
       "10   2019-08-06T00:00:00.000     Adoption         Dog    Spayed Female   \n",
       "..                       ...          ...         ...              ...   \n",
       "993  2013-10-03T00:00:00.000     Transfer         Dog    Intact Female   \n",
       "994  2019-03-13T00:00:00.000     Adoption         Dog    Neutered Male   \n",
       "997  2015-06-11T00:00:00.000     Transfer         Dog      Intact Male   \n",
       "998  2019-07-03T00:00:00.000     Transfer         Dog    Intact Female   \n",
       "999  2017-06-02T00:00:00.000     Adoption         Dog    Spayed Female   \n",
       "\n",
       "    age_upon_outcome                                              breed  \\\n",
       "1             1 year                            Chihuahua Shorthair Mix   \n",
       "3           4 months                 Anatol Shepherd/Labrador Retriever   \n",
       "5            7 years                            Chihuahua Shorthair Mix   \n",
       "6            2 years               American Foxhound/Labrador Retriever   \n",
       "10           2 years                 Border Collie/Cardigan Welsh Corgi   \n",
       "..               ...                                                ...   \n",
       "993           1 year                                Doberman Pinsch Mix   \n",
       "994        10 months  American Staffordshire Terrier/Labrador Retriever   \n",
       "997           2 days                                German Shepherd Mix   \n",
       "998          4 weeks                                      Cavalier Span   \n",
       "999          2 years                            Chihuahua Shorthair Mix   \n",
       "\n",
       "           color outcome_subtype  \n",
       "1    White/Brown             NaN  \n",
       "3           Buff             NaN  \n",
       "5          Brown             NaN  \n",
       "6    White/Brown          Foster  \n",
       "10   Black/White             NaN  \n",
       "..           ...             ...  \n",
       "993  Black/Brown         Partner  \n",
       "994   Fawn/White             NaN  \n",
       "997        Brown         Partner  \n",
       "998  Black/White         Partner  \n",
       "999  Brown/White             NaN  \n",
       "\n",
       "[562 rows x 12 columns]"
      ]
     },
     "execution_count": 9,
     "metadata": {},
     "output_type": "execute_result"
    }
   ],
   "source": [
    "# Once we know the group indices, we can return the groups using those indices.\n",
    "animals.groupby('animal_type').get_group('Dog')"
   ]
  },
  {
   "cell_type": "markdown",
   "metadata": {},
   "source": [
    "How would you get the same dataframe using dataframe slicing?"
   ]
  },
  {
   "cell_type": "code",
   "execution_count": 11,
   "metadata": {},
   "outputs": [
    {
     "data": {
      "text/html": [
       "<div>\n",
       "<style scoped>\n",
       "    .dataframe tbody tr th:only-of-type {\n",
       "        vertical-align: middle;\n",
       "    }\n",
       "\n",
       "    .dataframe tbody tr th {\n",
       "        vertical-align: top;\n",
       "    }\n",
       "\n",
       "    .dataframe thead th {\n",
       "        text-align: right;\n",
       "    }\n",
       "</style>\n",
       "<table border=\"1\" class=\"dataframe\">\n",
       "  <thead>\n",
       "    <tr style=\"text-align: right;\">\n",
       "      <th></th>\n",
       "      <th>animal_id</th>\n",
       "      <th>name</th>\n",
       "      <th>datetime</th>\n",
       "      <th>monthyear</th>\n",
       "      <th>date_of_birth</th>\n",
       "      <th>outcome_type</th>\n",
       "      <th>animal_type</th>\n",
       "      <th>sex_upon_outcome</th>\n",
       "      <th>age_upon_outcome</th>\n",
       "      <th>breed</th>\n",
       "      <th>color</th>\n",
       "      <th>outcome_subtype</th>\n",
       "    </tr>\n",
       "  </thead>\n",
       "  <tbody>\n",
       "    <tr>\n",
       "      <th>1</th>\n",
       "      <td>A776359</td>\n",
       "      <td>Gizmo</td>\n",
       "      <td>2018-07-18 16:02:00</td>\n",
       "      <td>2018-07-18T16:02:00.000</td>\n",
       "      <td>2017-07-12T00:00:00.000</td>\n",
       "      <td>Adoption</td>\n",
       "      <td>Dog</td>\n",
       "      <td>Neutered Male</td>\n",
       "      <td>1 year</td>\n",
       "      <td>Chihuahua Shorthair Mix</td>\n",
       "      <td>White/Brown</td>\n",
       "      <td>NaN</td>\n",
       "    </tr>\n",
       "    <tr>\n",
       "      <th>3</th>\n",
       "      <td>A720371</td>\n",
       "      <td>Moose</td>\n",
       "      <td>2016-02-13 17:59:00</td>\n",
       "      <td>2016-02-13T17:59:00.000</td>\n",
       "      <td>2015-10-08T00:00:00.000</td>\n",
       "      <td>Adoption</td>\n",
       "      <td>Dog</td>\n",
       "      <td>Neutered Male</td>\n",
       "      <td>4 months</td>\n",
       "      <td>Anatol Shepherd/Labrador Retriever</td>\n",
       "      <td>Buff</td>\n",
       "      <td>NaN</td>\n",
       "    </tr>\n",
       "    <tr>\n",
       "      <th>5</th>\n",
       "      <td>A659412</td>\n",
       "      <td>Princess</td>\n",
       "      <td>2020-10-05 14:37:00</td>\n",
       "      <td>2020-10-05T14:37:00.000</td>\n",
       "      <td>2013-03-24T00:00:00.000</td>\n",
       "      <td>Adoption</td>\n",
       "      <td>Dog</td>\n",
       "      <td>Spayed Female</td>\n",
       "      <td>7 years</td>\n",
       "      <td>Chihuahua Shorthair Mix</td>\n",
       "      <td>Brown</td>\n",
       "      <td>NaN</td>\n",
       "    </tr>\n",
       "    <tr>\n",
       "      <th>6</th>\n",
       "      <td>A814515</td>\n",
       "      <td>Quentin</td>\n",
       "      <td>2020-05-06 07:59:00</td>\n",
       "      <td>2020-05-06T07:59:00.000</td>\n",
       "      <td>2018-03-01T00:00:00.000</td>\n",
       "      <td>Adoption</td>\n",
       "      <td>Dog</td>\n",
       "      <td>Neutered Male</td>\n",
       "      <td>2 years</td>\n",
       "      <td>American Foxhound/Labrador Retriever</td>\n",
       "      <td>White/Brown</td>\n",
       "      <td>Foster</td>\n",
       "    </tr>\n",
       "    <tr>\n",
       "      <th>10</th>\n",
       "      <td>A840370</td>\n",
       "      <td>Tulip</td>\n",
       "      <td>2021-08-19 19:36:00</td>\n",
       "      <td>2021-08-19T19:36:00.000</td>\n",
       "      <td>2019-08-06T00:00:00.000</td>\n",
       "      <td>Adoption</td>\n",
       "      <td>Dog</td>\n",
       "      <td>Spayed Female</td>\n",
       "      <td>2 years</td>\n",
       "      <td>Border Collie/Cardigan Welsh Corgi</td>\n",
       "      <td>Black/White</td>\n",
       "      <td>NaN</td>\n",
       "    </tr>\n",
       "    <tr>\n",
       "      <th>...</th>\n",
       "      <td>...</td>\n",
       "      <td>...</td>\n",
       "      <td>...</td>\n",
       "      <td>...</td>\n",
       "      <td>...</td>\n",
       "      <td>...</td>\n",
       "      <td>...</td>\n",
       "      <td>...</td>\n",
       "      <td>...</td>\n",
       "      <td>...</td>\n",
       "      <td>...</td>\n",
       "      <td>...</td>\n",
       "    </tr>\n",
       "    <tr>\n",
       "      <th>993</th>\n",
       "      <td>A689390</td>\n",
       "      <td>Jules</td>\n",
       "      <td>2014-10-08 11:25:00</td>\n",
       "      <td>2014-10-08T11:25:00.000</td>\n",
       "      <td>2013-10-03T00:00:00.000</td>\n",
       "      <td>Transfer</td>\n",
       "      <td>Dog</td>\n",
       "      <td>Intact Female</td>\n",
       "      <td>1 year</td>\n",
       "      <td>Doberman Pinsch Mix</td>\n",
       "      <td>Black/Brown</td>\n",
       "      <td>Partner</td>\n",
       "    </tr>\n",
       "    <tr>\n",
       "      <th>994</th>\n",
       "      <td>A811961</td>\n",
       "      <td>Lucas</td>\n",
       "      <td>2020-01-17 16:54:00</td>\n",
       "      <td>2020-01-17T16:54:00.000</td>\n",
       "      <td>2019-03-13T00:00:00.000</td>\n",
       "      <td>Adoption</td>\n",
       "      <td>Dog</td>\n",
       "      <td>Neutered Male</td>\n",
       "      <td>10 months</td>\n",
       "      <td>American Staffordshire Terrier/Labrador Retriever</td>\n",
       "      <td>Fawn/White</td>\n",
       "      <td>NaN</td>\n",
       "    </tr>\n",
       "    <tr>\n",
       "      <th>997</th>\n",
       "      <td>A705114</td>\n",
       "      <td>NaN</td>\n",
       "      <td>2015-06-13 15:47:00</td>\n",
       "      <td>2015-06-13T15:47:00.000</td>\n",
       "      <td>2015-06-11T00:00:00.000</td>\n",
       "      <td>Transfer</td>\n",
       "      <td>Dog</td>\n",
       "      <td>Intact Male</td>\n",
       "      <td>2 days</td>\n",
       "      <td>German Shepherd Mix</td>\n",
       "      <td>Brown</td>\n",
       "      <td>Partner</td>\n",
       "    </tr>\n",
       "    <tr>\n",
       "      <th>998</th>\n",
       "      <td>A800888</td>\n",
       "      <td>NaN</td>\n",
       "      <td>2019-08-01 15:27:00</td>\n",
       "      <td>2019-08-01T15:27:00.000</td>\n",
       "      <td>2019-07-03T00:00:00.000</td>\n",
       "      <td>Transfer</td>\n",
       "      <td>Dog</td>\n",
       "      <td>Intact Female</td>\n",
       "      <td>4 weeks</td>\n",
       "      <td>Cavalier Span</td>\n",
       "      <td>Black/White</td>\n",
       "      <td>Partner</td>\n",
       "    </tr>\n",
       "    <tr>\n",
       "      <th>999</th>\n",
       "      <td>A796517</td>\n",
       "      <td>Chiquis</td>\n",
       "      <td>2019-06-08 12:21:00</td>\n",
       "      <td>2019-06-08T12:21:00.000</td>\n",
       "      <td>2017-06-02T00:00:00.000</td>\n",
       "      <td>Adoption</td>\n",
       "      <td>Dog</td>\n",
       "      <td>Spayed Female</td>\n",
       "      <td>2 years</td>\n",
       "      <td>Chihuahua Shorthair Mix</td>\n",
       "      <td>Brown/White</td>\n",
       "      <td>NaN</td>\n",
       "    </tr>\n",
       "  </tbody>\n",
       "</table>\n",
       "<p>562 rows × 12 columns</p>\n",
       "</div>"
      ],
      "text/plain": [
       "    animal_id      name            datetime                monthyear  \\\n",
       "1     A776359     Gizmo 2018-07-18 16:02:00  2018-07-18T16:02:00.000   \n",
       "3     A720371     Moose 2016-02-13 17:59:00  2016-02-13T17:59:00.000   \n",
       "5     A659412  Princess 2020-10-05 14:37:00  2020-10-05T14:37:00.000   \n",
       "6     A814515   Quentin 2020-05-06 07:59:00  2020-05-06T07:59:00.000   \n",
       "10    A840370     Tulip 2021-08-19 19:36:00  2021-08-19T19:36:00.000   \n",
       "..        ...       ...                 ...                      ...   \n",
       "993   A689390     Jules 2014-10-08 11:25:00  2014-10-08T11:25:00.000   \n",
       "994   A811961     Lucas 2020-01-17 16:54:00  2020-01-17T16:54:00.000   \n",
       "997   A705114       NaN 2015-06-13 15:47:00  2015-06-13T15:47:00.000   \n",
       "998   A800888       NaN 2019-08-01 15:27:00  2019-08-01T15:27:00.000   \n",
       "999   A796517   Chiquis 2019-06-08 12:21:00  2019-06-08T12:21:00.000   \n",
       "\n",
       "               date_of_birth outcome_type animal_type sex_upon_outcome  \\\n",
       "1    2017-07-12T00:00:00.000     Adoption         Dog    Neutered Male   \n",
       "3    2015-10-08T00:00:00.000     Adoption         Dog    Neutered Male   \n",
       "5    2013-03-24T00:00:00.000     Adoption         Dog    Spayed Female   \n",
       "6    2018-03-01T00:00:00.000     Adoption         Dog    Neutered Male   \n",
       "10   2019-08-06T00:00:00.000     Adoption         Dog    Spayed Female   \n",
       "..                       ...          ...         ...              ...   \n",
       "993  2013-10-03T00:00:00.000     Transfer         Dog    Intact Female   \n",
       "994  2019-03-13T00:00:00.000     Adoption         Dog    Neutered Male   \n",
       "997  2015-06-11T00:00:00.000     Transfer         Dog      Intact Male   \n",
       "998  2019-07-03T00:00:00.000     Transfer         Dog    Intact Female   \n",
       "999  2017-06-02T00:00:00.000     Adoption         Dog    Spayed Female   \n",
       "\n",
       "    age_upon_outcome                                              breed  \\\n",
       "1             1 year                            Chihuahua Shorthair Mix   \n",
       "3           4 months                 Anatol Shepherd/Labrador Retriever   \n",
       "5            7 years                            Chihuahua Shorthair Mix   \n",
       "6            2 years               American Foxhound/Labrador Retriever   \n",
       "10           2 years                 Border Collie/Cardigan Welsh Corgi   \n",
       "..               ...                                                ...   \n",
       "993           1 year                                Doberman Pinsch Mix   \n",
       "994        10 months  American Staffordshire Terrier/Labrador Retriever   \n",
       "997           2 days                                German Shepherd Mix   \n",
       "998          4 weeks                                      Cavalier Span   \n",
       "999          2 years                            Chihuahua Shorthair Mix   \n",
       "\n",
       "           color outcome_subtype  \n",
       "1    White/Brown             NaN  \n",
       "3           Buff             NaN  \n",
       "5          Brown             NaN  \n",
       "6    White/Brown          Foster  \n",
       "10   Black/White             NaN  \n",
       "..           ...             ...  \n",
       "993  Black/Brown         Partner  \n",
       "994   Fawn/White             NaN  \n",
       "997        Brown         Partner  \n",
       "998  Black/White         Partner  \n",
       "999  Brown/White             NaN  \n",
       "\n",
       "[562 rows x 12 columns]"
      ]
     },
     "execution_count": 11,
     "metadata": {},
     "output_type": "execute_result"
    }
   ],
   "source": [
    "dogs = animals[animals['animal_type'] == 'Dog']\n",
    "dogs"
   ]
  },
  {
   "cell_type": "markdown",
   "metadata": {},
   "source": [
    "#### Multi-Indexing"
   ]
  },
  {
   "cell_type": "code",
   "execution_count": 12,
   "metadata": {
    "ExecuteTime": {
     "end_time": "2022-08-04T14:14:22.518917Z",
     "start_time": "2022-08-04T14:14:22.509726Z"
    }
   },
   "outputs": [
    {
     "data": {
      "text/plain": [
       "{('Bird', 'Adoption'): [230, 592], ('Bird', 'Died'): [170], ('Cat', 'Adoption'): [7, 8, 9, 20, 21, 26, 33, 44, 64, 66, 79, 82, 94, 97, 98, 103, 106, 111, 112, 116, 136, 157, 160, 161, 166, 171, 172, 176, 178, 184, 187, 199, 205, 208, 213, 214, 215, 217, 223, 226, 227, 231, 233, 247, 251, 254, 255, 271, 277, 284, 288, 294, 295, 296, 300, 302, 304, 310, 313, 316, 319, 322, 326, 329, 332, 341, 351, 356, 360, 362, 364, 365, 366, 369, 371, 373, 397, 405, 407, 416, 418, 421, 424, 441, 444, 447, 457, 462, 463, 465, 471, 475, 485, 498, 504, 506, 509, 516, 518, 519, ...], ('Cat', 'Died'): [58, 323, 492, 526, 741, 762], ('Cat', 'Disposal'): [579, 778], ('Cat', 'Euthanasia'): [19, 28, 41, 133, 134, 191, 250, 312, 340, 379, 419, 428, 497, 584, 634, 638, 770, 886, 937], ('Cat', 'Return to Owner'): [12, 87, 108, 167, 375, 586, 628, 649, 768, 826, 884, 892, 901, 927, 951, 960], ('Cat', 'Rto-Adopt'): [0, 335], ('Cat', 'Transfer'): [4, 11, 15, 16, 18, 22, 31, 45, 78, 80, 91, 104, 109, 129, 131, 132, 138, 143, 159, 164, 175, 177, 188, 192, 197, 236, 239, 243, 263, 265, 270, 276, 281, 282, 289, 305, 309, 337, 352, 355, 361, 390, 402, 404, 406, 409, 410, 414, 415, 422, 426, 427, 430, 433, 442, 453, 460, 468, 484, 495, 499, 507, 512, 513, 528, 536, 541, 548, 552, 554, 560, 563, 568, 569, 577, 580, 581, 604, 610, 615, 618, 619, 624, 635, 644, 646, 652, 656, 668, 669, 672, 678, 681, 682, 684, 689, 696, 699, 704, 705, ...], ('Dog', 'Adoption'): [1, 3, 5, 6, 10, 23, 27, 35, 37, 38, 39, 42, 47, 50, 52, 54, 55, 57, 61, 62, 65, 67, 70, 73, 74, 76, 81, 86, 88, 90, 95, 96, 99, 102, 105, 110, 113, 114, 118, 122, 123, 126, 127, 130, 135, 137, 142, 144, 145, 149, 152, 153, 155, 158, 163, 168, 179, 181, 182, 183, 185, 190, 194, 195, 210, 212, 216, 218, 220, 221, 224, 225, 234, 237, 238, 242, 244, 245, 246, 252, 257, 258, 261, 266, 269, 274, 275, 278, 279, 280, 283, 285, 290, 297, 298, 301, 303, 306, 308, 314, ...], ('Dog', 'Died'): [92, 461, 479, 553, 559], ('Dog', 'Euthanasia'): [156, 174, 481, 486, 617, 621, 955], ('Dog', 'Return to Owner'): [13, 17, 25, 30, 32, 36, 43, 46, 60, 69, 71, 72, 77, 93, 100, 101, 107, 115, 119, 125, 128, 141, 146, 147, 148, 151, 186, 189, 202, 204, 207, 219, 222, 228, 229, 235, 249, 262, 264, 267, 272, 286, 287, 292, 293, 307, 317, 336, 342, 344, 348, 353, 372, 381, 386, 387, 391, 392, 399, 400, 412, 413, 423, 438, 445, 449, 452, 464, 477, 482, 483, 493, 515, 517, 522, 527, 539, 542, 546, 558, 572, 590, 593, 606, 609, 613, 642, 647, 648, 650, 654, 673, 674, 691, 693, 694, 698, 724, 734, 737, ...], ('Dog', 'Rto-Adopt'): [56, 124, 150, 240, 259, 632, 831, 924], ('Dog', 'Transfer'): [14, 29, 49, 51, 59, 68, 75, 85, 120, 121, 139, 140, 154, 162, 165, 173, 180, 196, 200, 201, 203, 209, 211, 232, 241, 248, 253, 256, 273, 299, 315, 318, 327, 328, 339, 345, 347, 354, 359, 376, 377, 389, 395, 401, 408, 417, 420, 425, 434, 435, 446, 448, 454, 459, 470, 473, 480, 494, 505, 523, 524, 534, 535, 544, 550, 551, 561, 570, 582, 587, 595, 597, 601, 611, 620, 625, 655, 662, 663, 665, 701, 716, 722, 725, 738, 746, 747, 752, 759, 764, 766, 774, 775, 776, 789, 796, 798, 802, 819, 832, ...], ('Other', 'Adoption'): [53, 700], ('Other', 'Died'): [268, 291], ('Other', 'Disposal'): [260, 311], ('Other', 'Euthanasia'): [2, 24, 34, 40, 48, 63, 83, 84, 89, 117, 169, 193, 330, 383, 450, 467, 491, 529, 557, 602, 639, 640, 667, 670, 697, 703, 780, 787, 797, 808, 821, 896, 925, 929, 950, 956, 977, 987], ('Other', 'Return to Owner'): [583], ('Other', 'Transfer'): [198, 206, 455, 456, 630, 816, 843]}"
      ]
     },
     "execution_count": 12,
     "metadata": {},
     "output_type": "execute_result"
    }
   ],
   "source": [
    "# Same goes for multi index groupbys\n",
    "animal_outcome = animals.groupby(['animal_type', 'outcome_type'])\n",
    "animal_outcome.groups"
   ]
  },
  {
   "cell_type": "code",
   "execution_count": 13,
   "metadata": {
    "ExecuteTime": {
     "end_time": "2022-08-04T14:14:22.522466Z",
     "start_time": "2022-08-04T14:14:22.520342Z"
    }
   },
   "outputs": [
    {
     "data": {
      "text/plain": [
       "dict_keys([('Bird', 'Adoption'), ('Bird', 'Died'), ('Cat', 'Adoption'), ('Cat', 'Died'), ('Cat', 'Disposal'), ('Cat', 'Euthanasia'), ('Cat', 'Return to Owner'), ('Cat', 'Rto-Adopt'), ('Cat', 'Transfer'), ('Dog', 'Adoption'), ('Dog', 'Died'), ('Dog', 'Euthanasia'), ('Dog', 'Return to Owner'), ('Dog', 'Rto-Adopt'), ('Dog', 'Transfer'), ('Other', 'Adoption'), ('Other', 'Died'), ('Other', 'Disposal'), ('Other', 'Euthanasia'), ('Other', 'Return to Owner'), ('Other', 'Transfer')])"
      ]
     },
     "execution_count": 13,
     "metadata": {},
     "output_type": "execute_result"
    }
   ],
   "source": [
    "# animal_outcome.groups is a dictionary, so we can access the group names using keys()\n",
    "animal_outcome.groups.keys()"
   ]
  },
  {
   "cell_type": "code",
   "execution_count": 14,
   "metadata": {
    "ExecuteTime": {
     "end_time": "2022-08-04T14:14:22.536715Z",
     "start_time": "2022-08-04T14:14:22.523355Z"
    }
   },
   "outputs": [
    {
     "data": {
      "text/html": [
       "<div>\n",
       "<style scoped>\n",
       "    .dataframe tbody tr th:only-of-type {\n",
       "        vertical-align: middle;\n",
       "    }\n",
       "\n",
       "    .dataframe tbody tr th {\n",
       "        vertical-align: top;\n",
       "    }\n",
       "\n",
       "    .dataframe thead th {\n",
       "        text-align: right;\n",
       "    }\n",
       "</style>\n",
       "<table border=\"1\" class=\"dataframe\">\n",
       "  <thead>\n",
       "    <tr style=\"text-align: right;\">\n",
       "      <th></th>\n",
       "      <th>animal_id</th>\n",
       "      <th>name</th>\n",
       "      <th>datetime</th>\n",
       "      <th>monthyear</th>\n",
       "      <th>date_of_birth</th>\n",
       "      <th>outcome_type</th>\n",
       "      <th>animal_type</th>\n",
       "      <th>sex_upon_outcome</th>\n",
       "      <th>age_upon_outcome</th>\n",
       "      <th>breed</th>\n",
       "      <th>color</th>\n",
       "      <th>outcome_subtype</th>\n",
       "    </tr>\n",
       "  </thead>\n",
       "  <tbody>\n",
       "    <tr>\n",
       "      <th>7</th>\n",
       "      <td>A860161</td>\n",
       "      <td>*Lalo</td>\n",
       "      <td>2022-07-19 15:53:00</td>\n",
       "      <td>2022-07-19T15:53:00.000</td>\n",
       "      <td>2022-05-04T00:00:00.000</td>\n",
       "      <td>Adoption</td>\n",
       "      <td>Cat</td>\n",
       "      <td>Neutered Male</td>\n",
       "      <td>2 months</td>\n",
       "      <td>Domestic Shorthair</td>\n",
       "      <td>Brown Tabby</td>\n",
       "      <td>NaN</td>\n",
       "    </tr>\n",
       "    <tr>\n",
       "      <th>8</th>\n",
       "      <td>A689724</td>\n",
       "      <td>*Donatello</td>\n",
       "      <td>2014-10-18 18:52:00</td>\n",
       "      <td>2014-10-18T18:52:00.000</td>\n",
       "      <td>2014-08-01T00:00:00.000</td>\n",
       "      <td>Adoption</td>\n",
       "      <td>Cat</td>\n",
       "      <td>Neutered Male</td>\n",
       "      <td>2 months</td>\n",
       "      <td>Domestic Shorthair Mix</td>\n",
       "      <td>Black</td>\n",
       "      <td>NaN</td>\n",
       "    </tr>\n",
       "    <tr>\n",
       "      <th>9</th>\n",
       "      <td>A680969</td>\n",
       "      <td>*Zeus</td>\n",
       "      <td>2014-08-05 16:59:00</td>\n",
       "      <td>2014-08-05T16:59:00.000</td>\n",
       "      <td>2014-06-03T00:00:00.000</td>\n",
       "      <td>Adoption</td>\n",
       "      <td>Cat</td>\n",
       "      <td>Neutered Male</td>\n",
       "      <td>2 months</td>\n",
       "      <td>Domestic Shorthair Mix</td>\n",
       "      <td>White/Orange Tabby</td>\n",
       "      <td>NaN</td>\n",
       "    </tr>\n",
       "    <tr>\n",
       "      <th>20</th>\n",
       "      <td>A848454</td>\n",
       "      <td>Olli</td>\n",
       "      <td>2022-01-07 13:02:00</td>\n",
       "      <td>2022-01-07T13:02:00.000</td>\n",
       "      <td>2014-04-20T00:00:00.000</td>\n",
       "      <td>Adoption</td>\n",
       "      <td>Cat</td>\n",
       "      <td>Spayed Female</td>\n",
       "      <td>7 years</td>\n",
       "      <td>Domestic Shorthair Mix</td>\n",
       "      <td>Orange Tabby</td>\n",
       "      <td>NaN</td>\n",
       "    </tr>\n",
       "    <tr>\n",
       "      <th>21</th>\n",
       "      <td>A822928</td>\n",
       "      <td>*Primrose</td>\n",
       "      <td>2022-01-24 11:49:00</td>\n",
       "      <td>2022-01-24T11:49:00.000</td>\n",
       "      <td>2010-09-15T00:00:00.000</td>\n",
       "      <td>Adoption</td>\n",
       "      <td>Cat</td>\n",
       "      <td>Spayed Female</td>\n",
       "      <td>11 years</td>\n",
       "      <td>Domestic Shorthair</td>\n",
       "      <td>Torbie</td>\n",
       "      <td>Foster</td>\n",
       "    </tr>\n",
       "    <tr>\n",
       "      <th>...</th>\n",
       "      <td>...</td>\n",
       "      <td>...</td>\n",
       "      <td>...</td>\n",
       "      <td>...</td>\n",
       "      <td>...</td>\n",
       "      <td>...</td>\n",
       "      <td>...</td>\n",
       "      <td>...</td>\n",
       "      <td>...</td>\n",
       "      <td>...</td>\n",
       "      <td>...</td>\n",
       "      <td>...</td>\n",
       "    </tr>\n",
       "    <tr>\n",
       "      <th>980</th>\n",
       "      <td>A791254</td>\n",
       "      <td>Taco</td>\n",
       "      <td>2019-03-28 13:41:00</td>\n",
       "      <td>2019-03-28T13:41:00.000</td>\n",
       "      <td>2019-02-02T00:00:00.000</td>\n",
       "      <td>Adoption</td>\n",
       "      <td>Cat</td>\n",
       "      <td>Intact Male</td>\n",
       "      <td>1 month</td>\n",
       "      <td>Domestic Shorthair Mix</td>\n",
       "      <td>Blue Tabby/White</td>\n",
       "      <td>NaN</td>\n",
       "    </tr>\n",
       "    <tr>\n",
       "      <th>981</th>\n",
       "      <td>A730605</td>\n",
       "      <td>*Kirk</td>\n",
       "      <td>2016-07-11 17:19:00</td>\n",
       "      <td>2016-07-11T17:19:00.000</td>\n",
       "      <td>2016-03-07T00:00:00.000</td>\n",
       "      <td>Adoption</td>\n",
       "      <td>Cat</td>\n",
       "      <td>Neutered Male</td>\n",
       "      <td>4 months</td>\n",
       "      <td>Domestic Shorthair Mix</td>\n",
       "      <td>Black</td>\n",
       "      <td>NaN</td>\n",
       "    </tr>\n",
       "    <tr>\n",
       "      <th>986</th>\n",
       "      <td>A820080</td>\n",
       "      <td>*Theodore</td>\n",
       "      <td>2021-08-23 09:47:00</td>\n",
       "      <td>2021-08-23T09:47:00.000</td>\n",
       "      <td>2013-07-11T00:00:00.000</td>\n",
       "      <td>Adoption</td>\n",
       "      <td>Cat</td>\n",
       "      <td>Neutered Male</td>\n",
       "      <td>8 years</td>\n",
       "      <td>Domestic Shorthair</td>\n",
       "      <td>Brown Tabby</td>\n",
       "      <td>Foster</td>\n",
       "    </tr>\n",
       "    <tr>\n",
       "      <th>995</th>\n",
       "      <td>A691208</td>\n",
       "      <td>NaN</td>\n",
       "      <td>2014-11-11 18:13:00</td>\n",
       "      <td>2014-11-11T18:13:00.000</td>\n",
       "      <td>2013-12-31T00:00:00.000</td>\n",
       "      <td>Adoption</td>\n",
       "      <td>Cat</td>\n",
       "      <td>Spayed Female</td>\n",
       "      <td>10 months</td>\n",
       "      <td>Domestic Shorthair Mix</td>\n",
       "      <td>Black/White</td>\n",
       "      <td>NaN</td>\n",
       "    </tr>\n",
       "    <tr>\n",
       "      <th>996</th>\n",
       "      <td>A718620</td>\n",
       "      <td>*Toby Sue</td>\n",
       "      <td>2016-03-01 13:53:00</td>\n",
       "      <td>2016-03-01T13:53:00.000</td>\n",
       "      <td>2015-07-23T00:00:00.000</td>\n",
       "      <td>Adoption</td>\n",
       "      <td>Cat</td>\n",
       "      <td>Spayed Female</td>\n",
       "      <td>7 months</td>\n",
       "      <td>Domestic Shorthair Mix</td>\n",
       "      <td>Black/White</td>\n",
       "      <td>NaN</td>\n",
       "    </tr>\n",
       "  </tbody>\n",
       "</table>\n",
       "<p>192 rows × 12 columns</p>\n",
       "</div>"
      ],
      "text/plain": [
       "    animal_id        name            datetime                monthyear  \\\n",
       "7     A860161       *Lalo 2022-07-19 15:53:00  2022-07-19T15:53:00.000   \n",
       "8     A689724  *Donatello 2014-10-18 18:52:00  2014-10-18T18:52:00.000   \n",
       "9     A680969       *Zeus 2014-08-05 16:59:00  2014-08-05T16:59:00.000   \n",
       "20    A848454        Olli 2022-01-07 13:02:00  2022-01-07T13:02:00.000   \n",
       "21    A822928   *Primrose 2022-01-24 11:49:00  2022-01-24T11:49:00.000   \n",
       "..        ...         ...                 ...                      ...   \n",
       "980   A791254        Taco 2019-03-28 13:41:00  2019-03-28T13:41:00.000   \n",
       "981   A730605       *Kirk 2016-07-11 17:19:00  2016-07-11T17:19:00.000   \n",
       "986   A820080   *Theodore 2021-08-23 09:47:00  2021-08-23T09:47:00.000   \n",
       "995   A691208         NaN 2014-11-11 18:13:00  2014-11-11T18:13:00.000   \n",
       "996   A718620   *Toby Sue 2016-03-01 13:53:00  2016-03-01T13:53:00.000   \n",
       "\n",
       "               date_of_birth outcome_type animal_type sex_upon_outcome  \\\n",
       "7    2022-05-04T00:00:00.000     Adoption         Cat    Neutered Male   \n",
       "8    2014-08-01T00:00:00.000     Adoption         Cat    Neutered Male   \n",
       "9    2014-06-03T00:00:00.000     Adoption         Cat    Neutered Male   \n",
       "20   2014-04-20T00:00:00.000     Adoption         Cat    Spayed Female   \n",
       "21   2010-09-15T00:00:00.000     Adoption         Cat    Spayed Female   \n",
       "..                       ...          ...         ...              ...   \n",
       "980  2019-02-02T00:00:00.000     Adoption         Cat      Intact Male   \n",
       "981  2016-03-07T00:00:00.000     Adoption         Cat    Neutered Male   \n",
       "986  2013-07-11T00:00:00.000     Adoption         Cat    Neutered Male   \n",
       "995  2013-12-31T00:00:00.000     Adoption         Cat    Spayed Female   \n",
       "996  2015-07-23T00:00:00.000     Adoption         Cat    Spayed Female   \n",
       "\n",
       "    age_upon_outcome                   breed               color  \\\n",
       "7           2 months      Domestic Shorthair         Brown Tabby   \n",
       "8           2 months  Domestic Shorthair Mix               Black   \n",
       "9           2 months  Domestic Shorthair Mix  White/Orange Tabby   \n",
       "20           7 years  Domestic Shorthair Mix        Orange Tabby   \n",
       "21          11 years      Domestic Shorthair              Torbie   \n",
       "..               ...                     ...                 ...   \n",
       "980          1 month  Domestic Shorthair Mix    Blue Tabby/White   \n",
       "981         4 months  Domestic Shorthair Mix               Black   \n",
       "986          8 years      Domestic Shorthair         Brown Tabby   \n",
       "995        10 months  Domestic Shorthair Mix         Black/White   \n",
       "996         7 months  Domestic Shorthair Mix         Black/White   \n",
       "\n",
       "    outcome_subtype  \n",
       "7               NaN  \n",
       "8               NaN  \n",
       "9               NaN  \n",
       "20              NaN  \n",
       "21           Foster  \n",
       "..              ...  \n",
       "980             NaN  \n",
       "981             NaN  \n",
       "986          Foster  \n",
       "995             NaN  \n",
       "996             NaN  \n",
       "\n",
       "[192 rows x 12 columns]"
      ]
     },
     "execution_count": 14,
     "metadata": {},
     "output_type": "execute_result"
    }
   ],
   "source": [
    "# We can then get a specific group, such as Cats that were adopted\n",
    "animal_outcome.get_group(('Cat', 'Adoption'))"
   ]
  },
  {
   "cell_type": "markdown",
   "metadata": {},
   "source": [
    "### Aggregating"
   ]
  },
  {
   "cell_type": "markdown",
   "metadata": {},
   "source": [
    "Once again, as we will see in SQL, groupby objects are intended to be used with aggregation. In SQL, we will see that our queries that include GROUP BY require aggregation performed on columns.\n",
    "\n",
    "We can use `.sum()`, `.mean()`, `.count()`, `.max()`, `.min()`, etc. Find a list of common aggregations [here](https://pandas.pydata.org/pandas-docs/stable/user_guide/groupby.html)."
   ]
  },
  {
   "cell_type": "code",
   "execution_count": 15,
   "metadata": {
    "ExecuteTime": {
     "end_time": "2022-08-04T14:14:22.545026Z",
     "start_time": "2022-08-04T14:14:22.537525Z"
    }
   },
   "outputs": [
    {
     "data": {
      "text/html": [
       "<div>\n",
       "<style scoped>\n",
       "    .dataframe tbody tr th:only-of-type {\n",
       "        vertical-align: middle;\n",
       "    }\n",
       "\n",
       "    .dataframe tbody tr th {\n",
       "        vertical-align: top;\n",
       "    }\n",
       "\n",
       "    .dataframe thead th {\n",
       "        text-align: right;\n",
       "    }\n",
       "</style>\n",
       "<table border=\"1\" class=\"dataframe\">\n",
       "  <thead>\n",
       "    <tr style=\"text-align: right;\">\n",
       "      <th></th>\n",
       "      <th>animal_id</th>\n",
       "      <th>name</th>\n",
       "      <th>datetime</th>\n",
       "      <th>monthyear</th>\n",
       "      <th>date_of_birth</th>\n",
       "      <th>outcome_type</th>\n",
       "      <th>sex_upon_outcome</th>\n",
       "      <th>age_upon_outcome</th>\n",
       "      <th>breed</th>\n",
       "      <th>color</th>\n",
       "      <th>outcome_subtype</th>\n",
       "    </tr>\n",
       "    <tr>\n",
       "      <th>animal_type</th>\n",
       "      <th></th>\n",
       "      <th></th>\n",
       "      <th></th>\n",
       "      <th></th>\n",
       "      <th></th>\n",
       "      <th></th>\n",
       "      <th></th>\n",
       "      <th></th>\n",
       "      <th></th>\n",
       "      <th></th>\n",
       "      <th></th>\n",
       "    </tr>\n",
       "  </thead>\n",
       "  <tbody>\n",
       "    <tr>\n",
       "      <th>Bird</th>\n",
       "      <td>3</td>\n",
       "      <td>3</td>\n",
       "      <td>3</td>\n",
       "      <td>3</td>\n",
       "      <td>3</td>\n",
       "      <td>3</td>\n",
       "      <td>3</td>\n",
       "      <td>3</td>\n",
       "      <td>3</td>\n",
       "      <td>3</td>\n",
       "      <td>1</td>\n",
       "    </tr>\n",
       "    <tr>\n",
       "      <th>Cat</th>\n",
       "      <td>383</td>\n",
       "      <td>229</td>\n",
       "      <td>383</td>\n",
       "      <td>383</td>\n",
       "      <td>383</td>\n",
       "      <td>383</td>\n",
       "      <td>383</td>\n",
       "      <td>383</td>\n",
       "      <td>383</td>\n",
       "      <td>383</td>\n",
       "      <td>231</td>\n",
       "    </tr>\n",
       "    <tr>\n",
       "      <th>Dog</th>\n",
       "      <td>562</td>\n",
       "      <td>476</td>\n",
       "      <td>562</td>\n",
       "      <td>562</td>\n",
       "      <td>562</td>\n",
       "      <td>562</td>\n",
       "      <td>562</td>\n",
       "      <td>562</td>\n",
       "      <td>562</td>\n",
       "      <td>562</td>\n",
       "      <td>192</td>\n",
       "    </tr>\n",
       "    <tr>\n",
       "      <th>Other</th>\n",
       "      <td>52</td>\n",
       "      <td>8</td>\n",
       "      <td>52</td>\n",
       "      <td>52</td>\n",
       "      <td>52</td>\n",
       "      <td>52</td>\n",
       "      <td>52</td>\n",
       "      <td>52</td>\n",
       "      <td>52</td>\n",
       "      <td>52</td>\n",
       "      <td>43</td>\n",
       "    </tr>\n",
       "  </tbody>\n",
       "</table>\n",
       "</div>"
      ],
      "text/plain": [
       "             animal_id  name  datetime  monthyear  date_of_birth  \\\n",
       "animal_type                                                        \n",
       "Bird                 3     3         3          3              3   \n",
       "Cat                383   229       383        383            383   \n",
       "Dog                562   476       562        562            562   \n",
       "Other               52     8        52         52             52   \n",
       "\n",
       "             outcome_type  sex_upon_outcome  age_upon_outcome  breed  color  \\\n",
       "animal_type                                                                   \n",
       "Bird                    3                 3                 3      3      3   \n",
       "Cat                   383               383               383    383    383   \n",
       "Dog                   562               562               562    562    562   \n",
       "Other                  52                52                52     52     52   \n",
       "\n",
       "             outcome_subtype  \n",
       "animal_type                   \n",
       "Bird                       1  \n",
       "Cat                      231  \n",
       "Dog                      192  \n",
       "Other                     43  "
      ]
     },
     "execution_count": 15,
     "metadata": {},
     "output_type": "execute_result"
    }
   ],
   "source": [
    "animals.groupby('animal_type').count()"
   ]
  },
  {
   "cell_type": "markdown",
   "metadata": {},
   "source": [
    "### Exercise\n",
    "\n",
    "Use `.groupby()` to find the most recently born of each (main) animal type."
   ]
  },
  {
   "cell_type": "code",
   "execution_count": 25,
   "metadata": {
    "ExecuteTime": {
     "end_time": "2022-08-04T13:01:00.583444Z",
     "start_time": "2022-08-04T13:01:00.536673Z"
    }
   },
   "outputs": [
    {
     "data": {
      "text/plain": [
       "animal_type\n",
       "Bird     2022-04-18T00:00:00.000\n",
       "Cat      2023-04-16T00:00:00.000\n",
       "Dog      2023-03-14T00:00:00.000\n",
       "Other    2022-12-03T00:00:00.000\n",
       "Name: date_of_birth, dtype: object"
      ]
     },
     "execution_count": 25,
     "metadata": {},
     "output_type": "execute_result"
    }
   ],
   "source": [
    "animals.groupby('animal_type')['date_of_birth'].max()\n",
    "#print(birth_dates)\n",
    "#birth_dates.groupby('date_of_birth').min()"
   ]
  },
  {
   "cell_type": "markdown",
   "metadata": {},
   "source": [
    "<details>\n",
    "    <summary>Answer</summary>\n",
    "    <code>animals.groupby('animal_type')['date_of_birth'].max()</code>\n",
    "    </details>"
   ]
  },
  {
   "cell_type": "markdown",
   "metadata": {
    "heading_collapsed": true,
    "hidden": true
   },
   "source": [
    "## Pivoting a DataFrame"
   ]
  },
  {
   "cell_type": "markdown",
   "metadata": {
    "heading_collapsed": true,
    "hidden": true
   },
   "source": [
    "### `.pivot_table()`"
   ]
  },
  {
   "cell_type": "markdown",
   "metadata": {
    "hidden": true
   },
   "source": [
    "Those of you familiar with Excel have probably used Pivot Tables. Pandas has a similar functionality.\n",
    "\n",
    "Grouping by two different columns can be very helpful."
   ]
  },
  {
   "cell_type": "code",
   "execution_count": 26,
   "metadata": {
    "ExecuteTime": {
     "end_time": "2022-08-04T14:14:22.562723Z",
     "start_time": "2022-08-04T14:14:22.545848Z"
    },
    "hidden": true
   },
   "outputs": [
    {
     "data": {
      "text/html": [
       "<div>\n",
       "<style scoped>\n",
       "    .dataframe tbody tr th:only-of-type {\n",
       "        vertical-align: middle;\n",
       "    }\n",
       "\n",
       "    .dataframe tbody tr th {\n",
       "        vertical-align: top;\n",
       "    }\n",
       "\n",
       "    .dataframe thead th {\n",
       "        text-align: right;\n",
       "    }\n",
       "</style>\n",
       "<table border=\"1\" class=\"dataframe\">\n",
       "  <thead>\n",
       "    <tr style=\"text-align: right;\">\n",
       "      <th></th>\n",
       "      <th></th>\n",
       "      <th>animal_id</th>\n",
       "      <th>name</th>\n",
       "      <th>datetime</th>\n",
       "      <th>monthyear</th>\n",
       "      <th>date_of_birth</th>\n",
       "      <th>animal_type</th>\n",
       "      <th>age_upon_outcome</th>\n",
       "      <th>breed</th>\n",
       "      <th>color</th>\n",
       "      <th>outcome_subtype</th>\n",
       "    </tr>\n",
       "    <tr>\n",
       "      <th>outcome_type</th>\n",
       "      <th>sex_upon_outcome</th>\n",
       "      <th></th>\n",
       "      <th></th>\n",
       "      <th></th>\n",
       "      <th></th>\n",
       "      <th></th>\n",
       "      <th></th>\n",
       "      <th></th>\n",
       "      <th></th>\n",
       "      <th></th>\n",
       "      <th></th>\n",
       "    </tr>\n",
       "  </thead>\n",
       "  <tbody>\n",
       "    <tr>\n",
       "      <th rowspan=\"5\" valign=\"top\">Adoption</th>\n",
       "      <th>Intact Female</th>\n",
       "      <td>9</td>\n",
       "      <td>9</td>\n",
       "      <td>9</td>\n",
       "      <td>9</td>\n",
       "      <td>9</td>\n",
       "      <td>9</td>\n",
       "      <td>9</td>\n",
       "      <td>9</td>\n",
       "      <td>9</td>\n",
       "      <td>9</td>\n",
       "    </tr>\n",
       "    <tr>\n",
       "      <th>Intact Male</th>\n",
       "      <td>10</td>\n",
       "      <td>10</td>\n",
       "      <td>10</td>\n",
       "      <td>10</td>\n",
       "      <td>10</td>\n",
       "      <td>10</td>\n",
       "      <td>10</td>\n",
       "      <td>10</td>\n",
       "      <td>10</td>\n",
       "      <td>10</td>\n",
       "    </tr>\n",
       "    <tr>\n",
       "      <th>Neutered Male</th>\n",
       "      <td>245</td>\n",
       "      <td>245</td>\n",
       "      <td>245</td>\n",
       "      <td>245</td>\n",
       "      <td>245</td>\n",
       "      <td>245</td>\n",
       "      <td>245</td>\n",
       "      <td>245</td>\n",
       "      <td>245</td>\n",
       "      <td>245</td>\n",
       "    </tr>\n",
       "    <tr>\n",
       "      <th>Spayed Female</th>\n",
       "      <td>216</td>\n",
       "      <td>216</td>\n",
       "      <td>216</td>\n",
       "      <td>216</td>\n",
       "      <td>216</td>\n",
       "      <td>216</td>\n",
       "      <td>216</td>\n",
       "      <td>216</td>\n",
       "      <td>216</td>\n",
       "      <td>216</td>\n",
       "    </tr>\n",
       "    <tr>\n",
       "      <th>Unknown</th>\n",
       "      <td>1</td>\n",
       "      <td>1</td>\n",
       "      <td>1</td>\n",
       "      <td>1</td>\n",
       "      <td>1</td>\n",
       "      <td>1</td>\n",
       "      <td>1</td>\n",
       "      <td>1</td>\n",
       "      <td>1</td>\n",
       "      <td>1</td>\n",
       "    </tr>\n",
       "    <tr>\n",
       "      <th rowspan=\"5\" valign=\"top\">Died</th>\n",
       "      <th>Intact Female</th>\n",
       "      <td>3</td>\n",
       "      <td>3</td>\n",
       "      <td>3</td>\n",
       "      <td>3</td>\n",
       "      <td>3</td>\n",
       "      <td>3</td>\n",
       "      <td>3</td>\n",
       "      <td>3</td>\n",
       "      <td>3</td>\n",
       "      <td>3</td>\n",
       "    </tr>\n",
       "    <tr>\n",
       "      <th>Intact Male</th>\n",
       "      <td>3</td>\n",
       "      <td>3</td>\n",
       "      <td>3</td>\n",
       "      <td>3</td>\n",
       "      <td>3</td>\n",
       "      <td>3</td>\n",
       "      <td>3</td>\n",
       "      <td>3</td>\n",
       "      <td>3</td>\n",
       "      <td>3</td>\n",
       "    </tr>\n",
       "    <tr>\n",
       "      <th>Neutered Male</th>\n",
       "      <td>1</td>\n",
       "      <td>1</td>\n",
       "      <td>1</td>\n",
       "      <td>1</td>\n",
       "      <td>1</td>\n",
       "      <td>1</td>\n",
       "      <td>1</td>\n",
       "      <td>1</td>\n",
       "      <td>1</td>\n",
       "      <td>1</td>\n",
       "    </tr>\n",
       "    <tr>\n",
       "      <th>Spayed Female</th>\n",
       "      <td>2</td>\n",
       "      <td>2</td>\n",
       "      <td>2</td>\n",
       "      <td>2</td>\n",
       "      <td>2</td>\n",
       "      <td>2</td>\n",
       "      <td>2</td>\n",
       "      <td>2</td>\n",
       "      <td>2</td>\n",
       "      <td>2</td>\n",
       "    </tr>\n",
       "    <tr>\n",
       "      <th>Unknown</th>\n",
       "      <td>5</td>\n",
       "      <td>5</td>\n",
       "      <td>5</td>\n",
       "      <td>5</td>\n",
       "      <td>5</td>\n",
       "      <td>5</td>\n",
       "      <td>5</td>\n",
       "      <td>5</td>\n",
       "      <td>5</td>\n",
       "      <td>5</td>\n",
       "    </tr>\n",
       "    <tr>\n",
       "      <th rowspan=\"2\" valign=\"top\">Disposal</th>\n",
       "      <th>Intact Male</th>\n",
       "      <td>1</td>\n",
       "      <td>1</td>\n",
       "      <td>1</td>\n",
       "      <td>1</td>\n",
       "      <td>1</td>\n",
       "      <td>1</td>\n",
       "      <td>1</td>\n",
       "      <td>1</td>\n",
       "      <td>1</td>\n",
       "      <td>1</td>\n",
       "    </tr>\n",
       "    <tr>\n",
       "      <th>Unknown</th>\n",
       "      <td>3</td>\n",
       "      <td>3</td>\n",
       "      <td>3</td>\n",
       "      <td>3</td>\n",
       "      <td>3</td>\n",
       "      <td>3</td>\n",
       "      <td>3</td>\n",
       "      <td>3</td>\n",
       "      <td>3</td>\n",
       "      <td>3</td>\n",
       "    </tr>\n",
       "    <tr>\n",
       "      <th rowspan=\"5\" valign=\"top\">Euthanasia</th>\n",
       "      <th>Intact Female</th>\n",
       "      <td>9</td>\n",
       "      <td>9</td>\n",
       "      <td>9</td>\n",
       "      <td>9</td>\n",
       "      <td>9</td>\n",
       "      <td>9</td>\n",
       "      <td>9</td>\n",
       "      <td>9</td>\n",
       "      <td>9</td>\n",
       "      <td>9</td>\n",
       "    </tr>\n",
       "    <tr>\n",
       "      <th>Intact Male</th>\n",
       "      <td>8</td>\n",
       "      <td>8</td>\n",
       "      <td>8</td>\n",
       "      <td>8</td>\n",
       "      <td>8</td>\n",
       "      <td>8</td>\n",
       "      <td>8</td>\n",
       "      <td>8</td>\n",
       "      <td>8</td>\n",
       "      <td>8</td>\n",
       "    </tr>\n",
       "    <tr>\n",
       "      <th>Neutered Male</th>\n",
       "      <td>4</td>\n",
       "      <td>4</td>\n",
       "      <td>4</td>\n",
       "      <td>4</td>\n",
       "      <td>4</td>\n",
       "      <td>4</td>\n",
       "      <td>4</td>\n",
       "      <td>4</td>\n",
       "      <td>4</td>\n",
       "      <td>4</td>\n",
       "    </tr>\n",
       "    <tr>\n",
       "      <th>Spayed Female</th>\n",
       "      <td>2</td>\n",
       "      <td>2</td>\n",
       "      <td>2</td>\n",
       "      <td>2</td>\n",
       "      <td>2</td>\n",
       "      <td>2</td>\n",
       "      <td>2</td>\n",
       "      <td>2</td>\n",
       "      <td>2</td>\n",
       "      <td>2</td>\n",
       "    </tr>\n",
       "    <tr>\n",
       "      <th>Unknown</th>\n",
       "      <td>41</td>\n",
       "      <td>41</td>\n",
       "      <td>41</td>\n",
       "      <td>41</td>\n",
       "      <td>41</td>\n",
       "      <td>41</td>\n",
       "      <td>41</td>\n",
       "      <td>41</td>\n",
       "      <td>41</td>\n",
       "      <td>41</td>\n",
       "    </tr>\n",
       "    <tr>\n",
       "      <th rowspan=\"5\" valign=\"top\">Return to Owner</th>\n",
       "      <th>Intact Female</th>\n",
       "      <td>18</td>\n",
       "      <td>18</td>\n",
       "      <td>18</td>\n",
       "      <td>18</td>\n",
       "      <td>18</td>\n",
       "      <td>18</td>\n",
       "      <td>18</td>\n",
       "      <td>18</td>\n",
       "      <td>18</td>\n",
       "      <td>18</td>\n",
       "    </tr>\n",
       "    <tr>\n",
       "      <th>Intact Male</th>\n",
       "      <td>33</td>\n",
       "      <td>33</td>\n",
       "      <td>33</td>\n",
       "      <td>33</td>\n",
       "      <td>33</td>\n",
       "      <td>33</td>\n",
       "      <td>33</td>\n",
       "      <td>33</td>\n",
       "      <td>33</td>\n",
       "      <td>33</td>\n",
       "    </tr>\n",
       "    <tr>\n",
       "      <th>Neutered Male</th>\n",
       "      <td>57</td>\n",
       "      <td>57</td>\n",
       "      <td>57</td>\n",
       "      <td>57</td>\n",
       "      <td>57</td>\n",
       "      <td>57</td>\n",
       "      <td>57</td>\n",
       "      <td>57</td>\n",
       "      <td>57</td>\n",
       "      <td>57</td>\n",
       "    </tr>\n",
       "    <tr>\n",
       "      <th>Spayed Female</th>\n",
       "      <td>41</td>\n",
       "      <td>41</td>\n",
       "      <td>41</td>\n",
       "      <td>41</td>\n",
       "      <td>41</td>\n",
       "      <td>41</td>\n",
       "      <td>41</td>\n",
       "      <td>41</td>\n",
       "      <td>41</td>\n",
       "      <td>41</td>\n",
       "    </tr>\n",
       "    <tr>\n",
       "      <th>Unknown</th>\n",
       "      <td>1</td>\n",
       "      <td>1</td>\n",
       "      <td>1</td>\n",
       "      <td>1</td>\n",
       "      <td>1</td>\n",
       "      <td>1</td>\n",
       "      <td>1</td>\n",
       "      <td>1</td>\n",
       "      <td>1</td>\n",
       "      <td>1</td>\n",
       "    </tr>\n",
       "    <tr>\n",
       "      <th rowspan=\"2\" valign=\"top\">Rto-Adopt</th>\n",
       "      <th>Neutered Male</th>\n",
       "      <td>5</td>\n",
       "      <td>5</td>\n",
       "      <td>5</td>\n",
       "      <td>5</td>\n",
       "      <td>5</td>\n",
       "      <td>5</td>\n",
       "      <td>5</td>\n",
       "      <td>5</td>\n",
       "      <td>5</td>\n",
       "      <td>5</td>\n",
       "    </tr>\n",
       "    <tr>\n",
       "      <th>Spayed Female</th>\n",
       "      <td>5</td>\n",
       "      <td>5</td>\n",
       "      <td>5</td>\n",
       "      <td>5</td>\n",
       "      <td>5</td>\n",
       "      <td>5</td>\n",
       "      <td>5</td>\n",
       "      <td>5</td>\n",
       "      <td>5</td>\n",
       "      <td>5</td>\n",
       "    </tr>\n",
       "    <tr>\n",
       "      <th rowspan=\"5\" valign=\"top\">Transfer</th>\n",
       "      <th>Intact Female</th>\n",
       "      <td>86</td>\n",
       "      <td>86</td>\n",
       "      <td>86</td>\n",
       "      <td>86</td>\n",
       "      <td>86</td>\n",
       "      <td>86</td>\n",
       "      <td>86</td>\n",
       "      <td>86</td>\n",
       "      <td>86</td>\n",
       "      <td>86</td>\n",
       "    </tr>\n",
       "    <tr>\n",
       "      <th>Intact Male</th>\n",
       "      <td>79</td>\n",
       "      <td>79</td>\n",
       "      <td>79</td>\n",
       "      <td>79</td>\n",
       "      <td>79</td>\n",
       "      <td>79</td>\n",
       "      <td>79</td>\n",
       "      <td>79</td>\n",
       "      <td>79</td>\n",
       "      <td>79</td>\n",
       "    </tr>\n",
       "    <tr>\n",
       "      <th>Neutered Male</th>\n",
       "      <td>47</td>\n",
       "      <td>47</td>\n",
       "      <td>47</td>\n",
       "      <td>47</td>\n",
       "      <td>47</td>\n",
       "      <td>47</td>\n",
       "      <td>47</td>\n",
       "      <td>47</td>\n",
       "      <td>47</td>\n",
       "      <td>47</td>\n",
       "    </tr>\n",
       "    <tr>\n",
       "      <th>Spayed Female</th>\n",
       "      <td>38</td>\n",
       "      <td>38</td>\n",
       "      <td>38</td>\n",
       "      <td>38</td>\n",
       "      <td>38</td>\n",
       "      <td>38</td>\n",
       "      <td>38</td>\n",
       "      <td>38</td>\n",
       "      <td>38</td>\n",
       "      <td>38</td>\n",
       "    </tr>\n",
       "    <tr>\n",
       "      <th>Unknown</th>\n",
       "      <td>27</td>\n",
       "      <td>27</td>\n",
       "      <td>27</td>\n",
       "      <td>27</td>\n",
       "      <td>27</td>\n",
       "      <td>27</td>\n",
       "      <td>27</td>\n",
       "      <td>27</td>\n",
       "      <td>27</td>\n",
       "      <td>27</td>\n",
       "    </tr>\n",
       "  </tbody>\n",
       "</table>\n",
       "</div>"
      ],
      "text/plain": [
       "                                  animal_id  name  datetime  monthyear  \\\n",
       "outcome_type    sex_upon_outcome                                         \n",
       "Adoption        Intact Female             9     9         9          9   \n",
       "                Intact Male              10    10        10         10   \n",
       "                Neutered Male           245   245       245        245   \n",
       "                Spayed Female           216   216       216        216   \n",
       "                Unknown                   1     1         1          1   \n",
       "Died            Intact Female             3     3         3          3   \n",
       "                Intact Male               3     3         3          3   \n",
       "                Neutered Male             1     1         1          1   \n",
       "                Spayed Female             2     2         2          2   \n",
       "                Unknown                   5     5         5          5   \n",
       "Disposal        Intact Male               1     1         1          1   \n",
       "                Unknown                   3     3         3          3   \n",
       "Euthanasia      Intact Female             9     9         9          9   \n",
       "                Intact Male               8     8         8          8   \n",
       "                Neutered Male             4     4         4          4   \n",
       "                Spayed Female             2     2         2          2   \n",
       "                Unknown                  41    41        41         41   \n",
       "Return to Owner Intact Female            18    18        18         18   \n",
       "                Intact Male              33    33        33         33   \n",
       "                Neutered Male            57    57        57         57   \n",
       "                Spayed Female            41    41        41         41   \n",
       "                Unknown                   1     1         1          1   \n",
       "Rto-Adopt       Neutered Male             5     5         5          5   \n",
       "                Spayed Female             5     5         5          5   \n",
       "Transfer        Intact Female            86    86        86         86   \n",
       "                Intact Male              79    79        79         79   \n",
       "                Neutered Male            47    47        47         47   \n",
       "                Spayed Female            38    38        38         38   \n",
       "                Unknown                  27    27        27         27   \n",
       "\n",
       "                                  date_of_birth  animal_type  \\\n",
       "outcome_type    sex_upon_outcome                               \n",
       "Adoption        Intact Female                 9            9   \n",
       "                Intact Male                  10           10   \n",
       "                Neutered Male               245          245   \n",
       "                Spayed Female               216          216   \n",
       "                Unknown                       1            1   \n",
       "Died            Intact Female                 3            3   \n",
       "                Intact Male                   3            3   \n",
       "                Neutered Male                 1            1   \n",
       "                Spayed Female                 2            2   \n",
       "                Unknown                       5            5   \n",
       "Disposal        Intact Male                   1            1   \n",
       "                Unknown                       3            3   \n",
       "Euthanasia      Intact Female                 9            9   \n",
       "                Intact Male                   8            8   \n",
       "                Neutered Male                 4            4   \n",
       "                Spayed Female                 2            2   \n",
       "                Unknown                      41           41   \n",
       "Return to Owner Intact Female                18           18   \n",
       "                Intact Male                  33           33   \n",
       "                Neutered Male                57           57   \n",
       "                Spayed Female                41           41   \n",
       "                Unknown                       1            1   \n",
       "Rto-Adopt       Neutered Male                 5            5   \n",
       "                Spayed Female                 5            5   \n",
       "Transfer        Intact Female                86           86   \n",
       "                Intact Male                  79           79   \n",
       "                Neutered Male                47           47   \n",
       "                Spayed Female                38           38   \n",
       "                Unknown                      27           27   \n",
       "\n",
       "                                  age_upon_outcome  breed  color  \\\n",
       "outcome_type    sex_upon_outcome                                   \n",
       "Adoption        Intact Female                    9      9      9   \n",
       "                Intact Male                     10     10     10   \n",
       "                Neutered Male                  245    245    245   \n",
       "                Spayed Female                  216    216    216   \n",
       "                Unknown                          1      1      1   \n",
       "Died            Intact Female                    3      3      3   \n",
       "                Intact Male                      3      3      3   \n",
       "                Neutered Male                    1      1      1   \n",
       "                Spayed Female                    2      2      2   \n",
       "                Unknown                          5      5      5   \n",
       "Disposal        Intact Male                      1      1      1   \n",
       "                Unknown                          3      3      3   \n",
       "Euthanasia      Intact Female                    9      9      9   \n",
       "                Intact Male                      8      8      8   \n",
       "                Neutered Male                    4      4      4   \n",
       "                Spayed Female                    2      2      2   \n",
       "                Unknown                         41     41     41   \n",
       "Return to Owner Intact Female                   18     18     18   \n",
       "                Intact Male                     33     33     33   \n",
       "                Neutered Male                   57     57     57   \n",
       "                Spayed Female                   41     41     41   \n",
       "                Unknown                          1      1      1   \n",
       "Rto-Adopt       Neutered Male                    5      5      5   \n",
       "                Spayed Female                    5      5      5   \n",
       "Transfer        Intact Female                   86     86     86   \n",
       "                Intact Male                     79     79     79   \n",
       "                Neutered Male                   47     47     47   \n",
       "                Spayed Female                   38     38     38   \n",
       "                Unknown                         27     27     27   \n",
       "\n",
       "                                  outcome_subtype  \n",
       "outcome_type    sex_upon_outcome                   \n",
       "Adoption        Intact Female                   9  \n",
       "                Intact Male                    10  \n",
       "                Neutered Male                 245  \n",
       "                Spayed Female                 216  \n",
       "                Unknown                         1  \n",
       "Died            Intact Female                   3  \n",
       "                Intact Male                     3  \n",
       "                Neutered Male                   1  \n",
       "                Spayed Female                   2  \n",
       "                Unknown                         5  \n",
       "Disposal        Intact Male                     1  \n",
       "                Unknown                         3  \n",
       "Euthanasia      Intact Female                   9  \n",
       "                Intact Male                     8  \n",
       "                Neutered Male                   4  \n",
       "                Spayed Female                   2  \n",
       "                Unknown                        41  \n",
       "Return to Owner Intact Female                  18  \n",
       "                Intact Male                    33  \n",
       "                Neutered Male                  57  \n",
       "                Spayed Female                  41  \n",
       "                Unknown                         1  \n",
       "Rto-Adopt       Neutered Male                   5  \n",
       "                Spayed Female                   5  \n",
       "Transfer        Intact Female                  86  \n",
       "                Intact Male                    79  \n",
       "                Neutered Male                  47  \n",
       "                Spayed Female                  38  \n",
       "                Unknown                        27  "
      ]
     },
     "execution_count": 26,
     "metadata": {},
     "output_type": "execute_result"
    }
   ],
   "source": [
    "animals.groupby(by=['outcome_type', 'sex_upon_outcome']).agg(len)"
   ]
  },
  {
   "cell_type": "markdown",
   "metadata": {
    "hidden": true
   },
   "source": [
    "But it has the unsavory side effect of creating a two-level index. This can be a good time to use `.pivot_table()`.\n",
    "\n",
    "(There is also a `.pivot()`. For the somewhat subtle differences, see [here](https://stackoverflow.com/questions/30960338/pandas-difference-between-pivot-and-pivot-table-why-is-only-pivot-table-workin).)"
   ]
  },
  {
   "cell_type": "markdown",
   "metadata": {},
   "source": [
    "#### Example"
   ]
  },
  {
   "cell_type": "code",
   "execution_count": 27,
   "metadata": {
    "ExecuteTime": {
     "end_time": "2022-08-04T14:14:22.570686Z",
     "start_time": "2022-08-04T14:14:22.563695Z"
    }
   },
   "outputs": [
    {
     "data": {
      "text/html": [
       "<div>\n",
       "<style scoped>\n",
       "    .dataframe tbody tr th:only-of-type {\n",
       "        vertical-align: middle;\n",
       "    }\n",
       "\n",
       "    .dataframe tbody tr th {\n",
       "        vertical-align: top;\n",
       "    }\n",
       "\n",
       "    .dataframe thead th {\n",
       "        text-align: right;\n",
       "    }\n",
       "</style>\n",
       "<table border=\"1\" class=\"dataframe\">\n",
       "  <thead>\n",
       "    <tr style=\"text-align: right;\">\n",
       "      <th></th>\n",
       "      <th>sex</th>\n",
       "      <th>num_puppies</th>\n",
       "      <th>breed</th>\n",
       "      <th>past_owners</th>\n",
       "      <th>family_members</th>\n",
       "    </tr>\n",
       "  </thead>\n",
       "  <tbody>\n",
       "    <tr>\n",
       "      <th>0</th>\n",
       "      <td>male</td>\n",
       "      <td>one</td>\n",
       "      <td>terrier</td>\n",
       "      <td>1</td>\n",
       "      <td>2</td>\n",
       "    </tr>\n",
       "    <tr>\n",
       "      <th>1</th>\n",
       "      <td>male</td>\n",
       "      <td>one</td>\n",
       "      <td>retriever</td>\n",
       "      <td>2</td>\n",
       "      <td>4</td>\n",
       "    </tr>\n",
       "    <tr>\n",
       "      <th>2</th>\n",
       "      <td>male</td>\n",
       "      <td>one</td>\n",
       "      <td>retriever</td>\n",
       "      <td>2</td>\n",
       "      <td>5</td>\n",
       "    </tr>\n",
       "    <tr>\n",
       "      <th>3</th>\n",
       "      <td>male</td>\n",
       "      <td>two</td>\n",
       "      <td>terrier</td>\n",
       "      <td>3</td>\n",
       "      <td>5</td>\n",
       "    </tr>\n",
       "    <tr>\n",
       "      <th>4</th>\n",
       "      <td>male</td>\n",
       "      <td>two</td>\n",
       "      <td>terrier</td>\n",
       "      <td>3</td>\n",
       "      <td>6</td>\n",
       "    </tr>\n",
       "    <tr>\n",
       "      <th>5</th>\n",
       "      <td>female</td>\n",
       "      <td>one</td>\n",
       "      <td>retriever</td>\n",
       "      <td>4</td>\n",
       "      <td>6</td>\n",
       "    </tr>\n",
       "    <tr>\n",
       "      <th>6</th>\n",
       "      <td>female</td>\n",
       "      <td>one</td>\n",
       "      <td>terrier</td>\n",
       "      <td>5</td>\n",
       "      <td>8</td>\n",
       "    </tr>\n",
       "    <tr>\n",
       "      <th>7</th>\n",
       "      <td>female</td>\n",
       "      <td>two</td>\n",
       "      <td>terrier</td>\n",
       "      <td>6</td>\n",
       "      <td>9</td>\n",
       "    </tr>\n",
       "    <tr>\n",
       "      <th>8</th>\n",
       "      <td>female</td>\n",
       "      <td>two</td>\n",
       "      <td>retriever</td>\n",
       "      <td>7</td>\n",
       "      <td>9</td>\n",
       "    </tr>\n",
       "  </tbody>\n",
       "</table>\n",
       "</div>"
      ],
      "text/plain": [
       "      sex num_puppies      breed  past_owners  family_members\n",
       "0    male         one    terrier            1               2\n",
       "1    male         one  retriever            2               4\n",
       "2    male         one  retriever            2               5\n",
       "3    male         two    terrier            3               5\n",
       "4    male         two    terrier            3               6\n",
       "5  female         one  retriever            4               6\n",
       "6  female         one    terrier            5               8\n",
       "7  female         two    terrier            6               9\n",
       "8  female         two  retriever            7               9"
      ]
     },
     "execution_count": 27,
     "metadata": {},
     "output_type": "execute_result"
    }
   ],
   "source": [
    "df = pd.DataFrame({\"sex\": [\"male\", \"male\", \"male\", \"male\", \"male\",\n",
    "                          \"female\", \"female\", \"female\", \"female\"],\n",
    "                    \"num_puppies\": [\"one\", \"one\", \"one\", \"two\", \"two\",\n",
    "                          \"one\", \"one\", \"two\", \"two\"],\n",
    "                    \"breed\": [\"terrier\", \"retriever\", \"retriever\", \"terrier\",\n",
    "                          \"terrier\", \"retriever\", \"terrier\", \"terrier\",\n",
    "                          \"retriever\"],\n",
    "                    \"past_owners\": [1, 2, 2, 3, 3, 4, 5, 6, 7],\n",
    "                    \"family_members\": [2, 4, 5, 5, 6, 6, 8, 9, 9]})\n",
    "df"
   ]
  },
  {
   "cell_type": "code",
   "execution_count": 28,
   "metadata": {
    "ExecuteTime": {
     "end_time": "2022-08-04T14:14:22.587936Z",
     "start_time": "2022-08-04T14:14:22.571641Z"
    }
   },
   "outputs": [
    {
     "name": "stderr",
     "output_type": "stream",
     "text": [
      "/var/folders/pn/v9tvzf9s5ms7zcp53821ct0m0000gn/T/ipykernel_10668/2599897908.py:3: FutureWarning: The provided callable <function sum at 0x1083d4a40> is currently using DataFrameGroupBy.sum. In a future version of pandas, the provided callable will be used directly. To keep current behavior pass the string \"sum\" instead.\n",
      "  table = pd.pivot_table(df, values='past_owners', index=['sex', 'num_puppies'],\n"
     ]
    },
    {
     "data": {
      "text/html": [
       "<div>\n",
       "<style scoped>\n",
       "    .dataframe tbody tr th:only-of-type {\n",
       "        vertical-align: middle;\n",
       "    }\n",
       "\n",
       "    .dataframe tbody tr th {\n",
       "        vertical-align: top;\n",
       "    }\n",
       "\n",
       "    .dataframe thead th {\n",
       "        text-align: right;\n",
       "    }\n",
       "</style>\n",
       "<table border=\"1\" class=\"dataframe\">\n",
       "  <thead>\n",
       "    <tr style=\"text-align: right;\">\n",
       "      <th></th>\n",
       "      <th>breed</th>\n",
       "      <th>retriever</th>\n",
       "      <th>terrier</th>\n",
       "    </tr>\n",
       "    <tr>\n",
       "      <th>sex</th>\n",
       "      <th>num_puppies</th>\n",
       "      <th></th>\n",
       "      <th></th>\n",
       "    </tr>\n",
       "  </thead>\n",
       "  <tbody>\n",
       "    <tr>\n",
       "      <th rowspan=\"2\" valign=\"top\">female</th>\n",
       "      <th>one</th>\n",
       "      <td>4.0</td>\n",
       "      <td>5.0</td>\n",
       "    </tr>\n",
       "    <tr>\n",
       "      <th>two</th>\n",
       "      <td>7.0</td>\n",
       "      <td>6.0</td>\n",
       "    </tr>\n",
       "    <tr>\n",
       "      <th rowspan=\"2\" valign=\"top\">male</th>\n",
       "      <th>one</th>\n",
       "      <td>4.0</td>\n",
       "      <td>1.0</td>\n",
       "    </tr>\n",
       "    <tr>\n",
       "      <th>two</th>\n",
       "      <td>NaN</td>\n",
       "      <td>6.0</td>\n",
       "    </tr>\n",
       "  </tbody>\n",
       "</table>\n",
       "</div>"
      ],
      "text/plain": [
       "breed               retriever  terrier\n",
       "sex    num_puppies                    \n",
       "female one                4.0      5.0\n",
       "       two                7.0      6.0\n",
       "male   one                4.0      1.0\n",
       "       two                NaN      6.0"
      ]
     },
     "execution_count": 28,
     "metadata": {},
     "output_type": "execute_result"
    }
   ],
   "source": [
    "# This first example aggregates values by taking the sum.\n",
    "\n",
    "table = pd.pivot_table(df, values='past_owners', index=['sex', 'num_puppies'],\n",
    "                     columns=['breed'], aggfunc=np.sum)\n",
    "table"
   ]
  },
  {
   "cell_type": "markdown",
   "metadata": {},
   "source": [
    "#### Back to Austin animals"
   ]
  },
  {
   "cell_type": "code",
   "execution_count": 29,
   "metadata": {
    "ExecuteTime": {
     "end_time": "2022-08-04T14:14:22.613818Z",
     "start_time": "2022-08-04T14:14:22.588799Z"
    },
    "hidden": true
   },
   "outputs": [
    {
     "data": {
      "text/html": [
       "<div>\n",
       "<style scoped>\n",
       "    .dataframe tbody tr th:only-of-type {\n",
       "        vertical-align: middle;\n",
       "    }\n",
       "\n",
       "    .dataframe tbody tr th {\n",
       "        vertical-align: top;\n",
       "    }\n",
       "\n",
       "    .dataframe thead tr th {\n",
       "        text-align: left;\n",
       "    }\n",
       "\n",
       "    .dataframe thead tr:last-of-type th {\n",
       "        text-align: right;\n",
       "    }\n",
       "</style>\n",
       "<table border=\"1\" class=\"dataframe\">\n",
       "  <thead>\n",
       "    <tr>\n",
       "      <th></th>\n",
       "      <th colspan=\"5\" halign=\"left\">age_upon_outcome</th>\n",
       "      <th colspan=\"5\" halign=\"left\">animal_id</th>\n",
       "      <th>...</th>\n",
       "      <th colspan=\"5\" halign=\"left\">name</th>\n",
       "      <th colspan=\"5\" halign=\"left\">outcome_subtype</th>\n",
       "    </tr>\n",
       "    <tr>\n",
       "      <th>sex_upon_outcome</th>\n",
       "      <th>Intact Female</th>\n",
       "      <th>Intact Male</th>\n",
       "      <th>Neutered Male</th>\n",
       "      <th>Spayed Female</th>\n",
       "      <th>Unknown</th>\n",
       "      <th>Intact Female</th>\n",
       "      <th>Intact Male</th>\n",
       "      <th>Neutered Male</th>\n",
       "      <th>Spayed Female</th>\n",
       "      <th>Unknown</th>\n",
       "      <th>...</th>\n",
       "      <th>Intact Female</th>\n",
       "      <th>Intact Male</th>\n",
       "      <th>Neutered Male</th>\n",
       "      <th>Spayed Female</th>\n",
       "      <th>Unknown</th>\n",
       "      <th>Intact Female</th>\n",
       "      <th>Intact Male</th>\n",
       "      <th>Neutered Male</th>\n",
       "      <th>Spayed Female</th>\n",
       "      <th>Unknown</th>\n",
       "    </tr>\n",
       "    <tr>\n",
       "      <th>outcome_type</th>\n",
       "      <th></th>\n",
       "      <th></th>\n",
       "      <th></th>\n",
       "      <th></th>\n",
       "      <th></th>\n",
       "      <th></th>\n",
       "      <th></th>\n",
       "      <th></th>\n",
       "      <th></th>\n",
       "      <th></th>\n",
       "      <th></th>\n",
       "      <th></th>\n",
       "      <th></th>\n",
       "      <th></th>\n",
       "      <th></th>\n",
       "      <th></th>\n",
       "      <th></th>\n",
       "      <th></th>\n",
       "      <th></th>\n",
       "      <th></th>\n",
       "      <th></th>\n",
       "    </tr>\n",
       "  </thead>\n",
       "  <tbody>\n",
       "    <tr>\n",
       "      <th>Adoption</th>\n",
       "      <td>9.0</td>\n",
       "      <td>10.0</td>\n",
       "      <td>245.0</td>\n",
       "      <td>216.0</td>\n",
       "      <td>1.0</td>\n",
       "      <td>9.0</td>\n",
       "      <td>10.0</td>\n",
       "      <td>245.0</td>\n",
       "      <td>216.0</td>\n",
       "      <td>1.0</td>\n",
       "      <td>...</td>\n",
       "      <td>9.0</td>\n",
       "      <td>10.0</td>\n",
       "      <td>245.0</td>\n",
       "      <td>216.0</td>\n",
       "      <td>1.0</td>\n",
       "      <td>9.0</td>\n",
       "      <td>10.0</td>\n",
       "      <td>245.0</td>\n",
       "      <td>216.0</td>\n",
       "      <td>1.0</td>\n",
       "    </tr>\n",
       "    <tr>\n",
       "      <th>Died</th>\n",
       "      <td>3.0</td>\n",
       "      <td>3.0</td>\n",
       "      <td>1.0</td>\n",
       "      <td>2.0</td>\n",
       "      <td>5.0</td>\n",
       "      <td>3.0</td>\n",
       "      <td>3.0</td>\n",
       "      <td>1.0</td>\n",
       "      <td>2.0</td>\n",
       "      <td>5.0</td>\n",
       "      <td>...</td>\n",
       "      <td>3.0</td>\n",
       "      <td>3.0</td>\n",
       "      <td>1.0</td>\n",
       "      <td>2.0</td>\n",
       "      <td>5.0</td>\n",
       "      <td>3.0</td>\n",
       "      <td>3.0</td>\n",
       "      <td>1.0</td>\n",
       "      <td>2.0</td>\n",
       "      <td>5.0</td>\n",
       "    </tr>\n",
       "    <tr>\n",
       "      <th>Disposal</th>\n",
       "      <td>NaN</td>\n",
       "      <td>1.0</td>\n",
       "      <td>NaN</td>\n",
       "      <td>NaN</td>\n",
       "      <td>3.0</td>\n",
       "      <td>NaN</td>\n",
       "      <td>1.0</td>\n",
       "      <td>NaN</td>\n",
       "      <td>NaN</td>\n",
       "      <td>3.0</td>\n",
       "      <td>...</td>\n",
       "      <td>NaN</td>\n",
       "      <td>1.0</td>\n",
       "      <td>NaN</td>\n",
       "      <td>NaN</td>\n",
       "      <td>3.0</td>\n",
       "      <td>NaN</td>\n",
       "      <td>1.0</td>\n",
       "      <td>NaN</td>\n",
       "      <td>NaN</td>\n",
       "      <td>3.0</td>\n",
       "    </tr>\n",
       "    <tr>\n",
       "      <th>Euthanasia</th>\n",
       "      <td>9.0</td>\n",
       "      <td>8.0</td>\n",
       "      <td>4.0</td>\n",
       "      <td>2.0</td>\n",
       "      <td>41.0</td>\n",
       "      <td>9.0</td>\n",
       "      <td>8.0</td>\n",
       "      <td>4.0</td>\n",
       "      <td>2.0</td>\n",
       "      <td>41.0</td>\n",
       "      <td>...</td>\n",
       "      <td>9.0</td>\n",
       "      <td>8.0</td>\n",
       "      <td>4.0</td>\n",
       "      <td>2.0</td>\n",
       "      <td>41.0</td>\n",
       "      <td>9.0</td>\n",
       "      <td>8.0</td>\n",
       "      <td>4.0</td>\n",
       "      <td>2.0</td>\n",
       "      <td>41.0</td>\n",
       "    </tr>\n",
       "    <tr>\n",
       "      <th>Return to Owner</th>\n",
       "      <td>18.0</td>\n",
       "      <td>33.0</td>\n",
       "      <td>57.0</td>\n",
       "      <td>41.0</td>\n",
       "      <td>1.0</td>\n",
       "      <td>18.0</td>\n",
       "      <td>33.0</td>\n",
       "      <td>57.0</td>\n",
       "      <td>41.0</td>\n",
       "      <td>1.0</td>\n",
       "      <td>...</td>\n",
       "      <td>18.0</td>\n",
       "      <td>33.0</td>\n",
       "      <td>57.0</td>\n",
       "      <td>41.0</td>\n",
       "      <td>1.0</td>\n",
       "      <td>18.0</td>\n",
       "      <td>33.0</td>\n",
       "      <td>57.0</td>\n",
       "      <td>41.0</td>\n",
       "      <td>1.0</td>\n",
       "    </tr>\n",
       "    <tr>\n",
       "      <th>Rto-Adopt</th>\n",
       "      <td>NaN</td>\n",
       "      <td>NaN</td>\n",
       "      <td>5.0</td>\n",
       "      <td>5.0</td>\n",
       "      <td>NaN</td>\n",
       "      <td>NaN</td>\n",
       "      <td>NaN</td>\n",
       "      <td>5.0</td>\n",
       "      <td>5.0</td>\n",
       "      <td>NaN</td>\n",
       "      <td>...</td>\n",
       "      <td>NaN</td>\n",
       "      <td>NaN</td>\n",
       "      <td>5.0</td>\n",
       "      <td>5.0</td>\n",
       "      <td>NaN</td>\n",
       "      <td>NaN</td>\n",
       "      <td>NaN</td>\n",
       "      <td>5.0</td>\n",
       "      <td>5.0</td>\n",
       "      <td>NaN</td>\n",
       "    </tr>\n",
       "    <tr>\n",
       "      <th>Transfer</th>\n",
       "      <td>86.0</td>\n",
       "      <td>79.0</td>\n",
       "      <td>47.0</td>\n",
       "      <td>38.0</td>\n",
       "      <td>27.0</td>\n",
       "      <td>86.0</td>\n",
       "      <td>79.0</td>\n",
       "      <td>47.0</td>\n",
       "      <td>38.0</td>\n",
       "      <td>27.0</td>\n",
       "      <td>...</td>\n",
       "      <td>86.0</td>\n",
       "      <td>79.0</td>\n",
       "      <td>47.0</td>\n",
       "      <td>38.0</td>\n",
       "      <td>27.0</td>\n",
       "      <td>86.0</td>\n",
       "      <td>79.0</td>\n",
       "      <td>47.0</td>\n",
       "      <td>38.0</td>\n",
       "      <td>27.0</td>\n",
       "    </tr>\n",
       "  </tbody>\n",
       "</table>\n",
       "<p>7 rows × 50 columns</p>\n",
       "</div>"
      ],
      "text/plain": [
       "                 age_upon_outcome                                          \\\n",
       "sex_upon_outcome    Intact Female Intact Male Neutered Male Spayed Female   \n",
       "outcome_type                                                                \n",
       "Adoption                      9.0        10.0         245.0         216.0   \n",
       "Died                          3.0         3.0           1.0           2.0   \n",
       "Disposal                      NaN         1.0           NaN           NaN   \n",
       "Euthanasia                    9.0         8.0           4.0           2.0   \n",
       "Return to Owner              18.0        33.0          57.0          41.0   \n",
       "Rto-Adopt                     NaN         NaN           5.0           5.0   \n",
       "Transfer                     86.0        79.0          47.0          38.0   \n",
       "\n",
       "                             animal_id                            \\\n",
       "sex_upon_outcome Unknown Intact Female Intact Male Neutered Male   \n",
       "outcome_type                                                       \n",
       "Adoption             1.0           9.0        10.0         245.0   \n",
       "Died                 5.0           3.0         3.0           1.0   \n",
       "Disposal             3.0           NaN         1.0           NaN   \n",
       "Euthanasia          41.0           9.0         8.0           4.0   \n",
       "Return to Owner      1.0          18.0        33.0          57.0   \n",
       "Rto-Adopt            NaN           NaN         NaN           5.0   \n",
       "Transfer            27.0          86.0        79.0          47.0   \n",
       "\n",
       "                                        ...          name              \\\n",
       "sex_upon_outcome Spayed Female Unknown  ... Intact Female Intact Male   \n",
       "outcome_type                            ...                             \n",
       "Adoption                 216.0     1.0  ...           9.0        10.0   \n",
       "Died                       2.0     5.0  ...           3.0         3.0   \n",
       "Disposal                   NaN     3.0  ...           NaN         1.0   \n",
       "Euthanasia                 2.0    41.0  ...           9.0         8.0   \n",
       "Return to Owner           41.0     1.0  ...          18.0        33.0   \n",
       "Rto-Adopt                  5.0     NaN  ...           NaN         NaN   \n",
       "Transfer                  38.0    27.0  ...          86.0        79.0   \n",
       "\n",
       "                                                     outcome_subtype  \\\n",
       "sex_upon_outcome Neutered Male Spayed Female Unknown   Intact Female   \n",
       "outcome_type                                                           \n",
       "Adoption                 245.0         216.0     1.0             9.0   \n",
       "Died                       1.0           2.0     5.0             3.0   \n",
       "Disposal                   NaN           NaN     3.0             NaN   \n",
       "Euthanasia                 4.0           2.0    41.0             9.0   \n",
       "Return to Owner           57.0          41.0     1.0            18.0   \n",
       "Rto-Adopt                  5.0           5.0     NaN             NaN   \n",
       "Transfer                  47.0          38.0    27.0            86.0   \n",
       "\n",
       "                                                                  \n",
       "sex_upon_outcome Intact Male Neutered Male Spayed Female Unknown  \n",
       "outcome_type                                                      \n",
       "Adoption                10.0         245.0         216.0     1.0  \n",
       "Died                     3.0           1.0           2.0     5.0  \n",
       "Disposal                 1.0           NaN           NaN     3.0  \n",
       "Euthanasia               8.0           4.0           2.0    41.0  \n",
       "Return to Owner         33.0          57.0          41.0     1.0  \n",
       "Rto-Adopt                NaN           5.0           5.0     NaN  \n",
       "Transfer                79.0          47.0          38.0    27.0  \n",
       "\n",
       "[7 rows x 50 columns]"
      ]
     },
     "execution_count": 29,
     "metadata": {},
     "output_type": "execute_result"
    }
   ],
   "source": [
    "animals.pivot_table(index='outcome_type', columns='sex_upon_outcome', aggfunc=len)"
   ]
  },
  {
   "cell_type": "code",
   "execution_count": 30,
   "metadata": {
    "ExecuteTime": {
     "end_time": "2022-08-04T14:14:22.620078Z",
     "start_time": "2022-08-04T14:14:22.614814Z"
    }
   },
   "outputs": [
    {
     "data": {
      "text/html": [
       "<div>\n",
       "<style scoped>\n",
       "    .dataframe tbody tr th:only-of-type {\n",
       "        vertical-align: middle;\n",
       "    }\n",
       "\n",
       "    .dataframe tbody tr th {\n",
       "        vertical-align: top;\n",
       "    }\n",
       "\n",
       "    .dataframe thead th {\n",
       "        text-align: right;\n",
       "    }\n",
       "</style>\n",
       "<table border=\"1\" class=\"dataframe\">\n",
       "  <thead>\n",
       "    <tr style=\"text-align: right;\">\n",
       "      <th></th>\n",
       "      <th>category</th>\n",
       "      <th>descr</th>\n",
       "      <th>priority</th>\n",
       "      <th>num_tasks</th>\n",
       "    </tr>\n",
       "  </thead>\n",
       "  <tbody>\n",
       "    <tr>\n",
       "      <th>0</th>\n",
       "      <td>house</td>\n",
       "      <td>kitchen</td>\n",
       "      <td>2</td>\n",
       "      <td>2</td>\n",
       "    </tr>\n",
       "    <tr>\n",
       "      <th>1</th>\n",
       "      <td>house</td>\n",
       "      <td>laundry</td>\n",
       "      <td>3</td>\n",
       "      <td>1</td>\n",
       "    </tr>\n",
       "    <tr>\n",
       "      <th>2</th>\n",
       "      <td>school</td>\n",
       "      <td>git</td>\n",
       "      <td>4</td>\n",
       "      <td>2</td>\n",
       "    </tr>\n",
       "    <tr>\n",
       "      <th>3</th>\n",
       "      <td>school</td>\n",
       "      <td>Python</td>\n",
       "      <td>1</td>\n",
       "      <td>3</td>\n",
       "    </tr>\n",
       "  </tbody>\n",
       "</table>\n",
       "</div>"
      ],
      "text/plain": [
       "  category    descr  priority  num_tasks\n",
       "0    house  kitchen         2          2\n",
       "1    house  laundry         3          1\n",
       "2   school      git         4          2\n",
       "3   school   Python         1          3"
      ]
     },
     "execution_count": 30,
     "metadata": {},
     "output_type": "execute_result"
    }
   ],
   "source": [
    "tasks = pd.DataFrame({'category': ['house', 'house', 'school', 'school'],\n",
    "                      'descr': ['kitchen', 'laundry', 'git', 'Python'],\n",
    "                      'priority': [2, 3, 4, 1], 'num_tasks': [2, 1, 2, 3]})\n",
    "\n",
    "tasks"
   ]
  },
  {
   "cell_type": "markdown",
   "metadata": {},
   "source": [
    "### Exercise\n",
    "\n",
    "Use `.pivot_table()` to add up the number of my tasks by category. Hint: Use `sum()` as your aggregating function."
   ]
  },
  {
   "cell_type": "code",
   "execution_count": 32,
   "metadata": {
    "scrolled": true
   },
   "outputs": [
    {
     "name": "stderr",
     "output_type": "stream",
     "text": [
      "/var/folders/pn/v9tvzf9s5ms7zcp53821ct0m0000gn/T/ipykernel_10668/39747134.py:1: FutureWarning: The provided callable <function sum at 0x1083d4a40> is currently using DataFrameGroupBy.sum. In a future version of pandas, the provided callable will be used directly. To keep current behavior pass the string \"sum\" instead.\n",
      "  pd.pivot_table(tasks, values='num_tasks', index=['category'], aggfunc=np.sum)\n"
     ]
    },
    {
     "data": {
      "text/html": [
       "<div>\n",
       "<style scoped>\n",
       "    .dataframe tbody tr th:only-of-type {\n",
       "        vertical-align: middle;\n",
       "    }\n",
       "\n",
       "    .dataframe tbody tr th {\n",
       "        vertical-align: top;\n",
       "    }\n",
       "\n",
       "    .dataframe thead th {\n",
       "        text-align: right;\n",
       "    }\n",
       "</style>\n",
       "<table border=\"1\" class=\"dataframe\">\n",
       "  <thead>\n",
       "    <tr style=\"text-align: right;\">\n",
       "      <th></th>\n",
       "      <th>num_tasks</th>\n",
       "    </tr>\n",
       "    <tr>\n",
       "      <th>category</th>\n",
       "      <th></th>\n",
       "    </tr>\n",
       "  </thead>\n",
       "  <tbody>\n",
       "    <tr>\n",
       "      <th>house</th>\n",
       "      <td>3</td>\n",
       "    </tr>\n",
       "    <tr>\n",
       "      <th>school</th>\n",
       "      <td>5</td>\n",
       "    </tr>\n",
       "  </tbody>\n",
       "</table>\n",
       "</div>"
      ],
      "text/plain": [
       "          num_tasks\n",
       "category           \n",
       "house             3\n",
       "school            5"
      ]
     },
     "execution_count": 32,
     "metadata": {},
     "output_type": "execute_result"
    }
   ],
   "source": [
    "pd.pivot_table(tasks, values='num_tasks', index=['category'], aggfunc=np.sum)"
   ]
  },
  {
   "cell_type": "code",
   "execution_count": 31,
   "metadata": {
    "ExecuteTime": {
     "end_time": "2022-08-04T14:14:22.627257Z",
     "start_time": "2022-08-04T14:14:22.621034Z"
    }
   },
   "outputs": [
    {
     "name": "stderr",
     "output_type": "stream",
     "text": [
      "/var/folders/pn/v9tvzf9s5ms7zcp53821ct0m0000gn/T/ipykernel_10668/1488125588.py:1: FutureWarning: The provided callable <built-in function sum> is currently using DataFrameGroupBy.sum. In a future version of pandas, the provided callable will be used directly. To keep current behavior pass the string \"sum\" instead.\n",
      "  tasks.pivot_table(values='num_tasks',index='category',aggfunc=sum)\n"
     ]
    },
    {
     "data": {
      "text/html": [
       "<div>\n",
       "<style scoped>\n",
       "    .dataframe tbody tr th:only-of-type {\n",
       "        vertical-align: middle;\n",
       "    }\n",
       "\n",
       "    .dataframe tbody tr th {\n",
       "        vertical-align: top;\n",
       "    }\n",
       "\n",
       "    .dataframe thead th {\n",
       "        text-align: right;\n",
       "    }\n",
       "</style>\n",
       "<table border=\"1\" class=\"dataframe\">\n",
       "  <thead>\n",
       "    <tr style=\"text-align: right;\">\n",
       "      <th></th>\n",
       "      <th>num_tasks</th>\n",
       "    </tr>\n",
       "    <tr>\n",
       "      <th>category</th>\n",
       "      <th></th>\n",
       "    </tr>\n",
       "  </thead>\n",
       "  <tbody>\n",
       "    <tr>\n",
       "      <th>house</th>\n",
       "      <td>3</td>\n",
       "    </tr>\n",
       "    <tr>\n",
       "      <th>school</th>\n",
       "      <td>5</td>\n",
       "    </tr>\n",
       "  </tbody>\n",
       "</table>\n",
       "</div>"
      ],
      "text/plain": [
       "          num_tasks\n",
       "category           \n",
       "house             3\n",
       "school            5"
      ]
     },
     "execution_count": 31,
     "metadata": {},
     "output_type": "execute_result"
    }
   ],
   "source": [
    "tasks.pivot_table(values='num_tasks',index='category',aggfunc=sum)"
   ]
  },
  {
   "cell_type": "markdown",
   "metadata": {},
   "source": [
    "<details>\n",
    "    <summary>Answer</summary>\n",
    "    <code>tasks.pivot_table(values='num_tasks', index='category', aggfunc=sum)</code>\n",
    "    </details>"
   ]
  },
  {
   "cell_type": "markdown",
   "metadata": {
    "heading_collapsed": true,
    "hidden": true
   },
   "source": [
    "## Methods for Combining DataFrames: `.join()`, `.merge()`, `pd.concat()`"
   ]
  },
  {
   "cell_type": "markdown",
   "metadata": {
    "heading_collapsed": true,
    "hidden": true
   },
   "source": [
    "### `.join()`"
   ]
  },
  {
   "cell_type": "code",
   "execution_count": 33,
   "metadata": {
    "ExecuteTime": {
     "end_time": "2022-08-04T14:14:22.633501Z",
     "start_time": "2022-08-04T14:14:22.628875Z"
    },
    "hidden": true
   },
   "outputs": [
    {
     "data": {
      "text/html": [
       "<div>\n",
       "<style scoped>\n",
       "    .dataframe tbody tr th:only-of-type {\n",
       "        vertical-align: middle;\n",
       "    }\n",
       "\n",
       "    .dataframe tbody tr th {\n",
       "        vertical-align: top;\n",
       "    }\n",
       "\n",
       "    .dataframe thead th {\n",
       "        text-align: right;\n",
       "    }\n",
       "</style>\n",
       "<table border=\"1\" class=\"dataframe\">\n",
       "  <thead>\n",
       "    <tr style=\"text-align: right;\">\n",
       "      <th></th>\n",
       "      <th>age</th>\n",
       "      <th>HP</th>\n",
       "    </tr>\n",
       "  </thead>\n",
       "  <tbody>\n",
       "    <tr>\n",
       "      <th>0</th>\n",
       "      <td>63</td>\n",
       "      <td>142</td>\n",
       "    </tr>\n",
       "    <tr>\n",
       "      <th>1</th>\n",
       "      <td>33</td>\n",
       "      <td>47</td>\n",
       "    </tr>\n",
       "  </tbody>\n",
       "</table>\n",
       "</div>"
      ],
      "text/plain": [
       "   age   HP\n",
       "0   63  142\n",
       "1   33   47"
      ]
     },
     "execution_count": 33,
     "metadata": {},
     "output_type": "execute_result"
    }
   ],
   "source": [
    "toy1 = pd.DataFrame([[63, 142], [33, 47]], columns=['age', 'HP'])\n",
    "toy2 = pd.DataFrame([[63, 100], [33, 200]], columns=['age', 'MP'])\n",
    "\n",
    "toy1"
   ]
  },
  {
   "cell_type": "code",
   "execution_count": 34,
   "metadata": {
    "ExecuteTime": {
     "end_time": "2022-08-04T14:14:22.637742Z",
     "start_time": "2022-08-04T14:14:22.634566Z"
    },
    "hidden": true
   },
   "outputs": [
    {
     "data": {
      "text/html": [
       "<div>\n",
       "<style scoped>\n",
       "    .dataframe tbody tr th:only-of-type {\n",
       "        vertical-align: middle;\n",
       "    }\n",
       "\n",
       "    .dataframe tbody tr th {\n",
       "        vertical-align: top;\n",
       "    }\n",
       "\n",
       "    .dataframe thead th {\n",
       "        text-align: right;\n",
       "    }\n",
       "</style>\n",
       "<table border=\"1\" class=\"dataframe\">\n",
       "  <thead>\n",
       "    <tr style=\"text-align: right;\">\n",
       "      <th></th>\n",
       "      <th>age</th>\n",
       "      <th>MP</th>\n",
       "    </tr>\n",
       "  </thead>\n",
       "  <tbody>\n",
       "    <tr>\n",
       "      <th>0</th>\n",
       "      <td>63</td>\n",
       "      <td>100</td>\n",
       "    </tr>\n",
       "    <tr>\n",
       "      <th>1</th>\n",
       "      <td>33</td>\n",
       "      <td>200</td>\n",
       "    </tr>\n",
       "  </tbody>\n",
       "</table>\n",
       "</div>"
      ],
      "text/plain": [
       "   age   MP\n",
       "0   63  100\n",
       "1   33  200"
      ]
     },
     "execution_count": 34,
     "metadata": {},
     "output_type": "execute_result"
    }
   ],
   "source": [
    "toy2"
   ]
  },
  {
   "cell_type": "code",
   "execution_count": 35,
   "metadata": {
    "ExecuteTime": {
     "end_time": "2022-08-04T14:14:22.647056Z",
     "start_time": "2022-08-04T14:14:22.638646Z"
    }
   },
   "outputs": [
    {
     "ename": "ValueError",
     "evalue": "columns overlap but no suffix specified: Index(['age'], dtype='object')",
     "output_type": "error",
     "traceback": [
      "\u001b[0;31m---------------------------------------------------------------------------\u001b[0m",
      "\u001b[0;31mValueError\u001b[0m                                Traceback (most recent call last)",
      "Cell \u001b[0;32mIn[35], line 3\u001b[0m\n\u001b[1;32m      1\u001b[0m \u001b[38;5;66;03m# We can't just join these as they are, since we haven't specified our suffixes.\u001b[39;00m\n\u001b[0;32m----> 3\u001b[0m toy1\u001b[38;5;241m.\u001b[39mjoin(toy2)\n",
      "File \u001b[0;32m~/anaconda3/lib/python3.11/site-packages/pandas/core/frame.py:10412\u001b[0m, in \u001b[0;36mDataFrame.join\u001b[0;34m(self, other, on, how, lsuffix, rsuffix, sort, validate)\u001b[0m\n\u001b[1;32m  10402\u001b[0m     \u001b[38;5;28;01mif\u001b[39;00m how \u001b[38;5;241m==\u001b[39m \u001b[38;5;124m\"\u001b[39m\u001b[38;5;124mcross\u001b[39m\u001b[38;5;124m\"\u001b[39m:\n\u001b[1;32m  10403\u001b[0m         \u001b[38;5;28;01mreturn\u001b[39;00m merge(\n\u001b[1;32m  10404\u001b[0m             \u001b[38;5;28mself\u001b[39m,\n\u001b[1;32m  10405\u001b[0m             other,\n\u001b[0;32m   (...)\u001b[0m\n\u001b[1;32m  10410\u001b[0m             validate\u001b[38;5;241m=\u001b[39mvalidate,\n\u001b[1;32m  10411\u001b[0m         )\n\u001b[0;32m> 10412\u001b[0m     \u001b[38;5;28;01mreturn\u001b[39;00m merge(\n\u001b[1;32m  10413\u001b[0m         \u001b[38;5;28mself\u001b[39m,\n\u001b[1;32m  10414\u001b[0m         other,\n\u001b[1;32m  10415\u001b[0m         left_on\u001b[38;5;241m=\u001b[39mon,\n\u001b[1;32m  10416\u001b[0m         how\u001b[38;5;241m=\u001b[39mhow,\n\u001b[1;32m  10417\u001b[0m         left_index\u001b[38;5;241m=\u001b[39mon \u001b[38;5;129;01mis\u001b[39;00m \u001b[38;5;28;01mNone\u001b[39;00m,\n\u001b[1;32m  10418\u001b[0m         right_index\u001b[38;5;241m=\u001b[39m\u001b[38;5;28;01mTrue\u001b[39;00m,\n\u001b[1;32m  10419\u001b[0m         suffixes\u001b[38;5;241m=\u001b[39m(lsuffix, rsuffix),\n\u001b[1;32m  10420\u001b[0m         sort\u001b[38;5;241m=\u001b[39msort,\n\u001b[1;32m  10421\u001b[0m         validate\u001b[38;5;241m=\u001b[39mvalidate,\n\u001b[1;32m  10422\u001b[0m     )\n\u001b[1;32m  10423\u001b[0m \u001b[38;5;28;01melse\u001b[39;00m:\n\u001b[1;32m  10424\u001b[0m     \u001b[38;5;28;01mif\u001b[39;00m on \u001b[38;5;129;01mis\u001b[39;00m \u001b[38;5;129;01mnot\u001b[39;00m \u001b[38;5;28;01mNone\u001b[39;00m:\n",
      "File \u001b[0;32m~/anaconda3/lib/python3.11/site-packages/pandas/core/reshape/merge.py:183\u001b[0m, in \u001b[0;36mmerge\u001b[0;34m(left, right, how, on, left_on, right_on, left_index, right_index, sort, suffixes, copy, indicator, validate)\u001b[0m\n\u001b[1;32m    168\u001b[0m \u001b[38;5;28;01melse\u001b[39;00m:\n\u001b[1;32m    169\u001b[0m     op \u001b[38;5;241m=\u001b[39m _MergeOperation(\n\u001b[1;32m    170\u001b[0m         left_df,\n\u001b[1;32m    171\u001b[0m         right_df,\n\u001b[0;32m   (...)\u001b[0m\n\u001b[1;32m    181\u001b[0m         validate\u001b[38;5;241m=\u001b[39mvalidate,\n\u001b[1;32m    182\u001b[0m     )\n\u001b[0;32m--> 183\u001b[0m     \u001b[38;5;28;01mreturn\u001b[39;00m op\u001b[38;5;241m.\u001b[39mget_result(copy\u001b[38;5;241m=\u001b[39mcopy)\n",
      "File \u001b[0;32m~/anaconda3/lib/python3.11/site-packages/pandas/core/reshape/merge.py:885\u001b[0m, in \u001b[0;36m_MergeOperation.get_result\u001b[0;34m(self, copy)\u001b[0m\n\u001b[1;32m    881\u001b[0m     \u001b[38;5;28mself\u001b[39m\u001b[38;5;241m.\u001b[39mleft, \u001b[38;5;28mself\u001b[39m\u001b[38;5;241m.\u001b[39mright \u001b[38;5;241m=\u001b[39m \u001b[38;5;28mself\u001b[39m\u001b[38;5;241m.\u001b[39m_indicator_pre_merge(\u001b[38;5;28mself\u001b[39m\u001b[38;5;241m.\u001b[39mleft, \u001b[38;5;28mself\u001b[39m\u001b[38;5;241m.\u001b[39mright)\n\u001b[1;32m    883\u001b[0m join_index, left_indexer, right_indexer \u001b[38;5;241m=\u001b[39m \u001b[38;5;28mself\u001b[39m\u001b[38;5;241m.\u001b[39m_get_join_info()\n\u001b[0;32m--> 885\u001b[0m result \u001b[38;5;241m=\u001b[39m \u001b[38;5;28mself\u001b[39m\u001b[38;5;241m.\u001b[39m_reindex_and_concat(\n\u001b[1;32m    886\u001b[0m     join_index, left_indexer, right_indexer, copy\u001b[38;5;241m=\u001b[39mcopy\n\u001b[1;32m    887\u001b[0m )\n\u001b[1;32m    888\u001b[0m result \u001b[38;5;241m=\u001b[39m result\u001b[38;5;241m.\u001b[39m__finalize__(\u001b[38;5;28mself\u001b[39m, method\u001b[38;5;241m=\u001b[39m\u001b[38;5;28mself\u001b[39m\u001b[38;5;241m.\u001b[39m_merge_type)\n\u001b[1;32m    890\u001b[0m \u001b[38;5;28;01mif\u001b[39;00m \u001b[38;5;28mself\u001b[39m\u001b[38;5;241m.\u001b[39mindicator:\n",
      "File \u001b[0;32m~/anaconda3/lib/python3.11/site-packages/pandas/core/reshape/merge.py:837\u001b[0m, in \u001b[0;36m_MergeOperation._reindex_and_concat\u001b[0;34m(self, join_index, left_indexer, right_indexer, copy)\u001b[0m\n\u001b[1;32m    834\u001b[0m left \u001b[38;5;241m=\u001b[39m \u001b[38;5;28mself\u001b[39m\u001b[38;5;241m.\u001b[39mleft[:]\n\u001b[1;32m    835\u001b[0m right \u001b[38;5;241m=\u001b[39m \u001b[38;5;28mself\u001b[39m\u001b[38;5;241m.\u001b[39mright[:]\n\u001b[0;32m--> 837\u001b[0m llabels, rlabels \u001b[38;5;241m=\u001b[39m _items_overlap_with_suffix(\n\u001b[1;32m    838\u001b[0m     \u001b[38;5;28mself\u001b[39m\u001b[38;5;241m.\u001b[39mleft\u001b[38;5;241m.\u001b[39m_info_axis, \u001b[38;5;28mself\u001b[39m\u001b[38;5;241m.\u001b[39mright\u001b[38;5;241m.\u001b[39m_info_axis, \u001b[38;5;28mself\u001b[39m\u001b[38;5;241m.\u001b[39msuffixes\n\u001b[1;32m    839\u001b[0m )\n\u001b[1;32m    841\u001b[0m \u001b[38;5;28;01mif\u001b[39;00m left_indexer \u001b[38;5;129;01mis\u001b[39;00m \u001b[38;5;129;01mnot\u001b[39;00m \u001b[38;5;28;01mNone\u001b[39;00m \u001b[38;5;129;01mand\u001b[39;00m \u001b[38;5;129;01mnot\u001b[39;00m is_range_indexer(left_indexer, \u001b[38;5;28mlen\u001b[39m(left)):\n\u001b[1;32m    842\u001b[0m     \u001b[38;5;66;03m# Pinning the index here (and in the right code just below) is not\u001b[39;00m\n\u001b[1;32m    843\u001b[0m     \u001b[38;5;66;03m#  necessary, but makes the `.take` more performant if we have e.g.\u001b[39;00m\n\u001b[1;32m    844\u001b[0m     \u001b[38;5;66;03m#  a MultiIndex for left.index.\u001b[39;00m\n\u001b[1;32m    845\u001b[0m     lmgr \u001b[38;5;241m=\u001b[39m left\u001b[38;5;241m.\u001b[39m_mgr\u001b[38;5;241m.\u001b[39mreindex_indexer(\n\u001b[1;32m    846\u001b[0m         join_index,\n\u001b[1;32m    847\u001b[0m         left_indexer,\n\u001b[0;32m   (...)\u001b[0m\n\u001b[1;32m    852\u001b[0m         use_na_proxy\u001b[38;5;241m=\u001b[39m\u001b[38;5;28;01mTrue\u001b[39;00m,\n\u001b[1;32m    853\u001b[0m     )\n",
      "File \u001b[0;32m~/anaconda3/lib/python3.11/site-packages/pandas/core/reshape/merge.py:2661\u001b[0m, in \u001b[0;36m_items_overlap_with_suffix\u001b[0;34m(left, right, suffixes)\u001b[0m\n\u001b[1;32m   2658\u001b[0m lsuffix, rsuffix \u001b[38;5;241m=\u001b[39m suffixes\n\u001b[1;32m   2660\u001b[0m \u001b[38;5;28;01mif\u001b[39;00m \u001b[38;5;129;01mnot\u001b[39;00m lsuffix \u001b[38;5;129;01mand\u001b[39;00m \u001b[38;5;129;01mnot\u001b[39;00m rsuffix:\n\u001b[0;32m-> 2661\u001b[0m     \u001b[38;5;28;01mraise\u001b[39;00m \u001b[38;5;167;01mValueError\u001b[39;00m(\u001b[38;5;124mf\u001b[39m\u001b[38;5;124m\"\u001b[39m\u001b[38;5;124mcolumns overlap but no suffix specified: \u001b[39m\u001b[38;5;132;01m{\u001b[39;00mto_rename\u001b[38;5;132;01m}\u001b[39;00m\u001b[38;5;124m\"\u001b[39m)\n\u001b[1;32m   2663\u001b[0m \u001b[38;5;28;01mdef\u001b[39;00m \u001b[38;5;21mrenamer\u001b[39m(x, suffix: \u001b[38;5;28mstr\u001b[39m \u001b[38;5;241m|\u001b[39m \u001b[38;5;28;01mNone\u001b[39;00m):\n\u001b[1;32m   2664\u001b[0m \u001b[38;5;250m    \u001b[39m\u001b[38;5;124;03m\"\"\"\u001b[39;00m\n\u001b[1;32m   2665\u001b[0m \u001b[38;5;124;03m    Rename the left and right indices.\u001b[39;00m\n\u001b[1;32m   2666\u001b[0m \n\u001b[0;32m   (...)\u001b[0m\n\u001b[1;32m   2677\u001b[0m \u001b[38;5;124;03m    x : renamed column name\u001b[39;00m\n\u001b[1;32m   2678\u001b[0m \u001b[38;5;124;03m    \"\"\"\u001b[39;00m\n",
      "\u001b[0;31mValueError\u001b[0m: columns overlap but no suffix specified: Index(['age'], dtype='object')"
     ]
    }
   ],
   "source": [
    "# We can't just join these as they are, since we haven't specified our suffixes.\n",
    "\n",
    "toy1.join(toy2)"
   ]
  },
  {
   "cell_type": "code",
   "execution_count": 36,
   "metadata": {
    "ExecuteTime": {
     "end_time": "2022-08-04T14:14:22.648138Z",
     "start_time": "2022-08-04T14:14:22.569Z"
    }
   },
   "outputs": [
    {
     "data": {
      "text/html": [
       "<div>\n",
       "<style scoped>\n",
       "    .dataframe tbody tr th:only-of-type {\n",
       "        vertical-align: middle;\n",
       "    }\n",
       "\n",
       "    .dataframe tbody tr th {\n",
       "        vertical-align: top;\n",
       "    }\n",
       "\n",
       "    .dataframe thead th {\n",
       "        text-align: right;\n",
       "    }\n",
       "</style>\n",
       "<table border=\"1\" class=\"dataframe\">\n",
       "  <thead>\n",
       "    <tr style=\"text-align: right;\">\n",
       "      <th></th>\n",
       "      <th>age1</th>\n",
       "      <th>HP</th>\n",
       "      <th>age2</th>\n",
       "      <th>MP</th>\n",
       "    </tr>\n",
       "  </thead>\n",
       "  <tbody>\n",
       "    <tr>\n",
       "      <th>0</th>\n",
       "      <td>63</td>\n",
       "      <td>142</td>\n",
       "      <td>63</td>\n",
       "      <td>100</td>\n",
       "    </tr>\n",
       "    <tr>\n",
       "      <th>1</th>\n",
       "      <td>33</td>\n",
       "      <td>47</td>\n",
       "      <td>33</td>\n",
       "      <td>200</td>\n",
       "    </tr>\n",
       "  </tbody>\n",
       "</table>\n",
       "</div>"
      ],
      "text/plain": [
       "   age1   HP  age2   MP\n",
       "0    63  142    63  100\n",
       "1    33   47    33  200"
      ]
     },
     "execution_count": 36,
     "metadata": {},
     "output_type": "execute_result"
    }
   ],
   "source": [
    "toy1.join(toy2, lsuffix='1', rsuffix='2')"
   ]
  },
  {
   "cell_type": "markdown",
   "metadata": {},
   "source": [
    "If we don't want to keep both, we could set the overlapping column as the index in each DataFrame:"
   ]
  },
  {
   "cell_type": "code",
   "execution_count": 37,
   "metadata": {
    "ExecuteTime": {
     "end_time": "2022-08-04T14:14:22.648788Z",
     "start_time": "2022-08-04T14:14:22.636Z"
    },
    "hidden": true
   },
   "outputs": [
    {
     "data": {
      "text/html": [
       "<div>\n",
       "<style scoped>\n",
       "    .dataframe tbody tr th:only-of-type {\n",
       "        vertical-align: middle;\n",
       "    }\n",
       "\n",
       "    .dataframe tbody tr th {\n",
       "        vertical-align: top;\n",
       "    }\n",
       "\n",
       "    .dataframe thead th {\n",
       "        text-align: right;\n",
       "    }\n",
       "</style>\n",
       "<table border=\"1\" class=\"dataframe\">\n",
       "  <thead>\n",
       "    <tr style=\"text-align: right;\">\n",
       "      <th></th>\n",
       "      <th>HP</th>\n",
       "      <th>MP</th>\n",
       "    </tr>\n",
       "    <tr>\n",
       "      <th>age</th>\n",
       "      <th></th>\n",
       "      <th></th>\n",
       "    </tr>\n",
       "  </thead>\n",
       "  <tbody>\n",
       "    <tr>\n",
       "      <th>63</th>\n",
       "      <td>142</td>\n",
       "      <td>100</td>\n",
       "    </tr>\n",
       "    <tr>\n",
       "      <th>33</th>\n",
       "      <td>47</td>\n",
       "      <td>200</td>\n",
       "    </tr>\n",
       "  </tbody>\n",
       "</table>\n",
       "</div>"
      ],
      "text/plain": [
       "      HP   MP\n",
       "age          \n",
       "63   142  100\n",
       "33    47  200"
      ]
     },
     "execution_count": 37,
     "metadata": {},
     "output_type": "execute_result"
    }
   ],
   "source": [
    "toy1.set_index('age').join(toy2.set_index('age'))"
   ]
  },
  {
   "cell_type": "markdown",
   "metadata": {
    "hidden": true
   },
   "source": [
    "For more on this method, check out the [doc](https://pandas.pydata.org/pandas-docs/stable/reference/api/pandas.DataFrame.join.html)!"
   ]
  },
  {
   "cell_type": "markdown",
   "metadata": {
    "heading_collapsed": true,
    "hidden": true
   },
   "source": [
    "### `.merge()`"
   ]
  },
  {
   "cell_type": "markdown",
   "metadata": {},
   "source": [
    "Or we could use `.merge()`:"
   ]
  },
  {
   "cell_type": "code",
   "execution_count": 38,
   "metadata": {
    "ExecuteTime": {
     "end_time": "2022-08-04T14:14:22.877609Z",
     "start_time": "2022-08-04T14:14:22.859226Z"
    }
   },
   "outputs": [
    {
     "data": {
      "text/html": [
       "<div>\n",
       "<style scoped>\n",
       "    .dataframe tbody tr th:only-of-type {\n",
       "        vertical-align: middle;\n",
       "    }\n",
       "\n",
       "    .dataframe tbody tr th {\n",
       "        vertical-align: top;\n",
       "    }\n",
       "\n",
       "    .dataframe thead th {\n",
       "        text-align: right;\n",
       "    }\n",
       "</style>\n",
       "<table border=\"1\" class=\"dataframe\">\n",
       "  <thead>\n",
       "    <tr style=\"text-align: right;\">\n",
       "      <th></th>\n",
       "      <th>age</th>\n",
       "      <th>HP</th>\n",
       "      <th>MP</th>\n",
       "    </tr>\n",
       "  </thead>\n",
       "  <tbody>\n",
       "    <tr>\n",
       "      <th>0</th>\n",
       "      <td>63</td>\n",
       "      <td>142</td>\n",
       "      <td>100</td>\n",
       "    </tr>\n",
       "    <tr>\n",
       "      <th>1</th>\n",
       "      <td>33</td>\n",
       "      <td>47</td>\n",
       "      <td>200</td>\n",
       "    </tr>\n",
       "  </tbody>\n",
       "</table>\n",
       "</div>"
      ],
      "text/plain": [
       "   age   HP   MP\n",
       "0   63  142  100\n",
       "1   33   47  200"
      ]
     },
     "execution_count": 38,
     "metadata": {},
     "output_type": "execute_result"
    }
   ],
   "source": [
    "toy1.merge(toy2)"
   ]
  },
  {
   "cell_type": "code",
   "execution_count": 39,
   "metadata": {
    "ExecuteTime": {
     "end_time": "2022-08-04T14:14:22.891287Z",
     "start_time": "2022-08-04T14:14:22.879499Z"
    },
    "hidden": true
   },
   "outputs": [
    {
     "data": {
      "text/html": [
       "<div>\n",
       "<style scoped>\n",
       "    .dataframe tbody tr th:only-of-type {\n",
       "        vertical-align: middle;\n",
       "    }\n",
       "\n",
       "    .dataframe tbody tr th {\n",
       "        vertical-align: top;\n",
       "    }\n",
       "\n",
       "    .dataframe thead th {\n",
       "        text-align: right;\n",
       "    }\n",
       "</style>\n",
       "<table border=\"1\" class=\"dataframe\">\n",
       "  <thead>\n",
       "    <tr style=\"text-align: right;\">\n",
       "      <th></th>\n",
       "      <th>name</th>\n",
       "      <th>HP</th>\n",
       "      <th>home_state</th>\n",
       "    </tr>\n",
       "  </thead>\n",
       "  <tbody>\n",
       "    <tr>\n",
       "      <th>0</th>\n",
       "      <td>greg</td>\n",
       "      <td>200</td>\n",
       "      <td>WA</td>\n",
       "    </tr>\n",
       "    <tr>\n",
       "      <th>1</th>\n",
       "      <td>miles</td>\n",
       "      <td>200</td>\n",
       "      <td>WA</td>\n",
       "    </tr>\n",
       "    <tr>\n",
       "      <th>2</th>\n",
       "      <td>alan</td>\n",
       "      <td>170</td>\n",
       "      <td>TX</td>\n",
       "    </tr>\n",
       "    <tr>\n",
       "      <th>3</th>\n",
       "      <td>alison</td>\n",
       "      <td>300</td>\n",
       "      <td>DC</td>\n",
       "    </tr>\n",
       "    <tr>\n",
       "      <th>4</th>\n",
       "      <td>rachel</td>\n",
       "      <td>200</td>\n",
       "      <td>TX</td>\n",
       "    </tr>\n",
       "  </tbody>\n",
       "</table>\n",
       "</div>"
      ],
      "text/plain": [
       "     name   HP home_state\n",
       "0    greg  200         WA\n",
       "1   miles  200         WA\n",
       "2    alan  170         TX\n",
       "3  alison  300         DC\n",
       "4  rachel  200         TX"
      ]
     },
     "execution_count": 39,
     "metadata": {},
     "output_type": "execute_result"
    }
   ],
   "source": [
    "ds_chars = pd.read_csv('data/ds_chars.csv', index_col=0)\n",
    "ds_chars"
   ]
  },
  {
   "cell_type": "code",
   "execution_count": 40,
   "metadata": {
    "ExecuteTime": {
     "end_time": "2022-08-04T14:14:22.898530Z",
     "start_time": "2022-08-04T14:14:22.892620Z"
    },
    "hidden": true
   },
   "outputs": [
    {
     "data": {
      "text/html": [
       "<div>\n",
       "<style scoped>\n",
       "    .dataframe tbody tr th:only-of-type {\n",
       "        vertical-align: middle;\n",
       "    }\n",
       "\n",
       "    .dataframe tbody tr th {\n",
       "        vertical-align: top;\n",
       "    }\n",
       "\n",
       "    .dataframe thead th {\n",
       "        text-align: right;\n",
       "    }\n",
       "</style>\n",
       "<table border=\"1\" class=\"dataframe\">\n",
       "  <thead>\n",
       "    <tr style=\"text-align: right;\">\n",
       "      <th></th>\n",
       "      <th>state</th>\n",
       "      <th>nickname</th>\n",
       "      <th>capital</th>\n",
       "    </tr>\n",
       "  </thead>\n",
       "  <tbody>\n",
       "    <tr>\n",
       "      <th>0</th>\n",
       "      <td>WA</td>\n",
       "      <td>evergreen</td>\n",
       "      <td>Olympia</td>\n",
       "    </tr>\n",
       "    <tr>\n",
       "      <th>1</th>\n",
       "      <td>TX</td>\n",
       "      <td>alamo</td>\n",
       "      <td>Austin</td>\n",
       "    </tr>\n",
       "    <tr>\n",
       "      <th>2</th>\n",
       "      <td>DC</td>\n",
       "      <td>district</td>\n",
       "      <td>Washington</td>\n",
       "    </tr>\n",
       "    <tr>\n",
       "      <th>3</th>\n",
       "      <td>OH</td>\n",
       "      <td>buckeye</td>\n",
       "      <td>Columbus</td>\n",
       "    </tr>\n",
       "    <tr>\n",
       "      <th>4</th>\n",
       "      <td>OR</td>\n",
       "      <td>beaver</td>\n",
       "      <td>Salem</td>\n",
       "    </tr>\n",
       "  </tbody>\n",
       "</table>\n",
       "</div>"
      ],
      "text/plain": [
       "  state   nickname     capital\n",
       "0    WA  evergreen     Olympia\n",
       "1    TX      alamo      Austin\n",
       "2    DC   district  Washington\n",
       "3    OH    buckeye    Columbus\n",
       "4    OR     beaver       Salem"
      ]
     },
     "execution_count": 40,
     "metadata": {},
     "output_type": "execute_result"
    }
   ],
   "source": [
    "states = pd.read_csv('data/states.csv', index_col=0)\n",
    "states"
   ]
  },
  {
   "cell_type": "markdown",
   "metadata": {},
   "source": [
    "### The `how` Parameter\n",
    "\n",
    "This parameter in both `.join()` and `.merge()` tells the compiler what sort of join to effect. We'll cover this in detail when we discuss SQL."
   ]
  },
  {
   "cell_type": "code",
   "execution_count": 41,
   "metadata": {
    "ExecuteTime": {
     "end_time": "2022-08-04T14:14:22.931673Z",
     "start_time": "2022-08-04T14:14:22.925013Z"
    },
    "hidden": true
   },
   "outputs": [
    {
     "data": {
      "text/html": [
       "<div>\n",
       "<style scoped>\n",
       "    .dataframe tbody tr th:only-of-type {\n",
       "        vertical-align: middle;\n",
       "    }\n",
       "\n",
       "    .dataframe tbody tr th {\n",
       "        vertical-align: top;\n",
       "    }\n",
       "\n",
       "    .dataframe thead th {\n",
       "        text-align: right;\n",
       "    }\n",
       "</style>\n",
       "<table border=\"1\" class=\"dataframe\">\n",
       "  <thead>\n",
       "    <tr style=\"text-align: right;\">\n",
       "      <th></th>\n",
       "      <th>name</th>\n",
       "      <th>HP</th>\n",
       "      <th>home_state</th>\n",
       "      <th>state</th>\n",
       "      <th>nickname</th>\n",
       "      <th>capital</th>\n",
       "    </tr>\n",
       "  </thead>\n",
       "  <tbody>\n",
       "    <tr>\n",
       "      <th>0</th>\n",
       "      <td>greg</td>\n",
       "      <td>200</td>\n",
       "      <td>WA</td>\n",
       "      <td>WA</td>\n",
       "      <td>evergreen</td>\n",
       "      <td>Olympia</td>\n",
       "    </tr>\n",
       "    <tr>\n",
       "      <th>1</th>\n",
       "      <td>miles</td>\n",
       "      <td>200</td>\n",
       "      <td>WA</td>\n",
       "      <td>WA</td>\n",
       "      <td>evergreen</td>\n",
       "      <td>Olympia</td>\n",
       "    </tr>\n",
       "    <tr>\n",
       "      <th>2</th>\n",
       "      <td>alan</td>\n",
       "      <td>170</td>\n",
       "      <td>TX</td>\n",
       "      <td>TX</td>\n",
       "      <td>alamo</td>\n",
       "      <td>Austin</td>\n",
       "    </tr>\n",
       "    <tr>\n",
       "      <th>3</th>\n",
       "      <td>rachel</td>\n",
       "      <td>200</td>\n",
       "      <td>TX</td>\n",
       "      <td>TX</td>\n",
       "      <td>alamo</td>\n",
       "      <td>Austin</td>\n",
       "    </tr>\n",
       "    <tr>\n",
       "      <th>4</th>\n",
       "      <td>alison</td>\n",
       "      <td>300</td>\n",
       "      <td>DC</td>\n",
       "      <td>DC</td>\n",
       "      <td>district</td>\n",
       "      <td>Washington</td>\n",
       "    </tr>\n",
       "  </tbody>\n",
       "</table>\n",
       "</div>"
      ],
      "text/plain": [
       "     name   HP home_state state   nickname     capital\n",
       "0    greg  200         WA    WA  evergreen     Olympia\n",
       "1   miles  200         WA    WA  evergreen     Olympia\n",
       "2    alan  170         TX    TX      alamo      Austin\n",
       "3  rachel  200         TX    TX      alamo      Austin\n",
       "4  alison  300         DC    DC   district  Washington"
      ]
     },
     "execution_count": 41,
     "metadata": {},
     "output_type": "execute_result"
    }
   ],
   "source": [
    "ds_chars.merge(states,\n",
    "               left_on='home_state',\n",
    "               right_on='state',\n",
    "               how='inner')"
   ]
  },
  {
   "cell_type": "code",
   "execution_count": 42,
   "metadata": {
    "ExecuteTime": {
     "end_time": "2022-08-04T14:14:22.940277Z",
     "start_time": "2022-08-04T14:14:22.932766Z"
    },
    "hidden": true
   },
   "outputs": [
    {
     "data": {
      "text/html": [
       "<div>\n",
       "<style scoped>\n",
       "    .dataframe tbody tr th:only-of-type {\n",
       "        vertical-align: middle;\n",
       "    }\n",
       "\n",
       "    .dataframe tbody tr th {\n",
       "        vertical-align: top;\n",
       "    }\n",
       "\n",
       "    .dataframe thead th {\n",
       "        text-align: right;\n",
       "    }\n",
       "</style>\n",
       "<table border=\"1\" class=\"dataframe\">\n",
       "  <thead>\n",
       "    <tr style=\"text-align: right;\">\n",
       "      <th></th>\n",
       "      <th>name</th>\n",
       "      <th>HP</th>\n",
       "      <th>home_state</th>\n",
       "      <th>state</th>\n",
       "      <th>nickname</th>\n",
       "      <th>capital</th>\n",
       "    </tr>\n",
       "  </thead>\n",
       "  <tbody>\n",
       "    <tr>\n",
       "      <th>0</th>\n",
       "      <td>greg</td>\n",
       "      <td>200.0</td>\n",
       "      <td>WA</td>\n",
       "      <td>WA</td>\n",
       "      <td>evergreen</td>\n",
       "      <td>Olympia</td>\n",
       "    </tr>\n",
       "    <tr>\n",
       "      <th>1</th>\n",
       "      <td>miles</td>\n",
       "      <td>200.0</td>\n",
       "      <td>WA</td>\n",
       "      <td>WA</td>\n",
       "      <td>evergreen</td>\n",
       "      <td>Olympia</td>\n",
       "    </tr>\n",
       "    <tr>\n",
       "      <th>2</th>\n",
       "      <td>alan</td>\n",
       "      <td>170.0</td>\n",
       "      <td>TX</td>\n",
       "      <td>TX</td>\n",
       "      <td>alamo</td>\n",
       "      <td>Austin</td>\n",
       "    </tr>\n",
       "    <tr>\n",
       "      <th>3</th>\n",
       "      <td>rachel</td>\n",
       "      <td>200.0</td>\n",
       "      <td>TX</td>\n",
       "      <td>TX</td>\n",
       "      <td>alamo</td>\n",
       "      <td>Austin</td>\n",
       "    </tr>\n",
       "    <tr>\n",
       "      <th>4</th>\n",
       "      <td>alison</td>\n",
       "      <td>300.0</td>\n",
       "      <td>DC</td>\n",
       "      <td>DC</td>\n",
       "      <td>district</td>\n",
       "      <td>Washington</td>\n",
       "    </tr>\n",
       "    <tr>\n",
       "      <th>5</th>\n",
       "      <td>NaN</td>\n",
       "      <td>NaN</td>\n",
       "      <td>NaN</td>\n",
       "      <td>OH</td>\n",
       "      <td>buckeye</td>\n",
       "      <td>Columbus</td>\n",
       "    </tr>\n",
       "    <tr>\n",
       "      <th>6</th>\n",
       "      <td>NaN</td>\n",
       "      <td>NaN</td>\n",
       "      <td>NaN</td>\n",
       "      <td>OR</td>\n",
       "      <td>beaver</td>\n",
       "      <td>Salem</td>\n",
       "    </tr>\n",
       "  </tbody>\n",
       "</table>\n",
       "</div>"
      ],
      "text/plain": [
       "     name     HP home_state state   nickname     capital\n",
       "0    greg  200.0         WA    WA  evergreen     Olympia\n",
       "1   miles  200.0         WA    WA  evergreen     Olympia\n",
       "2    alan  170.0         TX    TX      alamo      Austin\n",
       "3  rachel  200.0         TX    TX      alamo      Austin\n",
       "4  alison  300.0         DC    DC   district  Washington\n",
       "5     NaN    NaN        NaN    OH    buckeye    Columbus\n",
       "6     NaN    NaN        NaN    OR     beaver       Salem"
      ]
     },
     "execution_count": 42,
     "metadata": {},
     "output_type": "execute_result"
    }
   ],
   "source": [
    "ds_chars.merge(states,\n",
    "               left_on='home_state',\n",
    "               right_on='state',\n",
    "               how='outer')"
   ]
  },
  {
   "cell_type": "markdown",
   "metadata": {
    "heading_collapsed": true,
    "hidden": true
   },
   "source": [
    "### `pd.concat()`"
   ]
  },
  {
   "cell_type": "markdown",
   "metadata": {
    "hidden": true
   },
   "source": [
    "This method takes a *list* of pandas objects as arguments."
   ]
  },
  {
   "cell_type": "code",
   "execution_count": 43,
   "metadata": {
    "ExecuteTime": {
     "end_time": "2022-08-04T14:14:23.097381Z",
     "start_time": "2022-08-04T14:14:23.074686Z"
    },
    "hidden": true
   },
   "outputs": [
    {
     "data": {
      "text/html": [
       "<div>\n",
       "<style scoped>\n",
       "    .dataframe tbody tr th:only-of-type {\n",
       "        vertical-align: middle;\n",
       "    }\n",
       "\n",
       "    .dataframe tbody tr th {\n",
       "        vertical-align: top;\n",
       "    }\n",
       "\n",
       "    .dataframe thead th {\n",
       "        text-align: right;\n",
       "    }\n",
       "</style>\n",
       "<table border=\"1\" class=\"dataframe\">\n",
       "  <thead>\n",
       "    <tr style=\"text-align: right;\">\n",
       "      <th></th>\n",
       "      <th>name</th>\n",
       "      <th>HP</th>\n",
       "      <th>home_state</th>\n",
       "      <th>state</th>\n",
       "      <th>nickname</th>\n",
       "      <th>capital</th>\n",
       "    </tr>\n",
       "  </thead>\n",
       "  <tbody>\n",
       "    <tr>\n",
       "      <th>0</th>\n",
       "      <td>greg</td>\n",
       "      <td>200.0</td>\n",
       "      <td>WA</td>\n",
       "      <td>NaN</td>\n",
       "      <td>NaN</td>\n",
       "      <td>NaN</td>\n",
       "    </tr>\n",
       "    <tr>\n",
       "      <th>1</th>\n",
       "      <td>miles</td>\n",
       "      <td>200.0</td>\n",
       "      <td>WA</td>\n",
       "      <td>NaN</td>\n",
       "      <td>NaN</td>\n",
       "      <td>NaN</td>\n",
       "    </tr>\n",
       "    <tr>\n",
       "      <th>2</th>\n",
       "      <td>alan</td>\n",
       "      <td>170.0</td>\n",
       "      <td>TX</td>\n",
       "      <td>NaN</td>\n",
       "      <td>NaN</td>\n",
       "      <td>NaN</td>\n",
       "    </tr>\n",
       "    <tr>\n",
       "      <th>3</th>\n",
       "      <td>alison</td>\n",
       "      <td>300.0</td>\n",
       "      <td>DC</td>\n",
       "      <td>NaN</td>\n",
       "      <td>NaN</td>\n",
       "      <td>NaN</td>\n",
       "    </tr>\n",
       "    <tr>\n",
       "      <th>4</th>\n",
       "      <td>rachel</td>\n",
       "      <td>200.0</td>\n",
       "      <td>TX</td>\n",
       "      <td>NaN</td>\n",
       "      <td>NaN</td>\n",
       "      <td>NaN</td>\n",
       "    </tr>\n",
       "    <tr>\n",
       "      <th>0</th>\n",
       "      <td>NaN</td>\n",
       "      <td>NaN</td>\n",
       "      <td>NaN</td>\n",
       "      <td>WA</td>\n",
       "      <td>evergreen</td>\n",
       "      <td>Olympia</td>\n",
       "    </tr>\n",
       "    <tr>\n",
       "      <th>1</th>\n",
       "      <td>NaN</td>\n",
       "      <td>NaN</td>\n",
       "      <td>NaN</td>\n",
       "      <td>TX</td>\n",
       "      <td>alamo</td>\n",
       "      <td>Austin</td>\n",
       "    </tr>\n",
       "    <tr>\n",
       "      <th>2</th>\n",
       "      <td>NaN</td>\n",
       "      <td>NaN</td>\n",
       "      <td>NaN</td>\n",
       "      <td>DC</td>\n",
       "      <td>district</td>\n",
       "      <td>Washington</td>\n",
       "    </tr>\n",
       "    <tr>\n",
       "      <th>3</th>\n",
       "      <td>NaN</td>\n",
       "      <td>NaN</td>\n",
       "      <td>NaN</td>\n",
       "      <td>OH</td>\n",
       "      <td>buckeye</td>\n",
       "      <td>Columbus</td>\n",
       "    </tr>\n",
       "    <tr>\n",
       "      <th>4</th>\n",
       "      <td>NaN</td>\n",
       "      <td>NaN</td>\n",
       "      <td>NaN</td>\n",
       "      <td>OR</td>\n",
       "      <td>beaver</td>\n",
       "      <td>Salem</td>\n",
       "    </tr>\n",
       "  </tbody>\n",
       "</table>\n",
       "</div>"
      ],
      "text/plain": [
       "     name     HP home_state state   nickname     capital\n",
       "0    greg  200.0         WA   NaN        NaN         NaN\n",
       "1   miles  200.0         WA   NaN        NaN         NaN\n",
       "2    alan  170.0         TX   NaN        NaN         NaN\n",
       "3  alison  300.0         DC   NaN        NaN         NaN\n",
       "4  rachel  200.0         TX   NaN        NaN         NaN\n",
       "0     NaN    NaN        NaN    WA  evergreen     Olympia\n",
       "1     NaN    NaN        NaN    TX      alamo      Austin\n",
       "2     NaN    NaN        NaN    DC   district  Washington\n",
       "3     NaN    NaN        NaN    OH    buckeye    Columbus\n",
       "4     NaN    NaN        NaN    OR     beaver       Salem"
      ]
     },
     "execution_count": 43,
     "metadata": {},
     "output_type": "execute_result"
    }
   ],
   "source": [
    "ds_full = pd.concat([ds_chars, states])\n",
    "ds_full"
   ]
  },
  {
   "cell_type": "markdown",
   "metadata": {
    "hidden": true
   },
   "source": [
    "`pd.concat()`–– and many other pandas operations –– make use of an `axis` parameter. For this particular method I need to specify whether I want to concatenate the DataFrames *row-wise* (`axis=0`) or *column-wise* (`axis=1`). The default is `axis=0`, so let's override that!"
   ]
  },
  {
   "cell_type": "code",
   "execution_count": 44,
   "metadata": {
    "ExecuteTime": {
     "end_time": "2022-08-04T14:14:23.159877Z",
     "start_time": "2022-08-04T14:14:23.142832Z"
    },
    "hidden": true
   },
   "outputs": [
    {
     "data": {
      "text/html": [
       "<div>\n",
       "<style scoped>\n",
       "    .dataframe tbody tr th:only-of-type {\n",
       "        vertical-align: middle;\n",
       "    }\n",
       "\n",
       "    .dataframe tbody tr th {\n",
       "        vertical-align: top;\n",
       "    }\n",
       "\n",
       "    .dataframe thead th {\n",
       "        text-align: right;\n",
       "    }\n",
       "</style>\n",
       "<table border=\"1\" class=\"dataframe\">\n",
       "  <thead>\n",
       "    <tr style=\"text-align: right;\">\n",
       "      <th></th>\n",
       "      <th>name</th>\n",
       "      <th>HP</th>\n",
       "      <th>home_state</th>\n",
       "      <th>state</th>\n",
       "      <th>nickname</th>\n",
       "      <th>capital</th>\n",
       "    </tr>\n",
       "  </thead>\n",
       "  <tbody>\n",
       "    <tr>\n",
       "      <th>0</th>\n",
       "      <td>greg</td>\n",
       "      <td>200</td>\n",
       "      <td>WA</td>\n",
       "      <td>WA</td>\n",
       "      <td>evergreen</td>\n",
       "      <td>Olympia</td>\n",
       "    </tr>\n",
       "    <tr>\n",
       "      <th>1</th>\n",
       "      <td>miles</td>\n",
       "      <td>200</td>\n",
       "      <td>WA</td>\n",
       "      <td>TX</td>\n",
       "      <td>alamo</td>\n",
       "      <td>Austin</td>\n",
       "    </tr>\n",
       "    <tr>\n",
       "      <th>2</th>\n",
       "      <td>alan</td>\n",
       "      <td>170</td>\n",
       "      <td>TX</td>\n",
       "      <td>DC</td>\n",
       "      <td>district</td>\n",
       "      <td>Washington</td>\n",
       "    </tr>\n",
       "    <tr>\n",
       "      <th>3</th>\n",
       "      <td>alison</td>\n",
       "      <td>300</td>\n",
       "      <td>DC</td>\n",
       "      <td>OH</td>\n",
       "      <td>buckeye</td>\n",
       "      <td>Columbus</td>\n",
       "    </tr>\n",
       "    <tr>\n",
       "      <th>4</th>\n",
       "      <td>rachel</td>\n",
       "      <td>200</td>\n",
       "      <td>TX</td>\n",
       "      <td>OR</td>\n",
       "      <td>beaver</td>\n",
       "      <td>Salem</td>\n",
       "    </tr>\n",
       "  </tbody>\n",
       "</table>\n",
       "</div>"
      ],
      "text/plain": [
       "     name   HP home_state state   nickname     capital\n",
       "0    greg  200         WA    WA  evergreen     Olympia\n",
       "1   miles  200         WA    TX      alamo      Austin\n",
       "2    alan  170         TX    DC   district  Washington\n",
       "3  alison  300         DC    OH    buckeye    Columbus\n",
       "4  rachel  200         TX    OR     beaver       Salem"
      ]
     },
     "execution_count": 44,
     "metadata": {},
     "output_type": "execute_result"
    }
   ],
   "source": [
    "ds_full = pd.concat([ds_chars, states], axis=1)\n",
    "ds_full"
   ]
  },
  {
   "cell_type": "markdown",
   "metadata": {
    "ExecuteTime": {
     "end_time": "2022-08-04T15:24:53.894930Z",
     "start_time": "2022-08-04T15:24:53.880416Z"
    }
   },
   "source": [
    "### EXTRA"
   ]
  },
  {
   "cell_type": "markdown",
   "metadata": {
    "heading_collapsed": true
   },
   "source": [
    "## King County Assessments"
   ]
  },
  {
   "cell_type": "markdown",
   "metadata": {
    "hidden": true
   },
   "source": [
    "As data scientists, we want to build a model to predict the sale price of a house in Seattle in 2019, based on its square footage. We know that the King County Department of Assessments has comprehensive data available on real property sales in the Seattle area. We need to prepare the data."
   ]
  },
  {
   "cell_type": "markdown",
   "metadata": {
    "heading_collapsed": true,
    "hidden": true
   },
   "source": [
    "### First, get the data!"
   ]
  },
  {
   "cell_type": "markdown",
   "metadata": {
    "hidden": true
   },
   "source": [
    "Go [here](https://info.kingcounty.gov/assessor/DataDownload/default.aspx) and download two files: \"Real Property Sales\" and \"Residential Building\". Then unzip them. (Or you can run the cells below if you prefer.)"
   ]
  },
  {
   "cell_type": "code",
   "execution_count": 45,
   "metadata": {
    "ExecuteTime": {
     "end_time": "2022-08-04T14:40:07.228440Z",
     "start_time": "2022-08-04T14:32:22.844667Z"
    },
    "hidden": true
   },
   "outputs": [
    {
     "name": "stderr",
     "output_type": "stream",
     "text": [
      "  % Total    % Received % Xferd  Average Speed   Time    Time     Time  Current\n",
      "                                 Dload  Upload   Total   Spent    Left  Speed\n",
      "100  135M  100  135M    0     0  1145k      0  0:02:01  0:02:01 --:--:-- 1135k\n"
     ]
    }
   ],
   "source": [
    "%%bash\n",
    "cd data\n",
    "curl -o property_sales.zip https://aqua.kingcounty.gov/extranet/assessor/Real%20Property%20Sales.zip "
   ]
  },
  {
   "cell_type": "code",
   "execution_count": 46,
   "metadata": {
    "ExecuteTime": {
     "end_time": "2022-08-04T14:41:25.606339Z",
     "start_time": "2022-08-04T14:40:07.276642Z"
    },
    "hidden": true
   },
   "outputs": [
    {
     "name": "stderr",
     "output_type": "stream",
     "text": [
      "  % Total    % Received % Xferd  Average Speed   Time    Time     Time  Current\n",
      "                                 Dload  Upload   Total   Spent    Left  Speed\n",
      "100 20.8M  100 20.8M    0     0  1135k      0  0:00:18  0:00:18 --:--:-- 1190k\n"
     ]
    }
   ],
   "source": [
    "%%bash\n",
    "cd data\n",
    "curl -o res_bldg.zip https://aqua.kingcounty.gov/extranet/assessor/Residential%20Building.zip "
   ]
  },
  {
   "cell_type": "code",
   "execution_count": 47,
   "metadata": {
    "ExecuteTime": {
     "end_time": "2022-08-04T14:41:28.109223Z",
     "start_time": "2022-08-04T14:41:25.675973Z"
    },
    "hidden": true
   },
   "outputs": [],
   "source": [
    "zf = ZipFile('data/property_sales.zip', 'r')\n",
    "zf.extractall('data')\n",
    "zf.close()"
   ]
  },
  {
   "cell_type": "code",
   "execution_count": 48,
   "metadata": {
    "ExecuteTime": {
     "end_time": "2022-08-04T14:41:28.609345Z",
     "start_time": "2022-08-04T14:41:28.126039Z"
    },
    "hidden": true
   },
   "outputs": [],
   "source": [
    "zf = ZipFile('data/res_bldg.zip', 'r')\n",
    "zf.extractall('data')\n",
    "zf.close()"
   ]
  },
  {
   "cell_type": "code",
   "execution_count": 49,
   "metadata": {
    "ExecuteTime": {
     "end_time": "2022-08-04T14:47:34.073572Z",
     "start_time": "2022-08-04T14:47:31.055399Z"
    },
    "hidden": true,
    "scrolled": true
   },
   "outputs": [
    {
     "name": "stderr",
     "output_type": "stream",
     "text": [
      "/var/folders/pn/v9tvzf9s5ms7zcp53821ct0m0000gn/T/ipykernel_10668/1290808690.py:7: DtypeWarning: Columns (1,2) have mixed types. Specify dtype option on import or set low_memory=False.\n",
      "  sales_df = pd.read_csv('data/EXTR_RPSale.csv',\n"
     ]
    }
   ],
   "source": [
    "# You'll need to use a new encoding here. List of all encodings here:\n",
    "# https://docs.python.org/3/library/codecs.html#standard-encodings\n",
    "\n",
    "# Both of these csv files have many columns, so we'll just pre-select\n",
    "# which ones we want to use.\n",
    "\n",
    "sales_df = pd.read_csv('data/EXTR_RPSale.csv',\n",
    "                       encoding='latin-1',\n",
    "                       usecols=['Major', 'Minor', 'DocumentDate', 'SalePrice'])"
   ]
  },
  {
   "cell_type": "code",
   "execution_count": 50,
   "metadata": {
    "ExecuteTime": {
     "end_time": "2022-08-04T14:47:38.668647Z",
     "start_time": "2022-08-04T14:47:38.642426Z"
    },
    "hidden": true
   },
   "outputs": [
    {
     "name": "stdout",
     "output_type": "stream",
     "text": [
      "<class 'pandas.core.frame.DataFrame'>\n",
      "RangeIndex: 2314405 entries, 0 to 2314404\n",
      "Data columns (total 4 columns):\n",
      " #   Column        Dtype \n",
      "---  ------        ----- \n",
      " 0   Major         object\n",
      " 1   Minor         object\n",
      " 2   DocumentDate  object\n",
      " 3   SalePrice     int64 \n",
      "dtypes: int64(1), object(3)\n",
      "memory usage: 70.6+ MB\n"
     ]
    }
   ],
   "source": [
    "sales_df.info()"
   ]
  },
  {
   "cell_type": "code",
   "execution_count": 51,
   "metadata": {
    "ExecuteTime": {
     "end_time": "2022-08-04T14:52:10.988012Z",
     "start_time": "2022-08-04T14:52:10.315847Z"
    },
    "hidden": true,
    "scrolled": true
   },
   "outputs": [
    {
     "name": "stderr",
     "output_type": "stream",
     "text": [
      "/var/folders/pn/v9tvzf9s5ms7zcp53821ct0m0000gn/T/ipykernel_10668/4051920166.py:1: DtypeWarning: Columns (11) have mixed types. Specify dtype option on import or set low_memory=False.\n",
      "  bldg_df = pd.read_csv('data/EXTR_ResBldg.csv',\n"
     ]
    }
   ],
   "source": [
    "bldg_df = pd.read_csv('data/EXTR_ResBldg.csv',\n",
    "                     usecols=['Major', 'Minor', 'SqFtTotLiving', 'ZipCode'])"
   ]
  },
  {
   "cell_type": "code",
   "execution_count": 52,
   "metadata": {
    "ExecuteTime": {
     "end_time": "2022-08-04T14:52:12.686958Z",
     "start_time": "2022-08-04T14:52:12.633579Z"
    },
    "hidden": true,
    "scrolled": true
   },
   "outputs": [
    {
     "name": "stdout",
     "output_type": "stream",
     "text": [
      "<class 'pandas.core.frame.DataFrame'>\n",
      "RangeIndex: 527057 entries, 0 to 527056\n",
      "Data columns (total 4 columns):\n",
      " #   Column         Non-Null Count   Dtype \n",
      "---  ------         --------------   ----- \n",
      " 0   Major          527057 non-null  int64 \n",
      " 1   Minor          527057 non-null  int64 \n",
      " 2   ZipCode        473002 non-null  object\n",
      " 3   SqFtTotLiving  527057 non-null  int64 \n",
      "dtypes: int64(3), object(1)\n",
      "memory usage: 16.1+ MB\n"
     ]
    }
   ],
   "source": [
    "bldg_df.info()"
   ]
  },
  {
   "cell_type": "code",
   "execution_count": 76,
   "metadata": {
    "ExecuteTime": {
     "end_time": "2022-08-04T15:27:01.489629Z",
     "start_time": "2022-08-04T15:27:00.418940Z"
    },
    "hidden": true
   },
   "outputs": [],
   "source": [
    "sales_data = pd.merge(sales_df, bldg_df, on=['Major', 'Minor'])"
   ]
  },
  {
   "cell_type": "code",
   "execution_count": 54,
   "metadata": {
    "ExecuteTime": {
     "end_time": "2022-08-04T15:27:01.524906Z",
     "start_time": "2022-08-04T15:27:01.519105Z"
    },
    "hidden": true
   },
   "outputs": [
    {
     "data": {
      "text/html": [
       "<div>\n",
       "<style scoped>\n",
       "    .dataframe tbody tr th:only-of-type {\n",
       "        vertical-align: middle;\n",
       "    }\n",
       "\n",
       "    .dataframe tbody tr th {\n",
       "        vertical-align: top;\n",
       "    }\n",
       "\n",
       "    .dataframe thead th {\n",
       "        text-align: right;\n",
       "    }\n",
       "</style>\n",
       "<table border=\"1\" class=\"dataframe\">\n",
       "  <thead>\n",
       "    <tr style=\"text-align: right;\">\n",
       "      <th></th>\n",
       "      <th>Major</th>\n",
       "      <th>Minor</th>\n",
       "      <th>DocumentDate</th>\n",
       "      <th>SalePrice</th>\n",
       "      <th>ZipCode</th>\n",
       "      <th>SqFtTotLiving</th>\n",
       "    </tr>\n",
       "  </thead>\n",
       "  <tbody>\n",
       "    <tr>\n",
       "      <th>0</th>\n",
       "      <td>395590</td>\n",
       "      <td>360</td>\n",
       "      <td>07/21/2004</td>\n",
       "      <td>0</td>\n",
       "      <td>98056.0</td>\n",
       "      <td>2670</td>\n",
       "    </tr>\n",
       "    <tr>\n",
       "      <th>1</th>\n",
       "      <td>395590</td>\n",
       "      <td>360</td>\n",
       "      <td>07/29/2012</td>\n",
       "      <td>0</td>\n",
       "      <td>98056.0</td>\n",
       "      <td>2670</td>\n",
       "    </tr>\n",
       "    <tr>\n",
       "      <th>2</th>\n",
       "      <td>395590</td>\n",
       "      <td>360</td>\n",
       "      <td>06/17/2008</td>\n",
       "      <td>420000</td>\n",
       "      <td>98056.0</td>\n",
       "      <td>2670</td>\n",
       "    </tr>\n",
       "    <tr>\n",
       "      <th>3</th>\n",
       "      <td>395590</td>\n",
       "      <td>360</td>\n",
       "      <td>07/13/2001</td>\n",
       "      <td>303900</td>\n",
       "      <td>98056.0</td>\n",
       "      <td>2670</td>\n",
       "    </tr>\n",
       "    <tr>\n",
       "      <th>4</th>\n",
       "      <td>251701</td>\n",
       "      <td>640</td>\n",
       "      <td>12/11/2013</td>\n",
       "      <td>290000</td>\n",
       "      <td>98042</td>\n",
       "      <td>2290</td>\n",
       "    </tr>\n",
       "  </tbody>\n",
       "</table>\n",
       "</div>"
      ],
      "text/plain": [
       "    Major Minor DocumentDate  SalePrice  ZipCode  SqFtTotLiving\n",
       "0  395590   360   07/21/2004          0  98056.0           2670\n",
       "1  395590   360   07/29/2012          0  98056.0           2670\n",
       "2  395590   360   06/17/2008     420000  98056.0           2670\n",
       "3  395590   360   07/13/2001     303900  98056.0           2670\n",
       "4  251701   640   12/11/2013     290000    98042           2290"
      ]
     },
     "execution_count": 54,
     "metadata": {},
     "output_type": "execute_result"
    }
   ],
   "source": [
    "sales_data.head()"
   ]
  },
  {
   "cell_type": "code",
   "execution_count": 55,
   "metadata": {
    "ExecuteTime": {
     "end_time": "2022-08-04T15:27:03.249357Z",
     "start_time": "2022-08-04T15:27:02.833221Z"
    },
    "hidden": true
   },
   "outputs": [
    {
     "name": "stdout",
     "output_type": "stream",
     "text": [
      "<class 'pandas.core.frame.DataFrame'>\n",
      "RangeIndex: 1615102 entries, 0 to 1615101\n",
      "Data columns (total 6 columns):\n",
      " #   Column         Non-Null Count    Dtype \n",
      "---  ------         --------------    ----- \n",
      " 0   Major          1615102 non-null  object\n",
      " 1   Minor          1615102 non-null  object\n",
      " 2   DocumentDate   1615102 non-null  object\n",
      " 3   SalePrice      1615102 non-null  int64 \n",
      " 4   ZipCode        1463813 non-null  object\n",
      " 5   SqFtTotLiving  1615102 non-null  int64 \n",
      "dtypes: int64(2), object(4)\n",
      "memory usage: 73.9+ MB\n"
     ]
    }
   ],
   "source": [
    "sales_data.info()"
   ]
  },
  {
   "cell_type": "markdown",
   "metadata": {
    "hidden": true
   },
   "source": [
    "We can see right away that we're missing ZIP codes for many of the sales transactions."
   ]
  },
  {
   "cell_type": "code",
   "execution_count": 56,
   "metadata": {
    "ExecuteTime": {
     "end_time": "2022-08-04T15:27:05.966821Z",
     "start_time": "2022-08-04T15:27:05.852345Z"
    },
    "hidden": true
   },
   "outputs": [
    {
     "data": {
      "text/html": [
       "<div>\n",
       "<style scoped>\n",
       "    .dataframe tbody tr th:only-of-type {\n",
       "        vertical-align: middle;\n",
       "    }\n",
       "\n",
       "    .dataframe tbody tr th {\n",
       "        vertical-align: top;\n",
       "    }\n",
       "\n",
       "    .dataframe thead th {\n",
       "        text-align: right;\n",
       "    }\n",
       "</style>\n",
       "<table border=\"1\" class=\"dataframe\">\n",
       "  <thead>\n",
       "    <tr style=\"text-align: right;\">\n",
       "      <th></th>\n",
       "      <th>Major</th>\n",
       "      <th>Minor</th>\n",
       "      <th>DocumentDate</th>\n",
       "      <th>SalePrice</th>\n",
       "      <th>ZipCode</th>\n",
       "      <th>SqFtTotLiving</th>\n",
       "    </tr>\n",
       "  </thead>\n",
       "  <tbody>\n",
       "    <tr>\n",
       "      <th>23</th>\n",
       "      <td>409230</td>\n",
       "      <td>1913</td>\n",
       "      <td>02/22/2017</td>\n",
       "      <td>0</td>\n",
       "      <td>NaN</td>\n",
       "      <td>1140</td>\n",
       "    </tr>\n",
       "    <tr>\n",
       "      <th>24</th>\n",
       "      <td>409230</td>\n",
       "      <td>1913</td>\n",
       "      <td>12/01/2016</td>\n",
       "      <td>307100</td>\n",
       "      <td>NaN</td>\n",
       "      <td>1140</td>\n",
       "    </tr>\n",
       "    <tr>\n",
       "      <th>25</th>\n",
       "      <td>409230</td>\n",
       "      <td>1913</td>\n",
       "      <td>11/30/2017</td>\n",
       "      <td>515000</td>\n",
       "      <td>NaN</td>\n",
       "      <td>1140</td>\n",
       "    </tr>\n",
       "    <tr>\n",
       "      <th>46</th>\n",
       "      <td>952110</td>\n",
       "      <td>102</td>\n",
       "      <td>11/17/2020</td>\n",
       "      <td>740000</td>\n",
       "      <td>NaN</td>\n",
       "      <td>1390</td>\n",
       "    </tr>\n",
       "    <tr>\n",
       "      <th>81</th>\n",
       "      <td>53700</td>\n",
       "      <td>662</td>\n",
       "      <td>03/19/2018</td>\n",
       "      <td>561000</td>\n",
       "      <td>NaN</td>\n",
       "      <td>2604</td>\n",
       "    </tr>\n",
       "  </tbody>\n",
       "</table>\n",
       "</div>"
      ],
      "text/plain": [
       "     Major Minor DocumentDate  SalePrice ZipCode  SqFtTotLiving\n",
       "23  409230  1913   02/22/2017          0     NaN           1140\n",
       "24  409230  1913   12/01/2016     307100     NaN           1140\n",
       "25  409230  1913   11/30/2017     515000     NaN           1140\n",
       "46  952110   102   11/17/2020     740000     NaN           1390\n",
       "81   53700   662   03/19/2018     561000     NaN           2604"
      ]
     },
     "execution_count": 56,
     "metadata": {},
     "output_type": "execute_result"
    }
   ],
   "source": [
    "sales_data.loc[sales_data['ZipCode'].isna()].head()"
   ]
  },
  {
   "cell_type": "markdown",
   "metadata": {},
   "source": [
    "### Exercise\n",
    "\n",
    "What percentage of housing records are missing ZIP codes?"
   ]
  },
  {
   "cell_type": "code",
   "execution_count": 62,
   "metadata": {},
   "outputs": [
    {
     "name": "stdout",
     "output_type": "stream",
     "text": [
      "9.367148328712366%\n"
     ]
    }
   ],
   "source": [
    "print(f'{(sales_data.ZipCode.isna().sum() / sales_data.shape[0]) * 100}%')"
   ]
  },
  {
   "cell_type": "markdown",
   "metadata": {},
   "source": [
    "<details>\n",
    "    <summary>Answer</summary>\n",
    "    <code>sales_data['ZipCode'].isna().sum() / sales_data.shape[0]</code>\n",
    "    </details>"
   ]
  },
  {
   "cell_type": "markdown",
   "metadata": {
    "hidden": true
   },
   "source": [
    "Let's drop the rows with missing zip codes."
   ]
  },
  {
   "cell_type": "code",
   "execution_count": 77,
   "metadata": {
    "ExecuteTime": {
     "end_time": "2022-08-04T15:30:03.711712Z",
     "start_time": "2022-08-04T15:30:03.442620Z"
    },
    "hidden": true
   },
   "outputs": [
    {
     "data": {
      "text/html": [
       "<div>\n",
       "<style scoped>\n",
       "    .dataframe tbody tr th:only-of-type {\n",
       "        vertical-align: middle;\n",
       "    }\n",
       "\n",
       "    .dataframe tbody tr th {\n",
       "        vertical-align: top;\n",
       "    }\n",
       "\n",
       "    .dataframe thead th {\n",
       "        text-align: right;\n",
       "    }\n",
       "</style>\n",
       "<table border=\"1\" class=\"dataframe\">\n",
       "  <thead>\n",
       "    <tr style=\"text-align: right;\">\n",
       "      <th></th>\n",
       "      <th>Major</th>\n",
       "      <th>Minor</th>\n",
       "      <th>DocumentDate</th>\n",
       "      <th>SalePrice</th>\n",
       "      <th>ZipCode</th>\n",
       "      <th>SqFtTotLiving</th>\n",
       "    </tr>\n",
       "  </thead>\n",
       "  <tbody>\n",
       "    <tr>\n",
       "      <th>0</th>\n",
       "      <td>395590</td>\n",
       "      <td>360</td>\n",
       "      <td>07/21/2004</td>\n",
       "      <td>0</td>\n",
       "      <td>98056.00</td>\n",
       "      <td>2670</td>\n",
       "    </tr>\n",
       "    <tr>\n",
       "      <th>1</th>\n",
       "      <td>395590</td>\n",
       "      <td>360</td>\n",
       "      <td>07/29/2012</td>\n",
       "      <td>0</td>\n",
       "      <td>98056.00</td>\n",
       "      <td>2670</td>\n",
       "    </tr>\n",
       "    <tr>\n",
       "      <th>2</th>\n",
       "      <td>395590</td>\n",
       "      <td>360</td>\n",
       "      <td>06/17/2008</td>\n",
       "      <td>420000</td>\n",
       "      <td>98056.00</td>\n",
       "      <td>2670</td>\n",
       "    </tr>\n",
       "    <tr>\n",
       "      <th>3</th>\n",
       "      <td>395590</td>\n",
       "      <td>360</td>\n",
       "      <td>07/13/2001</td>\n",
       "      <td>303900</td>\n",
       "      <td>98056.00</td>\n",
       "      <td>2670</td>\n",
       "    </tr>\n",
       "    <tr>\n",
       "      <th>4</th>\n",
       "      <td>251701</td>\n",
       "      <td>640</td>\n",
       "      <td>12/11/2013</td>\n",
       "      <td>290000</td>\n",
       "      <td>98042</td>\n",
       "      <td>2290</td>\n",
       "    </tr>\n",
       "    <tr>\n",
       "      <th>...</th>\n",
       "      <td>...</td>\n",
       "      <td>...</td>\n",
       "      <td>...</td>\n",
       "      <td>...</td>\n",
       "      <td>...</td>\n",
       "      <td>...</td>\n",
       "    </tr>\n",
       "    <tr>\n",
       "      <th>1615096</th>\n",
       "      <td>135525</td>\n",
       "      <td>50</td>\n",
       "      <td>08/03/1992</td>\n",
       "      <td>242000</td>\n",
       "      <td>98177</td>\n",
       "      <td>1900</td>\n",
       "    </tr>\n",
       "    <tr>\n",
       "      <th>1615098</th>\n",
       "      <td>737960</td>\n",
       "      <td>40</td>\n",
       "      <td>10/28/1991</td>\n",
       "      <td>157000</td>\n",
       "      <td>98007</td>\n",
       "      <td>1750</td>\n",
       "    </tr>\n",
       "    <tr>\n",
       "      <th>1615099</th>\n",
       "      <td>955780</td>\n",
       "      <td>100</td>\n",
       "      <td>04/29/2022</td>\n",
       "      <td>500000</td>\n",
       "      <td>98148.00</td>\n",
       "      <td>1200</td>\n",
       "    </tr>\n",
       "    <tr>\n",
       "      <th>1615100</th>\n",
       "      <td>344800</td>\n",
       "      <td>1500</td>\n",
       "      <td>07/12/1996</td>\n",
       "      <td>174000</td>\n",
       "      <td>98125</td>\n",
       "      <td>680</td>\n",
       "    </tr>\n",
       "    <tr>\n",
       "      <th>1615101</th>\n",
       "      <td>173680</td>\n",
       "      <td>760</td>\n",
       "      <td>01/03/1994</td>\n",
       "      <td>165000</td>\n",
       "      <td>98007</td>\n",
       "      <td>2130</td>\n",
       "    </tr>\n",
       "  </tbody>\n",
       "</table>\n",
       "<p>1463813 rows × 6 columns</p>\n",
       "</div>"
      ],
      "text/plain": [
       "          Major Minor DocumentDate  SalePrice  ZipCode  SqFtTotLiving\n",
       "0        395590   360   07/21/2004          0 98056.00           2670\n",
       "1        395590   360   07/29/2012          0 98056.00           2670\n",
       "2        395590   360   06/17/2008     420000 98056.00           2670\n",
       "3        395590   360   07/13/2001     303900 98056.00           2670\n",
       "4        251701   640   12/11/2013     290000    98042           2290\n",
       "...         ...   ...          ...        ...      ...            ...\n",
       "1615096  135525    50   08/03/1992     242000    98177           1900\n",
       "1615098  737960    40   10/28/1991     157000    98007           1750\n",
       "1615099  955780   100   04/29/2022     500000 98148.00           1200\n",
       "1615100  344800  1500   07/12/1996     174000    98125            680\n",
       "1615101  173680   760   01/03/1994     165000    98007           2130\n",
       "\n",
       "[1463813 rows x 6 columns]"
      ]
     },
     "execution_count": 77,
     "metadata": {},
     "output_type": "execute_result"
    }
   ],
   "source": [
    "sales_data = sales_data.loc[~sales_data['ZipCode'].isna(), :]\n",
    "#sales_data2 = sales_data[~sales_data['ZipCode'].isna()]\n",
    "sales_data"
   ]
  },
  {
   "cell_type": "markdown",
   "metadata": {
    "heading_collapsed": true,
    "hidden": true
   },
   "source": [
    "## Time Permitting: Data Cleaning with Pandas"
   ]
  },
  {
   "cell_type": "markdown",
   "metadata": {
    "heading_collapsed": true,
    "hidden": true
   },
   "source": [
    "### 1. Investigate and drop rows with invalid values in the SalePrice and SqFtTotLiving columns."
   ]
  },
  {
   "cell_type": "code",
   "execution_count": 78,
   "metadata": {
    "scrolled": true
   },
   "outputs": [
    {
     "data": {
      "text/plain": [
       "SalePrice\n",
       "250000     4727\n",
       "300000     4695\n",
       "350000     4621\n",
       "400000     4291\n",
       "450000     4104\n",
       "           ... \n",
       "1128800       1\n",
       "37100         1\n",
       "1165013       1\n",
       "243994        1\n",
       "136373        1\n",
       "Name: count, Length: 74871, dtype: int64"
      ]
     },
     "execution_count": 78,
     "metadata": {},
     "output_type": "execute_result"
    }
   ],
   "source": [
    "sales_data['SalePrice'].value_counts()\n",
    "sales_data = sales_data[sales_data['SalePrice'] > 10000]\n",
    "#sales_data['SalePrice'] = sales_data['SalePrice'] > 10\n",
    "sales_data['SalePrice'].value_counts()"
   ]
  },
  {
   "cell_type": "code",
   "execution_count": 82,
   "metadata": {},
   "outputs": [
    {
     "data": {
      "text/plain": [
       "SqFtTotLiving\n",
       "1800    5737\n",
       "1560    5617\n",
       "1900    5541\n",
       "1440    5537\n",
       "1300    5508\n",
       "        ... \n",
       "1784       1\n",
       "3089       1\n",
       "2107       1\n",
       "3389       1\n",
       "1473       1\n",
       "Name: count, Length: 3563, dtype: int64"
      ]
     },
     "execution_count": 82,
     "metadata": {},
     "output_type": "execute_result"
    }
   ],
   "source": [
    "sales_data['SqFtTotLiving'].value_counts()"
   ]
  },
  {
   "cell_type": "markdown",
   "metadata": {},
   "source": [
    "<details>\n",
    "    <summary>One possible answer here</summary>\n",
    "    <code>sales_data = sales_data[sales_data['SalePrice'] > 10000]</code>\n",
    "    </details>"
   ]
  },
  {
   "cell_type": "markdown",
   "metadata": {
    "heading_collapsed": true,
    "hidden": true
   },
   "source": [
    "### 2. Investigate and handle non-numeric ZipCode values"
   ]
  },
  {
   "cell_type": "markdown",
   "metadata": {
    "hidden": true
   },
   "source": [
    "Can you find a way to shorten ZIP+4 codes to the first five digits?"
   ]
  },
  {
   "cell_type": "code",
   "execution_count": 83,
   "metadata": {
    "ExecuteTime": {
     "end_time": "2022-08-04T14:14:24.141400Z",
     "start_time": "2022-08-04T14:14:24.122253Z"
    },
    "hidden": true
   },
   "outputs": [
    {
     "data": {
      "text/plain": [
       "16215    98199-3014\n",
       "16216    98199-3014\n",
       "16217    98199-3014\n",
       "23212    98028-8908\n",
       "37210    98042-3001\n",
       "Name: ZipCode, dtype: object"
      ]
     },
     "execution_count": 83,
     "metadata": {},
     "output_type": "execute_result"
    }
   ],
   "source": [
    "def is_integer(x):\n",
    "    try:\n",
    "        _ = int(x)\n",
    "    except ValueError:\n",
    "        return False\n",
    "    return True\n",
    "\n",
    "sales_data.loc[sales_data['ZipCode'].apply(is_integer) == False, 'ZipCode'].head()"
   ]
  },
  {
   "cell_type": "code",
   "execution_count": 124,
   "metadata": {},
   "outputs": [],
   "source": [
    "def first_five(x):\n",
    "    if is_integer(x) == True:\n",
    "        return x = x[:6]\n",
    "    else:\n",
    "        return x\n",
    "\n",
    "\n",
    "sales_data.loc[sales_data['ZipCode'].apply(first_five)]"
   ]
  },
  {
   "cell_type": "markdown",
   "metadata": {},
   "source": [
    "<details>\n",
    "    <summary>One possible answer here</summary>\n",
    "    <code>def five_digit_ZIP(x):\n",
    "    try:\n",
    "        return int(str(x)[:5])\n",
    "    except:\n",
    "        return x\n",
    "sales_data['ZipCode'] = sales_data['ZipCode'].map(five_digit_ZIP)\n",
    "sales_data = sales_data.loc[sales_data['ZipCode'].apply(is_integer) == True, :]\n",
    "sales_data['ZipCode'] = sales_data['ZipCode'].map(int)</code>\n",
    "    </details>"
   ]
  },
  {
   "cell_type": "markdown",
   "metadata": {
    "heading_collapsed": true,
    "hidden": true
   },
   "source": [
    "### 3. Add a column for PricePerSqFt\n",
    "\n"
   ]
  },
  {
   "cell_type": "code",
   "execution_count": 85,
   "metadata": {
    "hidden": true
   },
   "outputs": [
    {
     "name": "stderr",
     "output_type": "stream",
     "text": [
      "/var/folders/pn/v9tvzf9s5ms7zcp53821ct0m0000gn/T/ipykernel_10668/1925088374.py:1: SettingWithCopyWarning: \n",
      "A value is trying to be set on a copy of a slice from a DataFrame.\n",
      "Try using .loc[row_indexer,col_indexer] = value instead\n",
      "\n",
      "See the caveats in the documentation: https://pandas.pydata.org/pandas-docs/stable/user_guide/indexing.html#returning-a-view-versus-a-copy\n",
      "  sales_data['PricePerSqFt'] = sales_data['SalePrice']/sales_data['SqFtTotLiving']\n"
     ]
    },
    {
     "data": {
      "text/html": [
       "<div>\n",
       "<style scoped>\n",
       "    .dataframe tbody tr th:only-of-type {\n",
       "        vertical-align: middle;\n",
       "    }\n",
       "\n",
       "    .dataframe tbody tr th {\n",
       "        vertical-align: top;\n",
       "    }\n",
       "\n",
       "    .dataframe thead th {\n",
       "        text-align: right;\n",
       "    }\n",
       "</style>\n",
       "<table border=\"1\" class=\"dataframe\">\n",
       "  <thead>\n",
       "    <tr style=\"text-align: right;\">\n",
       "      <th></th>\n",
       "      <th>Major</th>\n",
       "      <th>Minor</th>\n",
       "      <th>DocumentDate</th>\n",
       "      <th>SalePrice</th>\n",
       "      <th>ZipCode</th>\n",
       "      <th>SqFtTotLiving</th>\n",
       "      <th>PricePerSqFt</th>\n",
       "    </tr>\n",
       "  </thead>\n",
       "  <tbody>\n",
       "    <tr>\n",
       "      <th>2</th>\n",
       "      <td>395590</td>\n",
       "      <td>360</td>\n",
       "      <td>06/17/2008</td>\n",
       "      <td>420000</td>\n",
       "      <td>98056.00</td>\n",
       "      <td>2670</td>\n",
       "      <td>157.30</td>\n",
       "    </tr>\n",
       "    <tr>\n",
       "      <th>3</th>\n",
       "      <td>395590</td>\n",
       "      <td>360</td>\n",
       "      <td>07/13/2001</td>\n",
       "      <td>303900</td>\n",
       "      <td>98056.00</td>\n",
       "      <td>2670</td>\n",
       "      <td>113.82</td>\n",
       "    </tr>\n",
       "    <tr>\n",
       "      <th>4</th>\n",
       "      <td>251701</td>\n",
       "      <td>640</td>\n",
       "      <td>12/11/2013</td>\n",
       "      <td>290000</td>\n",
       "      <td>98042</td>\n",
       "      <td>2290</td>\n",
       "      <td>126.64</td>\n",
       "    </tr>\n",
       "    <tr>\n",
       "      <th>5</th>\n",
       "      <td>251701</td>\n",
       "      <td>640</td>\n",
       "      <td>03/22/2021</td>\n",
       "      <td>605000</td>\n",
       "      <td>98042</td>\n",
       "      <td>2290</td>\n",
       "      <td>264.19</td>\n",
       "    </tr>\n",
       "    <tr>\n",
       "      <th>6</th>\n",
       "      <td>251701</td>\n",
       "      <td>640</td>\n",
       "      <td>06/01/2006</td>\n",
       "      <td>354035</td>\n",
       "      <td>98042</td>\n",
       "      <td>2290</td>\n",
       "      <td>154.60</td>\n",
       "    </tr>\n",
       "  </tbody>\n",
       "</table>\n",
       "</div>"
      ],
      "text/plain": [
       "    Major Minor DocumentDate  SalePrice  ZipCode  SqFtTotLiving  PricePerSqFt\n",
       "2  395590   360   06/17/2008     420000 98056.00           2670        157.30\n",
       "3  395590   360   07/13/2001     303900 98056.00           2670        113.82\n",
       "4  251701   640   12/11/2013     290000    98042           2290        126.64\n",
       "5  251701   640   03/22/2021     605000    98042           2290        264.19\n",
       "6  251701   640   06/01/2006     354035    98042           2290        154.60"
      ]
     },
     "execution_count": 85,
     "metadata": {},
     "output_type": "execute_result"
    }
   ],
   "source": [
    "sales_data['PricePerSqFt'] = sales_data['SalePrice']/sales_data['SqFtTotLiving']\n",
    "sales_data.head()"
   ]
  },
  {
   "cell_type": "markdown",
   "metadata": {},
   "source": [
    "<details>\n",
    "    <summary>Answer here</summary>\n",
    "    <code>sales_data['PricePerSqFt'] = sales_data['SalePrice'] / sales_data['SqFtTotLiving']</code>\n",
    "    </details>"
   ]
  },
  {
   "cell_type": "markdown",
   "metadata": {
    "heading_collapsed": true,
    "hidden": true
   },
   "source": [
    "### 4. Subset the data to 2021 sales only."
   ]
  },
  {
   "cell_type": "markdown",
   "metadata": {
    "hidden": true
   },
   "source": [
    "We can assume that the DocumentDate is approximately the sale date."
   ]
  },
  {
   "cell_type": "code",
   "execution_count": 96,
   "metadata": {},
   "outputs": [
    {
     "name": "stderr",
     "output_type": "stream",
     "text": [
      "/var/folders/pn/v9tvzf9s5ms7zcp53821ct0m0000gn/T/ipykernel_10668/546572172.py:1: SettingWithCopyWarning: \n",
      "A value is trying to be set on a copy of a slice from a DataFrame.\n",
      "Try using .loc[row_indexer,col_indexer] = value instead\n",
      "\n",
      "See the caveats in the documentation: https://pandas.pydata.org/pandas-docs/stable/user_guide/indexing.html#returning-a-view-versus-a-copy\n",
      "  sales_data['DocumentDate'] = pd.to_datetime(sales_data['DocumentDate'])\n"
     ]
    },
    {
     "data": {
      "text/html": [
       "<div>\n",
       "<style scoped>\n",
       "    .dataframe tbody tr th:only-of-type {\n",
       "        vertical-align: middle;\n",
       "    }\n",
       "\n",
       "    .dataframe tbody tr th {\n",
       "        vertical-align: top;\n",
       "    }\n",
       "\n",
       "    .dataframe thead th {\n",
       "        text-align: right;\n",
       "    }\n",
       "</style>\n",
       "<table border=\"1\" class=\"dataframe\">\n",
       "  <thead>\n",
       "    <tr style=\"text-align: right;\">\n",
       "      <th></th>\n",
       "      <th>Major</th>\n",
       "      <th>Minor</th>\n",
       "      <th>DocumentDate</th>\n",
       "      <th>SalePrice</th>\n",
       "      <th>ZipCode</th>\n",
       "      <th>SqFtTotLiving</th>\n",
       "      <th>PricePerSqFt</th>\n",
       "    </tr>\n",
       "  </thead>\n",
       "  <tbody>\n",
       "    <tr>\n",
       "      <th>2</th>\n",
       "      <td>395590</td>\n",
       "      <td>360</td>\n",
       "      <td>2008-06-17</td>\n",
       "      <td>420000</td>\n",
       "      <td>98056.00</td>\n",
       "      <td>2670</td>\n",
       "      <td>157.30</td>\n",
       "    </tr>\n",
       "    <tr>\n",
       "      <th>3</th>\n",
       "      <td>395590</td>\n",
       "      <td>360</td>\n",
       "      <td>2001-07-13</td>\n",
       "      <td>303900</td>\n",
       "      <td>98056.00</td>\n",
       "      <td>2670</td>\n",
       "      <td>113.82</td>\n",
       "    </tr>\n",
       "    <tr>\n",
       "      <th>4</th>\n",
       "      <td>251701</td>\n",
       "      <td>640</td>\n",
       "      <td>2013-12-11</td>\n",
       "      <td>290000</td>\n",
       "      <td>98042</td>\n",
       "      <td>2290</td>\n",
       "      <td>126.64</td>\n",
       "    </tr>\n",
       "    <tr>\n",
       "      <th>5</th>\n",
       "      <td>251701</td>\n",
       "      <td>640</td>\n",
       "      <td>2021-03-22</td>\n",
       "      <td>605000</td>\n",
       "      <td>98042</td>\n",
       "      <td>2290</td>\n",
       "      <td>264.19</td>\n",
       "    </tr>\n",
       "    <tr>\n",
       "      <th>6</th>\n",
       "      <td>251701</td>\n",
       "      <td>640</td>\n",
       "      <td>2006-06-01</td>\n",
       "      <td>354035</td>\n",
       "      <td>98042</td>\n",
       "      <td>2290</td>\n",
       "      <td>154.60</td>\n",
       "    </tr>\n",
       "  </tbody>\n",
       "</table>\n",
       "</div>"
      ],
      "text/plain": [
       "    Major Minor DocumentDate  SalePrice  ZipCode  SqFtTotLiving  PricePerSqFt\n",
       "2  395590   360   2008-06-17     420000 98056.00           2670        157.30\n",
       "3  395590   360   2001-07-13     303900 98056.00           2670        113.82\n",
       "4  251701   640   2013-12-11     290000    98042           2290        126.64\n",
       "5  251701   640   2021-03-22     605000    98042           2290        264.19\n",
       "6  251701   640   2006-06-01     354035    98042           2290        154.60"
      ]
     },
     "execution_count": 96,
     "metadata": {},
     "output_type": "execute_result"
    }
   ],
   "source": [
    "sales_data['DocumentDate'] = pd.to_datetime(sales_data['DocumentDate'])\n",
    "sales_data.head()                                  "
   ]
  },
  {
   "cell_type": "code",
   "execution_count": 110,
   "metadata": {},
   "outputs": [
    {
     "data": {
      "text/plain": [
       "2008"
      ]
     },
     "execution_count": 110,
     "metadata": {},
     "output_type": "execute_result"
    }
   ],
   "source": [
    "sales_data['DocumentDate'][2].year"
   ]
  },
  {
   "cell_type": "code",
   "execution_count": 120,
   "metadata": {},
   "outputs": [
    {
     "data": {
      "text/html": [
       "<div>\n",
       "<style scoped>\n",
       "    .dataframe tbody tr th:only-of-type {\n",
       "        vertical-align: middle;\n",
       "    }\n",
       "\n",
       "    .dataframe tbody tr th {\n",
       "        vertical-align: top;\n",
       "    }\n",
       "\n",
       "    .dataframe thead th {\n",
       "        text-align: right;\n",
       "    }\n",
       "</style>\n",
       "<table border=\"1\" class=\"dataframe\">\n",
       "  <thead>\n",
       "    <tr style=\"text-align: right;\">\n",
       "      <th></th>\n",
       "      <th>Major</th>\n",
       "      <th>Minor</th>\n",
       "      <th>DocumentDate</th>\n",
       "      <th>SalePrice</th>\n",
       "      <th>ZipCode</th>\n",
       "      <th>SqFtTotLiving</th>\n",
       "      <th>PricePerSqFt</th>\n",
       "    </tr>\n",
       "  </thead>\n",
       "  <tbody>\n",
       "    <tr>\n",
       "      <th>3</th>\n",
       "      <td>395590</td>\n",
       "      <td>360</td>\n",
       "      <td>2001-07-13</td>\n",
       "      <td>303900</td>\n",
       "      <td>98056.00</td>\n",
       "      <td>2670</td>\n",
       "      <td>113.82</td>\n",
       "    </tr>\n",
       "    <tr>\n",
       "      <th>4</th>\n",
       "      <td>251701</td>\n",
       "      <td>640</td>\n",
       "      <td>2013-12-11</td>\n",
       "      <td>290000</td>\n",
       "      <td>98042</td>\n",
       "      <td>2290</td>\n",
       "      <td>126.64</td>\n",
       "    </tr>\n",
       "    <tr>\n",
       "      <th>5</th>\n",
       "      <td>251701</td>\n",
       "      <td>640</td>\n",
       "      <td>2021-03-22</td>\n",
       "      <td>605000</td>\n",
       "      <td>98042</td>\n",
       "      <td>2290</td>\n",
       "      <td>264.19</td>\n",
       "    </tr>\n",
       "  </tbody>\n",
       "</table>\n",
       "</div>"
      ],
      "text/plain": [
       "    Major Minor DocumentDate  SalePrice  ZipCode  SqFtTotLiving  PricePerSqFt\n",
       "3  395590   360   2001-07-13     303900 98056.00           2670        113.82\n",
       "4  251701   640   2013-12-11     290000    98042           2290        126.64\n",
       "5  251701   640   2021-03-22     605000    98042           2290        264.19"
      ]
     },
     "execution_count": 120,
     "metadata": {},
     "output_type": "execute_result"
    }
   ],
   "source": [
    "sales_data.loc[3:5]"
   ]
  },
  {
   "cell_type": "code",
   "execution_count": 121,
   "metadata": {},
   "outputs": [
    {
     "ename": "KeyError",
     "evalue": "0",
     "output_type": "error",
     "traceback": [
      "\u001b[0;31m---------------------------------------------------------------------------\u001b[0m",
      "\u001b[0;31mKeyError\u001b[0m                                  Traceback (most recent call last)",
      "File \u001b[0;32m~/anaconda3/lib/python3.11/site-packages/pandas/core/indexes/base.py:3791\u001b[0m, in \u001b[0;36mIndex.get_loc\u001b[0;34m(self, key)\u001b[0m\n\u001b[1;32m   3790\u001b[0m \u001b[38;5;28;01mtry\u001b[39;00m:\n\u001b[0;32m-> 3791\u001b[0m     \u001b[38;5;28;01mreturn\u001b[39;00m \u001b[38;5;28mself\u001b[39m\u001b[38;5;241m.\u001b[39m_engine\u001b[38;5;241m.\u001b[39mget_loc(casted_key)\n\u001b[1;32m   3792\u001b[0m \u001b[38;5;28;01mexcept\u001b[39;00m \u001b[38;5;167;01mKeyError\u001b[39;00m \u001b[38;5;28;01mas\u001b[39;00m err:\n",
      "File \u001b[0;32mindex.pyx:152\u001b[0m, in \u001b[0;36mpandas._libs.index.IndexEngine.get_loc\u001b[0;34m()\u001b[0m\n",
      "File \u001b[0;32mindex.pyx:181\u001b[0m, in \u001b[0;36mpandas._libs.index.IndexEngine.get_loc\u001b[0;34m()\u001b[0m\n",
      "File \u001b[0;32mpandas/_libs/hashtable_class_helper.pxi:2606\u001b[0m, in \u001b[0;36mpandas._libs.hashtable.Int64HashTable.get_item\u001b[0;34m()\u001b[0m\n",
      "File \u001b[0;32mpandas/_libs/hashtable_class_helper.pxi:2630\u001b[0m, in \u001b[0;36mpandas._libs.hashtable.Int64HashTable.get_item\u001b[0;34m()\u001b[0m\n",
      "\u001b[0;31mKeyError\u001b[0m: 0",
      "\nThe above exception was the direct cause of the following exception:\n",
      "\u001b[0;31mKeyError\u001b[0m                                  Traceback (most recent call last)",
      "Cell \u001b[0;32mIn[121], line 1\u001b[0m\n\u001b[0;32m----> 1\u001b[0m sales_2021 \u001b[38;5;241m=\u001b[39m [sales_data\u001b[38;5;241m.\u001b[39mloc[row] \u001b[38;5;28;01mfor\u001b[39;00m row \u001b[38;5;129;01min\u001b[39;00m sales_data\u001b[38;5;241m.\u001b[39mloc \u001b[38;5;28;01mif\u001b[39;00m sales_data[\u001b[38;5;124m'\u001b[39m\u001b[38;5;124mDocumentDate\u001b[39m\u001b[38;5;124m'\u001b[39m][row]\u001b[38;5;241m.\u001b[39myear \u001b[38;5;241m==\u001b[39m \u001b[38;5;241m2001\u001b[39m]\n\u001b[1;32m      2\u001b[0m sales_2021\n",
      "Cell \u001b[0;32mIn[121], line 1\u001b[0m, in \u001b[0;36m<listcomp>\u001b[0;34m(.0)\u001b[0m\n\u001b[0;32m----> 1\u001b[0m sales_2021 \u001b[38;5;241m=\u001b[39m [sales_data\u001b[38;5;241m.\u001b[39mloc[row] \u001b[38;5;28;01mfor\u001b[39;00m row \u001b[38;5;129;01min\u001b[39;00m sales_data\u001b[38;5;241m.\u001b[39mloc \u001b[38;5;28;01mif\u001b[39;00m sales_data[\u001b[38;5;124m'\u001b[39m\u001b[38;5;124mDocumentDate\u001b[39m\u001b[38;5;124m'\u001b[39m][row]\u001b[38;5;241m.\u001b[39myear \u001b[38;5;241m==\u001b[39m \u001b[38;5;241m2001\u001b[39m]\n\u001b[1;32m      2\u001b[0m sales_2021\n",
      "File \u001b[0;32m~/anaconda3/lib/python3.11/site-packages/pandas/core/indexing.py:1153\u001b[0m, in \u001b[0;36m_LocationIndexer.__getitem__\u001b[0;34m(self, key)\u001b[0m\n\u001b[1;32m   1150\u001b[0m axis \u001b[38;5;241m=\u001b[39m \u001b[38;5;28mself\u001b[39m\u001b[38;5;241m.\u001b[39maxis \u001b[38;5;129;01mor\u001b[39;00m \u001b[38;5;241m0\u001b[39m\n\u001b[1;32m   1152\u001b[0m maybe_callable \u001b[38;5;241m=\u001b[39m com\u001b[38;5;241m.\u001b[39mapply_if_callable(key, \u001b[38;5;28mself\u001b[39m\u001b[38;5;241m.\u001b[39mobj)\n\u001b[0;32m-> 1153\u001b[0m \u001b[38;5;28;01mreturn\u001b[39;00m \u001b[38;5;28mself\u001b[39m\u001b[38;5;241m.\u001b[39m_getitem_axis(maybe_callable, axis\u001b[38;5;241m=\u001b[39maxis)\n",
      "File \u001b[0;32m~/anaconda3/lib/python3.11/site-packages/pandas/core/indexing.py:1393\u001b[0m, in \u001b[0;36m_LocIndexer._getitem_axis\u001b[0;34m(self, key, axis)\u001b[0m\n\u001b[1;32m   1391\u001b[0m \u001b[38;5;66;03m# fall thru to straight lookup\u001b[39;00m\n\u001b[1;32m   1392\u001b[0m \u001b[38;5;28mself\u001b[39m\u001b[38;5;241m.\u001b[39m_validate_key(key, axis)\n\u001b[0;32m-> 1393\u001b[0m \u001b[38;5;28;01mreturn\u001b[39;00m \u001b[38;5;28mself\u001b[39m\u001b[38;5;241m.\u001b[39m_get_label(key, axis\u001b[38;5;241m=\u001b[39maxis)\n",
      "File \u001b[0;32m~/anaconda3/lib/python3.11/site-packages/pandas/core/indexing.py:1343\u001b[0m, in \u001b[0;36m_LocIndexer._get_label\u001b[0;34m(self, label, axis)\u001b[0m\n\u001b[1;32m   1341\u001b[0m \u001b[38;5;28;01mdef\u001b[39;00m \u001b[38;5;21m_get_label\u001b[39m(\u001b[38;5;28mself\u001b[39m, label, axis: AxisInt):\n\u001b[1;32m   1342\u001b[0m     \u001b[38;5;66;03m# GH#5567 this will fail if the label is not present in the axis.\u001b[39;00m\n\u001b[0;32m-> 1343\u001b[0m     \u001b[38;5;28;01mreturn\u001b[39;00m \u001b[38;5;28mself\u001b[39m\u001b[38;5;241m.\u001b[39mobj\u001b[38;5;241m.\u001b[39mxs(label, axis\u001b[38;5;241m=\u001b[39maxis)\n",
      "File \u001b[0;32m~/anaconda3/lib/python3.11/site-packages/pandas/core/generic.py:4236\u001b[0m, in \u001b[0;36mNDFrame.xs\u001b[0;34m(self, key, axis, level, drop_level)\u001b[0m\n\u001b[1;32m   4234\u001b[0m             new_index \u001b[38;5;241m=\u001b[39m index[loc]\n\u001b[1;32m   4235\u001b[0m \u001b[38;5;28;01melse\u001b[39;00m:\n\u001b[0;32m-> 4236\u001b[0m     loc \u001b[38;5;241m=\u001b[39m index\u001b[38;5;241m.\u001b[39mget_loc(key)\n\u001b[1;32m   4238\u001b[0m     \u001b[38;5;28;01mif\u001b[39;00m \u001b[38;5;28misinstance\u001b[39m(loc, np\u001b[38;5;241m.\u001b[39mndarray):\n\u001b[1;32m   4239\u001b[0m         \u001b[38;5;28;01mif\u001b[39;00m loc\u001b[38;5;241m.\u001b[39mdtype \u001b[38;5;241m==\u001b[39m np\u001b[38;5;241m.\u001b[39mbool_:\n",
      "File \u001b[0;32m~/anaconda3/lib/python3.11/site-packages/pandas/core/indexes/base.py:3798\u001b[0m, in \u001b[0;36mIndex.get_loc\u001b[0;34m(self, key)\u001b[0m\n\u001b[1;32m   3793\u001b[0m     \u001b[38;5;28;01mif\u001b[39;00m \u001b[38;5;28misinstance\u001b[39m(casted_key, \u001b[38;5;28mslice\u001b[39m) \u001b[38;5;129;01mor\u001b[39;00m (\n\u001b[1;32m   3794\u001b[0m         \u001b[38;5;28misinstance\u001b[39m(casted_key, abc\u001b[38;5;241m.\u001b[39mIterable)\n\u001b[1;32m   3795\u001b[0m         \u001b[38;5;129;01mand\u001b[39;00m \u001b[38;5;28many\u001b[39m(\u001b[38;5;28misinstance\u001b[39m(x, \u001b[38;5;28mslice\u001b[39m) \u001b[38;5;28;01mfor\u001b[39;00m x \u001b[38;5;129;01min\u001b[39;00m casted_key)\n\u001b[1;32m   3796\u001b[0m     ):\n\u001b[1;32m   3797\u001b[0m         \u001b[38;5;28;01mraise\u001b[39;00m InvalidIndexError(key)\n\u001b[0;32m-> 3798\u001b[0m     \u001b[38;5;28;01mraise\u001b[39;00m \u001b[38;5;167;01mKeyError\u001b[39;00m(key) \u001b[38;5;28;01mfrom\u001b[39;00m \u001b[38;5;21;01merr\u001b[39;00m\n\u001b[1;32m   3799\u001b[0m \u001b[38;5;28;01mexcept\u001b[39;00m \u001b[38;5;167;01mTypeError\u001b[39;00m:\n\u001b[1;32m   3800\u001b[0m     \u001b[38;5;66;03m# If we have a listlike key, _check_indexing_error will raise\u001b[39;00m\n\u001b[1;32m   3801\u001b[0m     \u001b[38;5;66;03m#  InvalidIndexError. Otherwise we fall through and re-raise\u001b[39;00m\n\u001b[1;32m   3802\u001b[0m     \u001b[38;5;66;03m#  the TypeError.\u001b[39;00m\n\u001b[1;32m   3803\u001b[0m     \u001b[38;5;28mself\u001b[39m\u001b[38;5;241m.\u001b[39m_check_indexing_error(key)\n",
      "\u001b[0;31mKeyError\u001b[0m: 0"
     ]
    }
   ],
   "source": [
    "sales_2021 = [sales_data.loc[row] for row in sales_data.loc if sales_data['DocumentDate'][row].year == 2001]\n",
    "sales_2021"
   ]
  },
  {
   "cell_type": "code",
   "execution_count": 94,
   "metadata": {
    "hidden": true
   },
   "outputs": [],
   "source": [
    "# sales_2021 = pd.datetime(sales_data['DocumentDate'][-4:] == 2001)\n",
    "# sales_2021 = sales_data[sales_data['DocumentDate'][-4:] == 2001]"
   ]
  },
  {
   "cell_type": "markdown",
   "metadata": {},
   "source": [
    "<details>\n",
    "    <summary>Answer here</summary>\n",
    "    <code>sales_data['DocumentDate'] = pd.to_datetime(sales_data['DocumentDate'])\n",
    "sales_data = sales_data.loc[sales_data['DocumentDate'] > '12/31/2020']</code>\n",
    "    </details>"
   ]
  },
  {
   "cell_type": "markdown",
   "metadata": {
    "heading_collapsed": true,
    "hidden": true
   },
   "source": [
    "### 5. What is the mean price per square foot for a house sold in Seattle in 2021?"
   ]
  },
  {
   "cell_type": "code",
   "execution_count": 89,
   "metadata": {
    "hidden": true
   },
   "outputs": [
    {
     "data": {
      "text/plain": [
       "inf"
      ]
     },
     "execution_count": 89,
     "metadata": {},
     "output_type": "execute_result"
    }
   ],
   "source": [
    "sales_data['PricePerSqFt'].mean()"
   ]
  },
  {
   "cell_type": "markdown",
   "metadata": {},
   "source": [
    "<details>\n",
    "    <summary>Answer here</summary>\n",
    "    <code>sales_data['PricePerSqFt'].mean()</code>\n",
    "    </details>"
   ]
  },
  {
   "cell_type": "markdown",
   "metadata": {
    "heading_collapsed": true,
    "hidden": true
   },
   "source": [
    "## Level Up: `pandas.set_option()`"
   ]
  },
  {
   "cell_type": "markdown",
   "metadata": {
    "heading_collapsed": true,
    "hidden": true
   },
   "source": [
    "We can adjust how `pandas` works by setting options in advance."
   ]
  },
  {
   "cell_type": "markdown",
   "metadata": {
    "heading_collapsed": true,
    "hidden": true
   },
   "source": [
    "### Block Scientific Notation"
   ]
  },
  {
   "cell_type": "markdown",
   "metadata": {
    "heading_collapsed": true,
    "hidden": true
   },
   "source": [
    "For example, suppose we want to prevent numbers from being displayed in scientific notation."
   ]
  },
  {
   "cell_type": "code",
   "execution_count": 64,
   "metadata": {
    "ExecuteTime": {
     "end_time": "2022-08-04T14:14:25.026527Z",
     "start_time": "2022-08-04T14:14:25.011726Z"
    },
    "heading_collapsed": true,
    "hidden": true
   },
   "outputs": [
    {
     "data": {
      "text/html": [
       "<div>\n",
       "<style scoped>\n",
       "    .dataframe tbody tr th:only-of-type {\n",
       "        vertical-align: middle;\n",
       "    }\n",
       "\n",
       "    .dataframe tbody tr th {\n",
       "        vertical-align: top;\n",
       "    }\n",
       "\n",
       "    .dataframe thead th {\n",
       "        text-align: right;\n",
       "    }\n",
       "</style>\n",
       "<table border=\"1\" class=\"dataframe\">\n",
       "  <thead>\n",
       "    <tr style=\"text-align: right;\">\n",
       "      <th></th>\n",
       "      <th>0</th>\n",
       "      <th>1</th>\n",
       "    </tr>\n",
       "  </thead>\n",
       "  <tbody>\n",
       "    <tr>\n",
       "      <th>0</th>\n",
       "      <td>1.000000e+09</td>\n",
       "      <td>2.000000e+09</td>\n",
       "    </tr>\n",
       "    <tr>\n",
       "      <th>1</th>\n",
       "      <td>3.000000e+09</td>\n",
       "      <td>4.000000e+09</td>\n",
       "    </tr>\n",
       "  </tbody>\n",
       "</table>\n",
       "</div>"
      ],
      "text/plain": [
       "              0             1\n",
       "0  1.000000e+09  2.000000e+09\n",
       "1  3.000000e+09  4.000000e+09"
      ]
     },
     "execution_count": 64,
     "metadata": {},
     "output_type": "execute_result"
    }
   ],
   "source": [
    "df = pd.DataFrame([[1e9, 2e9], [3e9, 4e9]])\n",
    "df"
   ]
  },
  {
   "cell_type": "markdown",
   "metadata": {
    "heading_collapsed": true,
    "hidden": true
   },
   "source": [
    "Then we can use:"
   ]
  },
  {
   "cell_type": "code",
   "execution_count": 65,
   "metadata": {
    "ExecuteTime": {
     "end_time": "2022-08-04T14:14:25.086189Z",
     "start_time": "2022-08-04T14:14:25.077582Z"
    },
    "heading_collapsed": true,
    "hidden": true
   },
   "outputs": [
    {
     "data": {
      "text/html": [
       "<div>\n",
       "<style scoped>\n",
       "    .dataframe tbody tr th:only-of-type {\n",
       "        vertical-align: middle;\n",
       "    }\n",
       "\n",
       "    .dataframe tbody tr th {\n",
       "        vertical-align: top;\n",
       "    }\n",
       "\n",
       "    .dataframe thead th {\n",
       "        text-align: right;\n",
       "    }\n",
       "</style>\n",
       "<table border=\"1\" class=\"dataframe\">\n",
       "  <thead>\n",
       "    <tr style=\"text-align: right;\">\n",
       "      <th></th>\n",
       "      <th>0</th>\n",
       "      <th>1</th>\n",
       "    </tr>\n",
       "  </thead>\n",
       "  <tbody>\n",
       "    <tr>\n",
       "      <th>0</th>\n",
       "      <td>1000000000.00</td>\n",
       "      <td>2000000000.00</td>\n",
       "    </tr>\n",
       "    <tr>\n",
       "      <th>1</th>\n",
       "      <td>3000000000.00</td>\n",
       "      <td>4000000000.00</td>\n",
       "    </tr>\n",
       "  </tbody>\n",
       "</table>\n",
       "</div>"
      ],
      "text/plain": [
       "              0             1\n",
       "0 1000000000.00 2000000000.00\n",
       "1 3000000000.00 4000000000.00"
      ]
     },
     "execution_count": 65,
     "metadata": {},
     "output_type": "execute_result"
    }
   ],
   "source": [
    "pd.set_option('display.float_format', '{:.2f}'.format)\n",
    "\n",
    "df"
   ]
  },
  {
   "cell_type": "markdown",
   "metadata": {
    "heading_collapsed": true,
    "hidden": true
   },
   "source": [
    "### See More Rows"
   ]
  },
  {
   "cell_type": "markdown",
   "metadata": {
    "heading_collapsed": true,
    "hidden": true
   },
   "source": [
    "Or suppose we want `pandas` to show more rows."
   ]
  },
  {
   "cell_type": "code",
   "execution_count": 66,
   "metadata": {
    "ExecuteTime": {
     "end_time": "2022-08-04T14:14:25.244237Z",
     "start_time": "2022-08-04T14:14:25.231303Z"
    },
    "heading_collapsed": true,
    "hidden": true
   },
   "outputs": [
    {
     "data": {
      "text/html": [
       "<div>\n",
       "<style scoped>\n",
       "    .dataframe tbody tr th:only-of-type {\n",
       "        vertical-align: middle;\n",
       "    }\n",
       "\n",
       "    .dataframe tbody tr th {\n",
       "        vertical-align: top;\n",
       "    }\n",
       "\n",
       "    .dataframe thead th {\n",
       "        text-align: right;\n",
       "    }\n",
       "</style>\n",
       "<table border=\"1\" class=\"dataframe\">\n",
       "  <thead>\n",
       "    <tr style=\"text-align: right;\">\n",
       "      <th></th>\n",
       "      <th>0</th>\n",
       "    </tr>\n",
       "  </thead>\n",
       "  <tbody>\n",
       "    <tr>\n",
       "      <th>0</th>\n",
       "      <td>0</td>\n",
       "    </tr>\n",
       "    <tr>\n",
       "      <th>1</th>\n",
       "      <td>1</td>\n",
       "    </tr>\n",
       "    <tr>\n",
       "      <th>2</th>\n",
       "      <td>2</td>\n",
       "    </tr>\n",
       "    <tr>\n",
       "      <th>3</th>\n",
       "      <td>3</td>\n",
       "    </tr>\n",
       "    <tr>\n",
       "      <th>4</th>\n",
       "      <td>4</td>\n",
       "    </tr>\n",
       "    <tr>\n",
       "      <th>...</th>\n",
       "      <td>...</td>\n",
       "    </tr>\n",
       "    <tr>\n",
       "      <th>95</th>\n",
       "      <td>95</td>\n",
       "    </tr>\n",
       "    <tr>\n",
       "      <th>96</th>\n",
       "      <td>96</td>\n",
       "    </tr>\n",
       "    <tr>\n",
       "      <th>97</th>\n",
       "      <td>97</td>\n",
       "    </tr>\n",
       "    <tr>\n",
       "      <th>98</th>\n",
       "      <td>98</td>\n",
       "    </tr>\n",
       "    <tr>\n",
       "      <th>99</th>\n",
       "      <td>99</td>\n",
       "    </tr>\n",
       "  </tbody>\n",
       "</table>\n",
       "<p>100 rows × 1 columns</p>\n",
       "</div>"
      ],
      "text/plain": [
       "     0\n",
       "0    0\n",
       "1    1\n",
       "2    2\n",
       "3    3\n",
       "4    4\n",
       "..  ..\n",
       "95  95\n",
       "96  96\n",
       "97  97\n",
       "98  98\n",
       "99  99\n",
       "\n",
       "[100 rows x 1 columns]"
      ]
     },
     "execution_count": 66,
     "metadata": {},
     "output_type": "execute_result"
    }
   ],
   "source": [
    "df2 = pd.DataFrame(np.array(range(100)))\n",
    "df2"
   ]
  },
  {
   "cell_type": "markdown",
   "metadata": {
    "heading_collapsed": true,
    "hidden": true
   },
   "source": [
    "In that case we can use:"
   ]
  },
  {
   "cell_type": "code",
   "execution_count": 67,
   "metadata": {
    "ExecuteTime": {
     "end_time": "2022-08-04T14:14:25.322221Z",
     "start_time": "2022-08-04T14:14:25.306258Z"
    },
    "heading_collapsed": true,
    "hidden": true,
    "scrolled": true
   },
   "outputs": [
    {
     "data": {
      "text/html": [
       "<div>\n",
       "<style scoped>\n",
       "    .dataframe tbody tr th:only-of-type {\n",
       "        vertical-align: middle;\n",
       "    }\n",
       "\n",
       "    .dataframe tbody tr th {\n",
       "        vertical-align: top;\n",
       "    }\n",
       "\n",
       "    .dataframe thead th {\n",
       "        text-align: right;\n",
       "    }\n",
       "</style>\n",
       "<table border=\"1\" class=\"dataframe\">\n",
       "  <thead>\n",
       "    <tr style=\"text-align: right;\">\n",
       "      <th></th>\n",
       "      <th>0</th>\n",
       "    </tr>\n",
       "  </thead>\n",
       "  <tbody>\n",
       "    <tr>\n",
       "      <th>0</th>\n",
       "      <td>0</td>\n",
       "    </tr>\n",
       "    <tr>\n",
       "      <th>1</th>\n",
       "      <td>1</td>\n",
       "    </tr>\n",
       "    <tr>\n",
       "      <th>2</th>\n",
       "      <td>2</td>\n",
       "    </tr>\n",
       "    <tr>\n",
       "      <th>3</th>\n",
       "      <td>3</td>\n",
       "    </tr>\n",
       "    <tr>\n",
       "      <th>4</th>\n",
       "      <td>4</td>\n",
       "    </tr>\n",
       "    <tr>\n",
       "      <th>5</th>\n",
       "      <td>5</td>\n",
       "    </tr>\n",
       "    <tr>\n",
       "      <th>6</th>\n",
       "      <td>6</td>\n",
       "    </tr>\n",
       "    <tr>\n",
       "      <th>7</th>\n",
       "      <td>7</td>\n",
       "    </tr>\n",
       "    <tr>\n",
       "      <th>8</th>\n",
       "      <td>8</td>\n",
       "    </tr>\n",
       "    <tr>\n",
       "      <th>9</th>\n",
       "      <td>9</td>\n",
       "    </tr>\n",
       "    <tr>\n",
       "      <th>10</th>\n",
       "      <td>10</td>\n",
       "    </tr>\n",
       "    <tr>\n",
       "      <th>11</th>\n",
       "      <td>11</td>\n",
       "    </tr>\n",
       "    <tr>\n",
       "      <th>12</th>\n",
       "      <td>12</td>\n",
       "    </tr>\n",
       "    <tr>\n",
       "      <th>13</th>\n",
       "      <td>13</td>\n",
       "    </tr>\n",
       "    <tr>\n",
       "      <th>14</th>\n",
       "      <td>14</td>\n",
       "    </tr>\n",
       "    <tr>\n",
       "      <th>15</th>\n",
       "      <td>15</td>\n",
       "    </tr>\n",
       "    <tr>\n",
       "      <th>16</th>\n",
       "      <td>16</td>\n",
       "    </tr>\n",
       "    <tr>\n",
       "      <th>17</th>\n",
       "      <td>17</td>\n",
       "    </tr>\n",
       "    <tr>\n",
       "      <th>18</th>\n",
       "      <td>18</td>\n",
       "    </tr>\n",
       "    <tr>\n",
       "      <th>19</th>\n",
       "      <td>19</td>\n",
       "    </tr>\n",
       "    <tr>\n",
       "      <th>20</th>\n",
       "      <td>20</td>\n",
       "    </tr>\n",
       "    <tr>\n",
       "      <th>21</th>\n",
       "      <td>21</td>\n",
       "    </tr>\n",
       "    <tr>\n",
       "      <th>22</th>\n",
       "      <td>22</td>\n",
       "    </tr>\n",
       "    <tr>\n",
       "      <th>23</th>\n",
       "      <td>23</td>\n",
       "    </tr>\n",
       "    <tr>\n",
       "      <th>24</th>\n",
       "      <td>24</td>\n",
       "    </tr>\n",
       "    <tr>\n",
       "      <th>25</th>\n",
       "      <td>25</td>\n",
       "    </tr>\n",
       "    <tr>\n",
       "      <th>26</th>\n",
       "      <td>26</td>\n",
       "    </tr>\n",
       "    <tr>\n",
       "      <th>27</th>\n",
       "      <td>27</td>\n",
       "    </tr>\n",
       "    <tr>\n",
       "      <th>28</th>\n",
       "      <td>28</td>\n",
       "    </tr>\n",
       "    <tr>\n",
       "      <th>29</th>\n",
       "      <td>29</td>\n",
       "    </tr>\n",
       "    <tr>\n",
       "      <th>30</th>\n",
       "      <td>30</td>\n",
       "    </tr>\n",
       "    <tr>\n",
       "      <th>31</th>\n",
       "      <td>31</td>\n",
       "    </tr>\n",
       "    <tr>\n",
       "      <th>32</th>\n",
       "      <td>32</td>\n",
       "    </tr>\n",
       "    <tr>\n",
       "      <th>33</th>\n",
       "      <td>33</td>\n",
       "    </tr>\n",
       "    <tr>\n",
       "      <th>34</th>\n",
       "      <td>34</td>\n",
       "    </tr>\n",
       "    <tr>\n",
       "      <th>35</th>\n",
       "      <td>35</td>\n",
       "    </tr>\n",
       "    <tr>\n",
       "      <th>36</th>\n",
       "      <td>36</td>\n",
       "    </tr>\n",
       "    <tr>\n",
       "      <th>37</th>\n",
       "      <td>37</td>\n",
       "    </tr>\n",
       "    <tr>\n",
       "      <th>38</th>\n",
       "      <td>38</td>\n",
       "    </tr>\n",
       "    <tr>\n",
       "      <th>39</th>\n",
       "      <td>39</td>\n",
       "    </tr>\n",
       "    <tr>\n",
       "      <th>40</th>\n",
       "      <td>40</td>\n",
       "    </tr>\n",
       "    <tr>\n",
       "      <th>41</th>\n",
       "      <td>41</td>\n",
       "    </tr>\n",
       "    <tr>\n",
       "      <th>42</th>\n",
       "      <td>42</td>\n",
       "    </tr>\n",
       "    <tr>\n",
       "      <th>43</th>\n",
       "      <td>43</td>\n",
       "    </tr>\n",
       "    <tr>\n",
       "      <th>44</th>\n",
       "      <td>44</td>\n",
       "    </tr>\n",
       "    <tr>\n",
       "      <th>45</th>\n",
       "      <td>45</td>\n",
       "    </tr>\n",
       "    <tr>\n",
       "      <th>46</th>\n",
       "      <td>46</td>\n",
       "    </tr>\n",
       "    <tr>\n",
       "      <th>47</th>\n",
       "      <td>47</td>\n",
       "    </tr>\n",
       "    <tr>\n",
       "      <th>48</th>\n",
       "      <td>48</td>\n",
       "    </tr>\n",
       "    <tr>\n",
       "      <th>49</th>\n",
       "      <td>49</td>\n",
       "    </tr>\n",
       "    <tr>\n",
       "      <th>50</th>\n",
       "      <td>50</td>\n",
       "    </tr>\n",
       "    <tr>\n",
       "      <th>51</th>\n",
       "      <td>51</td>\n",
       "    </tr>\n",
       "    <tr>\n",
       "      <th>52</th>\n",
       "      <td>52</td>\n",
       "    </tr>\n",
       "    <tr>\n",
       "      <th>53</th>\n",
       "      <td>53</td>\n",
       "    </tr>\n",
       "    <tr>\n",
       "      <th>54</th>\n",
       "      <td>54</td>\n",
       "    </tr>\n",
       "    <tr>\n",
       "      <th>55</th>\n",
       "      <td>55</td>\n",
       "    </tr>\n",
       "    <tr>\n",
       "      <th>56</th>\n",
       "      <td>56</td>\n",
       "    </tr>\n",
       "    <tr>\n",
       "      <th>57</th>\n",
       "      <td>57</td>\n",
       "    </tr>\n",
       "    <tr>\n",
       "      <th>58</th>\n",
       "      <td>58</td>\n",
       "    </tr>\n",
       "    <tr>\n",
       "      <th>59</th>\n",
       "      <td>59</td>\n",
       "    </tr>\n",
       "    <tr>\n",
       "      <th>60</th>\n",
       "      <td>60</td>\n",
       "    </tr>\n",
       "    <tr>\n",
       "      <th>61</th>\n",
       "      <td>61</td>\n",
       "    </tr>\n",
       "    <tr>\n",
       "      <th>62</th>\n",
       "      <td>62</td>\n",
       "    </tr>\n",
       "    <tr>\n",
       "      <th>63</th>\n",
       "      <td>63</td>\n",
       "    </tr>\n",
       "    <tr>\n",
       "      <th>64</th>\n",
       "      <td>64</td>\n",
       "    </tr>\n",
       "    <tr>\n",
       "      <th>65</th>\n",
       "      <td>65</td>\n",
       "    </tr>\n",
       "    <tr>\n",
       "      <th>66</th>\n",
       "      <td>66</td>\n",
       "    </tr>\n",
       "    <tr>\n",
       "      <th>67</th>\n",
       "      <td>67</td>\n",
       "    </tr>\n",
       "    <tr>\n",
       "      <th>68</th>\n",
       "      <td>68</td>\n",
       "    </tr>\n",
       "    <tr>\n",
       "      <th>69</th>\n",
       "      <td>69</td>\n",
       "    </tr>\n",
       "    <tr>\n",
       "      <th>70</th>\n",
       "      <td>70</td>\n",
       "    </tr>\n",
       "    <tr>\n",
       "      <th>71</th>\n",
       "      <td>71</td>\n",
       "    </tr>\n",
       "    <tr>\n",
       "      <th>72</th>\n",
       "      <td>72</td>\n",
       "    </tr>\n",
       "    <tr>\n",
       "      <th>73</th>\n",
       "      <td>73</td>\n",
       "    </tr>\n",
       "    <tr>\n",
       "      <th>74</th>\n",
       "      <td>74</td>\n",
       "    </tr>\n",
       "    <tr>\n",
       "      <th>75</th>\n",
       "      <td>75</td>\n",
       "    </tr>\n",
       "    <tr>\n",
       "      <th>76</th>\n",
       "      <td>76</td>\n",
       "    </tr>\n",
       "    <tr>\n",
       "      <th>77</th>\n",
       "      <td>77</td>\n",
       "    </tr>\n",
       "    <tr>\n",
       "      <th>78</th>\n",
       "      <td>78</td>\n",
       "    </tr>\n",
       "    <tr>\n",
       "      <th>79</th>\n",
       "      <td>79</td>\n",
       "    </tr>\n",
       "    <tr>\n",
       "      <th>80</th>\n",
       "      <td>80</td>\n",
       "    </tr>\n",
       "    <tr>\n",
       "      <th>81</th>\n",
       "      <td>81</td>\n",
       "    </tr>\n",
       "    <tr>\n",
       "      <th>82</th>\n",
       "      <td>82</td>\n",
       "    </tr>\n",
       "    <tr>\n",
       "      <th>83</th>\n",
       "      <td>83</td>\n",
       "    </tr>\n",
       "    <tr>\n",
       "      <th>84</th>\n",
       "      <td>84</td>\n",
       "    </tr>\n",
       "    <tr>\n",
       "      <th>85</th>\n",
       "      <td>85</td>\n",
       "    </tr>\n",
       "    <tr>\n",
       "      <th>86</th>\n",
       "      <td>86</td>\n",
       "    </tr>\n",
       "    <tr>\n",
       "      <th>87</th>\n",
       "      <td>87</td>\n",
       "    </tr>\n",
       "    <tr>\n",
       "      <th>88</th>\n",
       "      <td>88</td>\n",
       "    </tr>\n",
       "    <tr>\n",
       "      <th>89</th>\n",
       "      <td>89</td>\n",
       "    </tr>\n",
       "    <tr>\n",
       "      <th>90</th>\n",
       "      <td>90</td>\n",
       "    </tr>\n",
       "    <tr>\n",
       "      <th>91</th>\n",
       "      <td>91</td>\n",
       "    </tr>\n",
       "    <tr>\n",
       "      <th>92</th>\n",
       "      <td>92</td>\n",
       "    </tr>\n",
       "    <tr>\n",
       "      <th>93</th>\n",
       "      <td>93</td>\n",
       "    </tr>\n",
       "    <tr>\n",
       "      <th>94</th>\n",
       "      <td>94</td>\n",
       "    </tr>\n",
       "    <tr>\n",
       "      <th>95</th>\n",
       "      <td>95</td>\n",
       "    </tr>\n",
       "    <tr>\n",
       "      <th>96</th>\n",
       "      <td>96</td>\n",
       "    </tr>\n",
       "    <tr>\n",
       "      <th>97</th>\n",
       "      <td>97</td>\n",
       "    </tr>\n",
       "    <tr>\n",
       "      <th>98</th>\n",
       "      <td>98</td>\n",
       "    </tr>\n",
       "    <tr>\n",
       "      <th>99</th>\n",
       "      <td>99</td>\n",
       "    </tr>\n",
       "  </tbody>\n",
       "</table>\n",
       "</div>"
      ],
      "text/plain": [
       "     0\n",
       "0    0\n",
       "1    1\n",
       "2    2\n",
       "3    3\n",
       "4    4\n",
       "5    5\n",
       "6    6\n",
       "7    7\n",
       "8    8\n",
       "9    9\n",
       "10  10\n",
       "11  11\n",
       "12  12\n",
       "13  13\n",
       "14  14\n",
       "15  15\n",
       "16  16\n",
       "17  17\n",
       "18  18\n",
       "19  19\n",
       "20  20\n",
       "21  21\n",
       "22  22\n",
       "23  23\n",
       "24  24\n",
       "25  25\n",
       "26  26\n",
       "27  27\n",
       "28  28\n",
       "29  29\n",
       "30  30\n",
       "31  31\n",
       "32  32\n",
       "33  33\n",
       "34  34\n",
       "35  35\n",
       "36  36\n",
       "37  37\n",
       "38  38\n",
       "39  39\n",
       "40  40\n",
       "41  41\n",
       "42  42\n",
       "43  43\n",
       "44  44\n",
       "45  45\n",
       "46  46\n",
       "47  47\n",
       "48  48\n",
       "49  49\n",
       "50  50\n",
       "51  51\n",
       "52  52\n",
       "53  53\n",
       "54  54\n",
       "55  55\n",
       "56  56\n",
       "57  57\n",
       "58  58\n",
       "59  59\n",
       "60  60\n",
       "61  61\n",
       "62  62\n",
       "63  63\n",
       "64  64\n",
       "65  65\n",
       "66  66\n",
       "67  67\n",
       "68  68\n",
       "69  69\n",
       "70  70\n",
       "71  71\n",
       "72  72\n",
       "73  73\n",
       "74  74\n",
       "75  75\n",
       "76  76\n",
       "77  77\n",
       "78  78\n",
       "79  79\n",
       "80  80\n",
       "81  81\n",
       "82  82\n",
       "83  83\n",
       "84  84\n",
       "85  85\n",
       "86  86\n",
       "87  87\n",
       "88  88\n",
       "89  89\n",
       "90  90\n",
       "91  91\n",
       "92  92\n",
       "93  93\n",
       "94  94\n",
       "95  95\n",
       "96  96\n",
       "97  97\n",
       "98  98\n",
       "99  99"
      ]
     },
     "execution_count": 67,
     "metadata": {},
     "output_type": "execute_result"
    }
   ],
   "source": [
    "pd.set_option('display.max_rows', 100)\n",
    "\n",
    "df2"
   ]
  },
  {
   "cell_type": "markdown",
   "metadata": {
    "heading_collapsed": true,
    "hidden": true
   },
   "source": [
    "For complete documentation, see [here](https://pandas.pydata.org/pandas-docs/stable/user_guide/options.html)."
   ]
  },
  {
   "cell_type": "code",
   "execution_count": null,
   "metadata": {
    "hidden": true
   },
   "outputs": [],
   "source": []
  }
 ],
 "metadata": {
  "kernelspec": {
   "display_name": "Python 3 (ipykernel)",
   "language": "python",
   "name": "python3"
  },
  "language_info": {
   "codemirror_mode": {
    "name": "ipython",
    "version": 3
   },
   "file_extension": ".py",
   "mimetype": "text/x-python",
   "name": "python",
   "nbconvert_exporter": "python",
   "pygments_lexer": "ipython3",
   "version": "3.11.5"
  },
  "toc": {
   "base_numbering": 1,
   "nav_menu": {},
   "number_sections": true,
   "sideBar": true,
   "skip_h1_title": false,
   "title_cell": "Table of Contents",
   "title_sidebar": "TOC",
   "toc_cell": true,
   "toc_position": {
    "height": "calc(100% - 180px)",
    "left": "10px",
    "top": "150px",
    "width": "288px"
   },
   "toc_section_display": true,
   "toc_window_display": false
  },
  "varInspector": {
   "cols": {
    "lenName": 16,
    "lenType": 16,
    "lenVar": 40
   },
   "kernels_config": {
    "python": {
     "delete_cmd_postfix": "",
     "delete_cmd_prefix": "del ",
     "library": "var_list.py",
     "varRefreshCmd": "print(var_dic_list())"
    },
    "r": {
     "delete_cmd_postfix": ") ",
     "delete_cmd_prefix": "rm(",
     "library": "var_list.r",
     "varRefreshCmd": "cat(var_dic_list()) "
    }
   },
   "types_to_exclude": [
    "module",
    "function",
    "builtin_function_or_method",
    "instance",
    "_Feature"
   ],
   "window_display": false
  }
 },
 "nbformat": 4,
 "nbformat_minor": 4
}
